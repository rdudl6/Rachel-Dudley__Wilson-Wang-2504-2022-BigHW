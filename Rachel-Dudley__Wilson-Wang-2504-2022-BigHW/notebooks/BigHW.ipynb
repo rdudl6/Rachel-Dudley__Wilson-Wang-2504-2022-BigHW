{
 "cells": [
  {
   "cell_type": "markdown",
   "id": "c1c0dac2",
   "metadata": {},
   "source": [
    "# BigHW"
   ]
  },
  {
   "cell_type": "markdown",
   "id": "56ce49b5",
   "metadata": {},
   "source": [
    "## Question 1"
   ]
  },
  {
   "cell_type": "markdown",
   "id": "1ba5c05c",
   "metadata": {},
   "source": [
    "### 1a"
   ]
  },
  {
   "cell_type": "code",
   "execution_count": 22,
   "id": "976650a5",
   "metadata": {},
   "outputs": [],
   "source": [
    "using Latexify #problem installing LatexStrings Package "
   ]
  },
  {
   "cell_type": "markdown",
   "id": "7d90d9a5",
   "metadata": {},
   "source": [
    "### 1b"
   ]
  },
  {
   "cell_type": "markdown",
   "id": "98d32b6d",
   "metadata": {},
   "source": [
    "1.[We Were Liars](https://en.wikipedia.org/wiki/We_Were_Liars)\n",
    "\n",
    "2.[The Brief History of Time](https://en.wikipedia.org/wiki/A_Brief_History_of_Time)\n",
    "\n",
    "3.[The Travelling Cat Chronicles](https://asianwiki.com/The_Travelling_Cat_Chronicles)\n",
    "\n",
    "4.[Quantum Mechanics: The Theoretical Minimum](https://en.wikipedia.org/wiki/The_Theoretical_Minimum)\n",
    "\n",
    "5.[The Giver](https://en.wikipedia.org/wiki/The_Giver)"
   ]
  },
  {
   "cell_type": "markdown",
   "id": "3e3286e6",
   "metadata": {},
   "source": [
    "### 1c"
   ]
  },
  {
   "cell_type": "markdown",
   "id": "2ba8d511",
   "metadata": {},
   "source": [
    "The cute Goldie\n",
    "<a href=\"https://www.animalwised.com/10-things-you-should-know-about-golden-retrievers-904.html\" border = 2>\n",
    "![alt text](https://t1.ea.ltmcdn.com/en/posts/4/0/9/10_things_you_should_know_about_golden_retrievers_904_600.jpg)\n",
    "    </a>\n"
   ]
  },
  {
   "cell_type": "markdown",
   "id": "fc35f8e3",
   "metadata": {},
   "source": [
    "### 1d"
   ]
  },
  {
   "cell_type": "markdown",
   "id": "10ea809e",
   "metadata": {},
   "source": [
    "table, th, td {border:1px solid black; border-collapse: collapse;}\n",
    "<table>\n",
    "    <caption>My Weekly Class Schedule\n",
    "        <tr>\n",
    "            <th>   </th>\n",
    "            <th>Monday</th>\n",
    "            <th>Tuesday</th>\n",
    "            <th>Wendesday</th>\n",
    "            <th>Thursday</th>\n",
    "            <th>Friday</th>\n",
    "        </tr>\n",
    "        <tr>\n",
    "            <th>8-9</th>\n",
    "            <th> </th>\n",
    "            <th> </th>\n",
    "            <th> </th>\n",
    "            <th> </th>\n",
    "            <th>BIOL2202 Lecture</th>\n",
    "        </tr>\n",
    "        <tr>\n",
    "            <th>9-10</th>\n",
    "            <th> </th>\n",
    "            <th> </th>\n",
    "            <th> </th>\n",
    "            <th>PHYS2041 Tutorial</th>\n",
    "            <th> </th>\n",
    "        </tr>\n",
    "        <tr>\n",
    "            <th>10-11</th>\n",
    "            <th> </th>\n",
    "            <th>BIOL2222 Practical </th>\n",
    "            <th>BIOL2222 Practical </th>\n",
    "            <th> </th>\n",
    "            <th> </th>\n",
    "        </tr>\n",
    "        <tr>\n",
    "            <th>11-12</th>\n",
    "            <th> </th>\n",
    "            <th>BIOL2222 Practical </th>\n",
    "            <th>BIOL2222 Practical </th>\n",
    "            <th> </th>\n",
    "            <th> </th>\n",
    "        </tr>\n",
    "         <tr>\n",
    "            <th>12-13</th>\n",
    "            <th>BIOL2202 Lecture </th>\n",
    "            <th>BIOL2222 Practical </th>\n",
    "            <th>BIOL2222 Practical </th>\n",
    "            <th>BIOM2222 Lecture </th>\n",
    "            <th> </th>\n",
    "        </tr>\n",
    "         <tr>\n",
    "            <th>13-14</th> \n",
    "            <th> </th> \n",
    "            <th>BIOL2202 Lecture </th>\n",
    "            <th> </th>\n",
    "            <th> </th>\n",
    "            <th> </th>\n",
    "        </tr>\n",
    "        <tr>\n",
    "         <th>14-15</th>\n",
    "            <th> </th>\n",
    "            <th> </th>\n",
    "            <th> </th>\n",
    "            <th> </th>\n",
    "            <th>MATH2504 Tutorial </th>\n",
    "        </tr>\n",
    "        <tr>\n",
    "        <th>14-15</th>\n",
    "            <th> </th>\n",
    "            <th> </th>\n",
    "            <th> </th>\n",
    "            <th> </th>\n",
    "            <th> </th>\n",
    "        </tr>\n",
    "        <tr>\n",
    "        <th>15-16</th>\n",
    "            <th> </th>\n",
    "            <th> </th>\n",
    "            <th> </th>\n",
    "            <th> </th>\n",
    "            <th> </th>\n",
    "        </tr>\n",
    "        <tr>\n",
    "        <th>16-17</th>\n",
    "            <th> </th>\n",
    "            <th> </th>\n",
    "            <th> </th>\n",
    "            <th> </th>\n",
    "            <th> </th>\n",
    "        </tr>\n",
    "        <tr>\n",
    "        <th>17-18</th>\n",
    "            <th>MATH2504 Lecture </th>\n",
    "            <th> </th>\n",
    "            <th> </th>\n",
    "            <th> </th>\n",
    "            <th> </th>\n",
    "        </tr>\n",
    "        <tr>\n",
    "        <th>18-19</th>\n",
    "            <th>MATH2504 Lecture </th>\n",
    "            <th>MATH2504 Lecture </th>\n",
    "            <th> </th>\n",
    "            <th> </th>\n",
    "            <th> </th>\n",
    "        </tr>"
   ]
  },
  {
   "cell_type": "markdown",
   "id": "0a5d9580",
   "metadata": {},
   "source": [
    "## Question 2"
   ]
  },
  {
   "cell_type": "markdown",
   "id": "a6e01a50",
   "metadata": {},
   "source": [
    "## 2a"
   ]
  },
  {
   "cell_type": "markdown",
   "id": "c832cd49",
   "metadata": {},
   "source": [
    "### 1."
   ]
  },
  {
   "cell_type": "code",
   "execution_count": 23,
   "id": "9239270f",
   "metadata": {},
   "outputs": [
    {
     "data": {
      "text/plain": [
       "2-element Vector{Float64}:\n",
       " 2.0\n",
       " 3.0"
      ]
     },
     "execution_count": 23,
     "metadata": {},
     "output_type": "execute_result"
    }
   ],
   "source": [
    "function real_roots_of_quadratic(a, b, c) # what if there is no ::number\n",
    "\n",
    "    #Start by initializing an empty array\n",
    "    roots::Array{Float64} = []\n",
    "\n",
    "    #Compute the discriminant \n",
    "    Δ = b^2 - 4a*c #\\Delta + [TAB]\n",
    "\n",
    "    #Based on the sign of the discriminant return 0, 1, or 2 roots.\n",
    "    if Δ < 0 \n",
    "        roots = []\n",
    "    elseif Δ == 0\n",
    "        roots = [-b/(2a)]\n",
    "    else\n",
    "        roots = [-b + √Δ, -b - √Δ] / (2a) #\\sqrt + [TAB]\n",
    "    end\n",
    "    return roots \n",
    "end\n",
    "\n",
    "#Attempting on -x²+5x-6=0\n",
    "real_roots_of_quadratic(-1,5,-6)"
   ]
  },
  {
   "cell_type": "markdown",
   "id": "58377327",
   "metadata": {},
   "source": [
    "Yes, it would still work. Since the roots need to be defined as Array of Float 64, if the input is not a number. We would not get a number."
   ]
  },
  {
   "cell_type": "markdown",
   "id": "a005b83e",
   "metadata": {},
   "source": [
    "### 2. "
   ]
  },
  {
   "cell_type": "code",
   "execution_count": 24,
   "id": "a32fd053",
   "metadata": {},
   "outputs": [
    {
     "ename": "LoadError",
     "evalue": "UndefVarError: ac not defined",
     "output_type": "error",
     "traceback": [
      "UndefVarError: ac not defined",
      "",
      "Stacktrace:",
      " [1] real_roots_of_quadratic(a::Int64, b::Int64, c::Int64)",
      "   @ Main ./In[24]:7",
      " [2] top-level scope",
      "   @ In[24]:21",
      " [3] eval",
      "   @ ./boot.jl:373 [inlined]",
      " [4] include_string(mapexpr::typeof(REPL.softscope), mod::Module, code::String, filename::String)",
      "   @ Base ./loading.jl:1196"
     ]
    }
   ],
   "source": [
    "function real_roots_of_quadratic(a::Number, b::Number, c::Number) # what if there is no ::number\n",
    "\n",
    "    #Start by initializing an empty array\n",
    "    roots::Array{Float64} = []\n",
    "\n",
    "    #Compute the discriminant \n",
    "    Δ = b^2 - 4ac #\\Delta + [TAB]\n",
    "\n",
    "    #Based on the sign of the discriminant return 0, 1, or 2 roots.\n",
    "    if Δ < 0 \n",
    "        roots = []\n",
    "    elseif Δ == 0\n",
    "        roots = [-b/(2a)]\n",
    "    else\n",
    "        roots = [-b + √Δ, -b - √Δ] / (2a) #\\sqrt + [TAB]\n",
    "    end\n",
    "    return roots \n",
    "end\n",
    "\n",
    "#Attempting on -x²+5x-6=0\n",
    "real_roots_of_quadratic(-1,5,-6)"
   ]
  },
  {
   "cell_type": "markdown",
   "id": "eef462f4",
   "metadata": {},
   "source": [
    "No, this is because without * as the syntax for multiply, ac is essentially a new variable that we need to define. "
   ]
  },
  {
   "cell_type": "markdown",
   "id": "77c148e1",
   "metadata": {},
   "source": [
    "### 3."
   ]
  },
  {
   "cell_type": "code",
   "execution_count": null,
   "id": "0a9e820a",
   "metadata": {},
   "outputs": [],
   "source": [
    "function real_roots_of_quadratic(a::Number, b::Number, c::Number) # what if there is no ::number\n",
    "\n",
    "    #Start by initializing an empty array\n",
    "    roots::Array{Float64} = []\n",
    "\n",
    "    #Compute the discriminant \n",
    "    Δ = b^2 - 4a*c #\\Delta + [TAB]\n",
    "\n",
    "    #Based on the sign of the discriminant return 0, 1, or 2 roots.\n",
    "    if Δ < 0 \n",
    "        roots = []\n",
    "    elseif Δ = 0\n",
    "        roots = [-b/(2a)]\n",
    "    else\n",
    "        roots = [-b + √Δ, -b - √Δ] / (2a) #\\sqrt + [TAB]\n",
    "    end\n",
    "    return roots \n",
    "end\n",
    "\n",
    "#Attempting on -x²+5x-6=0\n",
    "real_roots_of_quadratic(-1,5,-6)"
   ]
  },
  {
   "cell_type": "markdown",
   "id": "b592f26e",
   "metadata": {},
   "source": [
    "Yes, a syntax error occured. This is because when using \"if\" statement. The condition is discriminant equals to zero. We are checking for the condition not doing the operation of equal itself. "
   ]
  },
  {
   "cell_type": "markdown",
   "id": "35bb4be2",
   "metadata": {},
   "source": [
    "### 4. "
   ]
  },
  {
   "cell_type": "code",
   "execution_count": null,
   "id": "68ad3dfc",
   "metadata": {},
   "outputs": [],
   "source": [
    "function real_roots_of_quadratic(a::Number, b::Number, c::Number) # what if there is no ::number\n",
    "\n",
    "    #Start by initializing an empty array\n",
    "    roots::Array{Float64} = []\n",
    "\n",
    "    #Compute the discriminant \n",
    "    Δ = b^2 - 4a*c #\\Delta + [TAB]\n",
    "\n",
    "    #Based on the sign of the discriminant return 0, 1, or 2 roots.\n",
    "    if Δ < 0 \n",
    "        roots = []\n",
    "    elseif Δ == 0\n",
    "        roots = [-b/(2a)]\n",
    "    else\n",
    "        roots = [-b .+ [√Δ,-√Δ]] / (2a) #\\sqrt + [TAB]\n",
    "    end\n",
    "    return roots \n",
    "end\n",
    "\n",
    "#Attempting on -x²+5x-6=0\n",
    "real_roots_of_quadratic(-1,5,-6)"
   ]
  },
  {
   "cell_type": "markdown",
   "id": "8b3d7812",
   "metadata": {},
   "source": [
    "### 5."
   ]
  },
  {
   "cell_type": "code",
   "execution_count": null,
   "id": "20e2fc83",
   "metadata": {},
   "outputs": [],
   "source": [
    "function real_roots_of_quadratic(a::Number, b::Number, c::Number) # what if there is no ::number\n",
    "\n",
    "    #Start by initializing an empty array\n",
    "    roots::Array{Float64} = []\n",
    "\n",
    "    #Compute the discriminant \n",
    "    Δ = b^2 - 4a*c #\\Delta + [TAB]\n",
    "\n",
    "    #Based on the sign of the discriminant return 0, 1, or 2 roots.\n",
    "    if Δ < 0 \n",
    "        roots = []\n",
    "    elseif Δ == 0\n",
    "        roots = [-b/(2a)]\n",
    "    else\n",
    "        roots = [-b + √Δ, -b - √Δ] / (2a) #\\sqrt + [TAB]\n",
    "    end\n",
    "    roots \n",
    "end\n",
    "\n",
    "#Attempting on -x²+5x-6=0\n",
    "real_roots_of_quadratic(-1,5,-6)"
   ]
  },
  {
   "cell_type": "markdown",
   "id": "5786ec3a",
   "metadata": {},
   "source": [
    "Yes"
   ]
  },
  {
   "cell_type": "markdown",
   "id": "dfd4f98d",
   "metadata": {},
   "source": [
    "### 6."
   ]
  },
  {
   "cell_type": "code",
   "execution_count": null,
   "id": "61eaf5dc",
   "metadata": {},
   "outputs": [],
   "source": [
    "function real_roots_of_quadratic(a::Number, b::Number, c::Number) # what if there is no ::number\n",
    "\n",
    "    #Start by initializing an empty array\n",
    "    roots::Array{Float64} = []\n",
    "\n",
    "    #Compute the discriminant \n",
    "    Δ = b^2 - 4a*c #\\Delta + [TAB]\n",
    "\n",
    "    #Based on the sign of the discriminant return 0, 1, or 2 roots.\n",
    "    if Δ < 0 \n",
    "        roots = []\n",
    "    elseif Δ == 0\n",
    "        roots = [-b/(2a)]\n",
    "    else\n",
    "        roots = [-b + √Δ, -b - √Δ] / (2a) #\\sqrt + [TAB]\n",
    "    end\n",
    "    roots \n",
    "end\n",
    "\n",
    "#Attempting on -x²+5x-6=0\n",
    "real_roots_of_quadratic(0,5,-6)"
   ]
  },
  {
   "cell_type": "markdown",
   "id": "3f2ba570",
   "metadata": {},
   "source": [
    "The results are NaN and -Inf, which means that there is no solution. As, something over 0 is not defined. "
   ]
  },
  {
   "cell_type": "markdown",
   "id": "8d0c8ed4",
   "metadata": {},
   "source": [
    "### 7."
   ]
  },
  {
   "cell_type": "code",
   "execution_count": null,
   "id": "05b843b4",
   "metadata": {},
   "outputs": [],
   "source": [
    "function real_roots_of_quadratic(a::Number, b::Number, c::Number) # what if there is no ::number\n",
    "    if a == 0\n",
    "        return \"Error = this is not a quardractic equation\"\n",
    "    end\n",
    "    #Start by initializing an empty array\n",
    "    roots::Array{Float64} = []\n",
    "\n",
    "    #Compute the discriminant \n",
    "    Δ = b^2 - 4a*c #\\Delta + [TAB]\n",
    "\n",
    "    #Based on the sign of the discriminant return 0, 1, or 2 roots.\n",
    "    if Δ < 0 \n",
    "        roots = []\n",
    "    elseif Δ == 0\n",
    "        roots = [-b/(2a)]\n",
    "    else\n",
    "        roots = [-b + √Δ, -b - √Δ] / (2a) #\\sqrt + [TAB]\n",
    "    end\n",
    "    roots \n",
    "end\n",
    "\n",
    "#Attempting on -x²+5x-6=0\n",
    "real_roots_of_quadratic(0,5,-6)"
   ]
  },
  {
   "cell_type": "markdown",
   "id": "b5705974",
   "metadata": {},
   "source": [
    "### 8."
   ]
  },
  {
   "cell_type": "code",
   "execution_count": null,
   "id": "cda1be02",
   "metadata": {},
   "outputs": [],
   "source": [
    "function real_roots_of_quadratic(a::Number, b::Number, c::Number) # what if there is no ::number\n",
    "   a == 0 && return \"Error - this is not a quadratic equation\"\n",
    "    #Start by initializing an empty array\n",
    "    roots::Array{Float64} = []\n",
    "\n",
    "    #Compute the discriminant \n",
    "    Δ = b^2 - 4a*c #\\Delta + [TAB]\n",
    "\n",
    "    #Based on the sign of the discriminant return 0, 1, or 2 roots.\n",
    "    if Δ < 0 \n",
    "        roots = []\n",
    "    elseif Δ == 0\n",
    "        roots = [-b/(2a)]\n",
    "    else\n",
    "        roots = [-b + √Δ, -b - √Δ] / (2a) #\\sqrt + [TAB]\n",
    "    end\n",
    "    roots \n",
    "end\n",
    "\n",
    "#Attempting on -x²+5x-6=0\n",
    "real_roots_of_quadratic(0,5,-6)"
   ]
  },
  {
   "cell_type": "markdown",
   "id": "ec62184b",
   "metadata": {},
   "source": [
    "Because the \"==\" sign here only fact check if a is 0 or not. It does not define a as equals to 0. Therefore, when inputting the value for a, the operation is allowed to be carried out. On the other hand, if a is defined as 0, \"a == 0\" is true and the statement is returned. "
   ]
  },
  {
   "cell_type": "markdown",
   "id": "31a8c885",
   "metadata": {},
   "source": [
    "### 9."
   ]
  },
  {
   "cell_type": "code",
   "execution_count": null,
   "id": "46045963",
   "metadata": {},
   "outputs": [],
   "source": [
    "function real_roots_of_quadratic(a::Number, b::Number, c::Number) # what if there is no ::number\n",
    "   a == 0 && throw(DomainError(a, \"argument must be nonzero\"))\n",
    "    #Start by initializing an empty array\n",
    "    roots::Array{Float64} = []\n",
    "\n",
    "    #Compute the discriminant \n",
    "    Δ = b^2 - 4a*c #\\Delta + [TAB]\n",
    "\n",
    "    #Based on the sign of the discriminant return 0, 1, or 2 roots.\n",
    "    if Δ < 0 \n",
    "        roots = []\n",
    "    elseif Δ == 0\n",
    "        roots = [-b/(2a)]\n",
    "    else\n",
    "        roots = [-b + √Δ, -b - √Δ] / (2a) #\\sqrt + [TAB]\n",
    "    end\n",
    "    roots \n",
    "end\n",
    "\n",
    "#Attempting on -x²+5x-6=0\n",
    "real_roots_of_quadratic(0,5,-6)"
   ]
  },
  {
   "cell_type": "markdown",
   "id": "992a05e3",
   "metadata": {},
   "source": [
    "Similarly to 8. After fact checking \"a == 0\". The throw syntax makes a == 0 as an exception and then say that the value a = 0 is outside of the domain for the function. "
   ]
  },
  {
   "cell_type": "markdown",
   "id": "eff70821",
   "metadata": {},
   "source": [
    "### 2b.1"
   ]
  },
  {
   "cell_type": "code",
   "execution_count": null,
   "id": "a3e08227",
   "metadata": {},
   "outputs": [],
   "source": [
    "function real_roots_of_quadratic(a, b, c) # what if there is no ::number\n",
    "\n",
    "    #Start by initializing an empty array\n",
    "    roots::Array{Float64} = []\n",
    "\n",
    "    #Compute the discriminant \n",
    "    Δ = b^2 - 4a*c #\\Delta + [TAB]\n",
    "\n",
    "    #Based on the sign of the discriminant return 0, 1, or 2 roots.\n",
    "    if Δ < 0 \n",
    "        roots = []\n",
    "    elseif Δ == 0\n",
    "        roots = [-b/(2a)]\n",
    "    else\n",
    "        roots = [-b + √Δ, -b - √Δ] / (2a) #\\sqrt + [TAB]\n",
    "    end\n",
    "    return roots \n",
    "end\n",
    "\n",
    "for example in examples\n",
    "    roots = real_roots_of_quadratic(example[1], example[2], example[3])\n",
    "    print(\"The equation $(example[1])x² + $(example[2])x + $(example[3]) = 0 \") #\\^2 + [TAB] #***\n",
    "    if length(roots) == 0 #***\n",
    "        println(\"has no real roots.\") #***\n",
    "    elseif length(roots) == 1 #***\n",
    "        println(\"has the single (real) root $(roots[1])\") #***\n",
    "    else #***\n",
    "        println(\"has the real roots $(roots[1]) and $(roots[2])\") #***\n",
    "    end #***\n",
    "end"
   ]
  },
  {
   "cell_type": "markdown",
   "id": "967749b6",
   "metadata": {},
   "source": [
    "## 2b.2"
   ]
  },
  {
   "cell_type": "code",
   "execution_count": null,
   "id": "2391d546",
   "metadata": {},
   "outputs": [],
   "source": [
    "examples = [[1,-5,6], [1,2,3],[1,7,0],[2,-9,-11],[3,3,3]]\n",
    "for i = 1:5\n",
    "example = examples[i] \n",
    "end\n",
    "#the #*** could been function of their own\n",
    "for example in examples\n",
    "    roots = real_roots_of_quadratic(example[1], example[2], example[3])\n",
    "end\n",
    "function print_quadratic_roots(examples, roots)\n",
    "        if length(roots) == 0 #***\n",
    "            return println(\"has no real roots.\") #***\n",
    "        elseif length(roots) == 1 #***\n",
    "             return println(\"has the single (real) root $(roots[1])\") #***\n",
    "        else #***\n",
    "            return println(\"has the real roots $(roots[1]) and $(roots[2])\") #***\n",
    "        end #***\n",
    "return nothing  \n",
    "end\n",
    "print(\"The equation $(example[1])x² + $(example[2])x + $(example[3]) = 0 \")\n"
   ]
  },
  {
   "cell_type": "code",
   "execution_count": null,
   "id": "4a07f1ad",
   "metadata": {},
   "outputs": [],
   "source": [
    "function real_roots_of_quadratic(a, b, c) # what if there is no ::number\n",
    "\n",
    "    #Start by initializing an empty array\n",
    "    roots::Array{Float64} = []\n",
    "\n",
    "    #Compute the discriminant \n",
    "    Δ = b^2 - 4a*c #\\Delta + [TAB]\n",
    "\n",
    "    #Based on the sign of the discriminant return 0, 1, or 2 roots.\n",
    "    if Δ < 0 \n",
    "        roots = []\n",
    "    elseif Δ == 0\n",
    "        roots = [-b/(2a)]\n",
    "    else\n",
    "        roots = [-b + √Δ, -b - √Δ] / (2a) #\\sqrt + [TAB]\n",
    "    end\n",
    "    return roots \n",
    "end\n",
    "\n",
    "examples = [[1,-5,6],[1,2,3],[1,7,0],[2,-9,-11],[3,3,3]]\n",
    "\n",
    "\n",
    "\n",
    "for example in examples\n",
    "    roots = real_roots_of_quadratic(example[1], example[2], example[3])\n",
    "    print(\"The equation $(example[1])x² + $(example[2])x + $(example[3]) = 0 \") #\\^2 + [TAB] #***\n",
    "    print_quadratic_roots(example, roots)\n",
    "end\n",
    "\n",
    "    \n",
    "function print_quadratic_roots(example, roots)\n",
    "    if length(roots) == 0 #***\n",
    "        println(\"has no real roots.\") #***\n",
    "    elseif length(roots) == 1 #***\n",
    "        println(\"has the single (real) root $(roots[1])\") #***\n",
    "    else #***\n",
    "        println(\"has the real roots $(roots[1]) and $(roots[2])\") #***\n",
    "    end #***\n",
    "    return nothing \n",
    "end\n",
    "\n"
   ]
  },
  {
   "cell_type": "markdown",
   "id": "420618f7",
   "metadata": {},
   "source": [
    "## Q2b.3"
   ]
  },
  {
   "cell_type": "code",
   "execution_count": null,
   "id": "29a853e6",
   "metadata": {},
   "outputs": [],
   "source": [
    "function real_roots_of_quadratic(a, b, c) # what if there is no ::number\n",
    "\n",
    "    #Start by initializing an empty array\n",
    "    roots::Array{Float64} = []\n",
    "\n",
    "    #Compute the discriminant \n",
    "    Δ = b^2 - 4a*c #\\Delta + [TAB]\n",
    "\n",
    "    #Based on the sign of the discriminant return 0, 1, or 2 roots.\n",
    "    if Δ < 0 \n",
    "        roots = []\n",
    "    elseif Δ == 0\n",
    "        roots = [-b/(2a)]\n",
    "    else\n",
    "        roots = [-b + √Δ, -b - √Δ] / (2a) #\\sqrt + [TAB]\n",
    "    end\n",
    "    return roots \n",
    "end\n",
    "\n",
    "examples = [[1,-5,6],[1,2,3],[1,7,0],[2,-9,-11],[3,3,3]]\n",
    "\n",
    "\n",
    "\n",
    "for example in examples\n",
    "    roots = real_roots_of_quadratic(example[1], example[2], example[3])\n",
    "    if example[1] == 1 \n",
    "    (\"The equation x²+ $(example[2])x + $(example[3]) = 0 \")\n",
    "    print_quadratic_roots(example, roots)\n",
    "    end \n",
    "    \n",
    "    if example[1] == -1 ? print(\"The equation $(-)x² + $(example[2])x + $(example[3]) = 0 \") : print(\"The equation $(example[1])x² + $(example[2])x + $(example[3]) = 0 \")\n",
    "    print_quadratic_roots(example, roots)\n",
    "    end\n",
    "end\n",
    "\n",
    "    \n",
    "function print_quadratic_roots(example, roots)\n",
    "    if length(roots) == 0\n",
    "        println(\"has no real roots.\")\n",
    "    elseif length(roots) == 1 ? println(\"has the single (real) root $(roots[1])\") : println(\"has the real roots $(roots[1]) and $(roots[2])\")\n",
    "    end\n",
    "return nothing \n",
    "end\n"
   ]
  },
  {
   "cell_type": "code",
   "execution_count": null,
   "id": "a498f116",
   "metadata": {},
   "outputs": [],
   "source": [
    "examples = [[1,-5,6], [1,2,3],[1,7,0],[2,-9,-11],[3,3,3]]\n",
    "#the #*** could been function of their own\n",
    "for example in examples\n",
    "    roots = real_roots_of_quadratic(example[1], example[2], example[3])\n",
    "    print(\"The equation $(example[1])x² + $(example[2])x + $(example[3]) = 0 \") #\\^2 + [TAB] #***\n",
    "  \n",
    "    function print_quadratic_roots(examples, roots)\n",
    "        length(roots) == 0 && println(\"has no real roots\")\n",
    "        length(roots) == 1 && println(\"has the single (real) root $roots[1]\")\n",
    "    return nothing\n",
    "    end \n",
    "end"
   ]
  },
  {
   "cell_type": "markdown",
   "id": "f46d16f7",
   "metadata": {},
   "source": [
    "# Q3"
   ]
  },
  {
   "cell_type": "markdown",
   "id": "64ebfcfb",
   "metadata": {},
   "source": [
    "## 3a"
   ]
  },
  {
   "cell_type": "markdown",
   "id": "85e0bc6a",
   "metadata": {},
   "source": [
    "### 2."
   ]
  },
  {
   "cell_type": "markdown",
   "id": "b03ac675",
   "metadata": {},
   "source": [
    "For $x_{o} \\in \\mathbb{Z}^+$ and $k \\in \\mathbb{Z}^+$\\\n",
    "$$\n",
    "x_n= \n",
    "\\begin{cases}\n",
    "\\frac{1}{2}x_{n-1}, &\\text{for $x_{n-1} \\in 2k$} \\\\\n",
    "3x_{n-1}+1, &\\text{for $x_{n} \\in 2k+1$}\n",
    "\\end{cases}\n",
    "$$"
   ]
  },
  {
   "cell_type": "markdown",
   "id": "30a0c3b7",
   "metadata": {},
   "source": [
    "## Q4"
   ]
  },
  {
   "cell_type": "markdown",
   "id": "b16f2b65",
   "metadata": {},
   "source": [
    "### Q4.a"
   ]
  },
  {
   "cell_type": "code",
   "execution_count": null,
   "id": "4f765587",
   "metadata": {},
   "outputs": [],
   "source": [
    "random_binary_string(n = 12) = *([rand(['0','1']) for _ in 1:n]...)\n",
    "#random_binary_string = random_binary_string*The_number'0' or '1'\n",
    "#rand() randomly choose the between value 0 and 1 \n",
    "#for _ in is like for the x position in the array\n",
    "#So the function has 12 positions in the array and randomly generate value 0 or 1\n",
    "random_hex_string(n=3) = *([rand(union('0':'9','A':'F')) for _ in 1:n]...);\n",
    "#for the 3 positions in the hex strings array randomely choose the number or letters from 0-9 or from A to F"
   ]
  },
  {
   "cell_type": "code",
   "execution_count": null,
   "id": "ba6d214d",
   "metadata": {},
   "outputs": [],
   "source": [
    "using Random\n",
    "Random.seed!(0)\n",
    "@show random_binary_string() \n",
    "@show random_hex_string();\n",
    "@show typeof(random_binary_string())\n",
    "@show typeof(random_hex_string())\n",
    "binary = [parse(Float64, random_binary_string(), base = 2)]\n",
    "@show random_binary_string()\n",
    "#parse(UInt8, random_hex_string())"
   ]
  },
  {
   "cell_type": "markdown",
   "id": "c84532bb",
   "metadata": {},
   "source": [
    "1.For the array postion 1 to 12 put in the values of 1 or 0 from the syntax rand().\n",
    "\n",
    "2. For the array position from 1 to 3 put a random value from 0 to 9 or A to F in each position. This allows 4096 (16^3) numbers to be defined.\n"
   ]
  },
  {
   "cell_type": "markdown",
   "id": "bb3c04f2",
   "metadata": {},
   "source": [
    "## Q4.b"
   ]
  },
  {
   "cell_type": "markdown",
   "id": "d9dfe474",
   "metadata": {},
   "source": [
    "The predicted number was: 2047500 (Remember to describe how you get there!!!!!!!!) \n",
    "The number generated by Random.seed!(0) was 2001912 which is pretty close"
   ]
  },
  {
   "cell_type": "code",
   "execution_count": null,
   "id": "0c4e9bd4",
   "metadata": {},
   "outputs": [],
   "source": [
    "#Create functions that put the arrays above to arrays of numerical values and find the sum\n",
    "#The values should be two decimal numbers\n",
    "#How to define numbers when there is only 12 bits-> it defines decimal numbers\n",
    "using Random\n",
    "Random.seed!(0)\n",
    "r_bin_strs = [random_binary_string() for _ in 1:10^3]\n",
    "Q4b = [parse(Int, a, base = 2) for a in r_bin_strs]\n",
    "@show typeof(Q4b)\n",
    "@show Q4b\n",
    "sum_of_binary = sum(Q4b)\n",
    "@show sum_of_binary\n",
    "#function sum_of_binary(x)\n",
    "    #s = sum(x)\n",
    "    #return s\n",
    "#end\n",
    "\n",
    "#Hint for efficiency of the code"
   ]
  },
  {
   "cell_type": "code",
   "execution_count": null,
   "id": "7a69ed4b",
   "metadata": {},
   "outputs": [],
   "source": [
    "using Random\n",
    "Random.seed!(0)\n",
    "r_hex_strs = [random_hex_string() for _ in 1:10^3]\n",
    "Q4b_h = [parse(Int, b, base = 16) for b in r_hex_strs]\n",
    "@show typeof(Q4b_h)\n",
    "@show Q4b_h\n",
    "sum_of_hex = sum(Q4b_h)\n",
    "@show sum_of_hex"
   ]
  },
  {
   "cell_type": "markdown",
   "id": "bcfef871",
   "metadata": {},
   "source": [
    "The prediction was: 2184000 by taking the average of hexadecimal numbers at each position and do the hex operation. "
   ]
  },
  {
   "cell_type": "code",
   "execution_count": null,
   "id": "93e18581",
   "metadata": {},
   "outputs": [],
   "source": [
    "#From unit 1 lecture 1\n",
    "using LaTeXStrings, Random\n",
    "\n",
    "println(\"The digits:\")\n",
    "print(\"Hex:\\t\")\n",
    "[print(string(n, base = 16), n<10 ? \" \" : \"  \") for n in 0:15];\n",
    "#print array of string for n is element of 0 to 15 \n",
    "println()\n",
    "print(\"Decimal:\")\n",
    "data = [0x0, 0x1, 0x2, 0x3, 0x4, 0x5, 0x6, 0x7, 0x8, 0x9, 0xA, 0xB, 0xC, 0xD, 0xE, 0xF]\n",
    "[print(n, \" \") for n in data];\n",
    "\n",
    "println(\"\\n\\nSome random values:\")\n",
    "Random.seed!(1)\n",
    "for _ in 1:5\n",
    "    x = rand(UInt8)\n",
    "    println(\"In decimal (base 10): $x,\\t In hex (base 16): $(string(x,base=16))\")\n",
    "end"
   ]
  },
  {
   "cell_type": "markdown",
   "id": "1d4eb724",
   "metadata": {},
   "source": [
    "## Q4.c"
   ]
  },
  {
   "cell_type": "code",
   "execution_count": null,
   "id": "b2f01b79",
   "metadata": {},
   "outputs": [],
   "source": [
    "#Create functions that put the arrays above to arrays of numerical values and find the sum\n",
    "#The values should be two decimal numbers\n",
    "#How to define numbers when there is only 12 bits-> it defines decimal numbers\n",
    "using Random\n",
    "Random.seed!(0)\n",
    "r_bin_strs = [random_binary_string() for _ in 1:10^3]\n",
    "Q4b = [parse(Int, a, base = 2) for a in r_bin_strs]\n",
    "@show typeof(Q4b)\n",
    "@show Q4b\n",
    "sum_of_binary = sum(Q4b)\n",
    "@show sum_of_binary\n",
    "#function sum_of_binary(x)\n",
    "    #s = sum(x)\n",
    "    #return s\n",
    "#end\n",
    "\n",
    "#Hint for efficiency of the code\n",
    "\n",
    "\n",
    "function convert_bin(x::Int)\n",
    "    binary_as_num = 0\n",
    "    base = [1 ,2 ,4 ,8 ,16 ,32 ,64 ,128 ,256, 512 ,1024 ,2048]\n",
    "    \n",
    "    while x > 0\n",
    "        for i in base\n",
    "            remainder = x % 10\n",
    "            binary_as_num += (remainder * i)\n",
    "            x = floor(x/10)\n",
    "        end\n",
    "    end\n",
    "    \n",
    "    return binary_as_num\n",
    "end"
   ]
  },
  {
   "cell_type": "code",
   "execution_count": null,
   "id": "ecc85c06",
   "metadata": {},
   "outputs": [],
   "source": [
    "for i in Q4b\n",
    "    convert_bin(100010110101)\n",
    "end "
   ]
  },
  {
   "cell_type": "code",
   "execution_count": null,
   "id": "ea4c11d0",
   "metadata": {},
   "outputs": [],
   "source": [
    "using Random\n",
    "Random.seed!(0)\n",
    "part_of_binary = [i for i in 1:12]\n",
    "function convert_binary(x)\n",
    "    while x >= 1\n",
    "        for i ∈ 1:12\n",
    "            base = 2\\(i-1)\n",
    "            Remainder = x%10\n",
    "            new_number = floor(x/10)\n",
    "            part_of_binary_0 = Remainder * base\n",
    "            part_of_binary[i] = part_of_binary_0\n",
    "            x = floor(x/10)\n",
    "        end\n",
    "    end\n",
    "end\n",
    "@show sum(part_of_binary)\n",
    "\n",
    "r_bin_strs = [random_binary_string() for _ in 1:10^3]"
   ]
  },
  {
   "cell_type": "code",
   "execution_count": null,
   "id": "6a3b491f",
   "metadata": {},
   "outputs": [],
   "source": []
  },
  {
   "cell_type": "code",
   "execution_count": null,
   "id": "69d8100b",
   "metadata": {},
   "outputs": [],
   "source": [
    "# using Random\n",
    "# Random.seed!(0)\n",
    "# #x = r_bin_strs = [random_binary_string() for _ in 1:10^3]\n",
    "# x = 101010101010\n",
    "# @show convert_binary(x)\n",
    "# @show sum(part_of_binary)"
   ]
  },
  {
   "cell_type": "code",
   "execution_count": null,
   "id": "ef53ba1b",
   "metadata": {},
   "outputs": [],
   "source": [
    "#Q3 b\n",
    "using Plots\n",
    "function hail_length(x::Int)\n",
    "    n = 0\n",
    "    while x != 1\n",
    "        x = ((x % 2 == 0) ? (x ÷ 2) : (3x + 1))\n",
    "        n += 1\n",
    "    end\n",
    "    return n\n",
    "end\n",
    "\n",
    "\n",
    "function hail_max(N)\n",
    "    max_n = -Inf\n",
    "    for x in 1:N\n",
    "        n = hail_length(x)\n",
    "        if n > max_n\n",
    "            max_n = n\n",
    "        end\n",
    "    end\n",
    "    return max_n\n",
    "end\n",
    "\n",
    "step_range = 1:10^4\n",
    "max_vals = [hail_max(N) for N in step_range]\n",
    "plot(step_range, max_vals, xaxis=:log, \n",
    "\n",
    "    label=false, xlabel=\"Maximal initial value\", ylabel=\"Maximal number of steps\")"
   ]
  },
  {
   "cell_type": "code",
   "execution_count": null,
   "id": "521b0ed3",
   "metadata": {},
   "outputs": [],
   "source": [
    "#For Q8\n",
    "function find_bigger(x,y;by=identity)\n",
    "       if by(x) > by(y)\n",
    "           return x\n",
    "       else\n",
    "           return y\n",
    "       end\n",
    "       end"
   ]
  },
  {
   "cell_type": "code",
   "execution_count": null,
   "id": "986f2436",
   "metadata": {},
   "outputs": [],
   "source": [
    "parse(Int,\"11\",base=10)"
   ]
  },
  {
   "cell_type": "markdown",
   "id": "bc0ee5c5",
   "metadata": {},
   "source": [
    "# Q4c Hex representation"
   ]
  },
  {
   "cell_type": "code",
   "execution_count": 33,
   "id": "da1adcdb",
   "metadata": {},
   "outputs": [
    {
     "name": "stdout",
     "output_type": "stream",
     "text": [
      "dict_hex = [\"0\", \"1\", \"2\", \"3\", \"4\", \"5\", \"6\", \"7\", \"8\", \"9\", \"A\", \"B\", \"C\", \"D\", \"E\", \"F\"]\n",
      "dict_values = [0, 1, 2, 3, 4, 5, 6, 7, 8, 9, 10, 11, 12, 13, 14, 15]\n",
      "typeof(array_base) = Vector{Int64}\n",
      "typeof(A) = Vector{Int64}\n"
     ]
    },
    {
     "data": {
      "text/plain": [
       "convert_hex (generic function with 2 methods)"
      ]
     },
     "execution_count": 33,
     "metadata": {},
     "output_type": "execute_result"
    }
   ],
   "source": [
    "hex_base = [0:15] #define array of hex number\n",
    "dict_hex = Array{String}(undef,0) #create an empty array for the hex strings\n",
    "dict_values = Array{Int64}(undef,0) #create an empty array for the hex number in int\n",
    "array_base = [16^2, 16^1, 16^0] #the bases of the array for the calculation\n",
    "A = Array{Int64}(undef,3)\n",
    "function add_hex_values(dict_hex,dict_values,new_dict_hex,new_dict_values) #function that pair up the values of hex with the the strings\n",
    "    push!(dict_hex, new_dict_hex)\n",
    "    push!(dict_values, new_dict_values)\n",
    "end\n",
    "#pushing each values and strings into the arraies\n",
    "add_hex_values(dict_hex,dict_values,\"0\",0)\n",
    "add_hex_values(dict_hex,dict_values,\"1\",1)\n",
    "add_hex_values(dict_hex,dict_values,\"2\",2)\n",
    "add_hex_values(dict_hex,dict_values,\"3\",3)\n",
    "add_hex_values(dict_hex,dict_values,\"4\",4)\n",
    "add_hex_values(dict_hex,dict_values,\"5\",5)\n",
    "add_hex_values(dict_hex,dict_values,\"6\",6)\n",
    "add_hex_values(dict_hex,dict_values,\"7\",7)\n",
    "add_hex_values(dict_hex,dict_values,\"8\",8)\n",
    "add_hex_values(dict_hex,dict_values,\"9\",9)\n",
    "add_hex_values(dict_hex,dict_values,\"A\",10)\n",
    "add_hex_values(dict_hex,dict_values,\"B\",11)\n",
    "add_hex_values(dict_hex,dict_values,\"C\",12)\n",
    "add_hex_values(dict_hex,dict_values,\"D\",13)\n",
    "add_hex_values(dict_hex,dict_values,\"E\",14)\n",
    "add_hex_values(dict_hex,dict_values,\"F\",15)\n",
    "\n",
    "function bind_hex_values(dict_hex, dict_values,x)\n",
    "    for (i,k) in enumerate(dict_hex) #for ith and kth elements in the order of hex\n",
    "    k == x && return dict_values[i]              #k values is equal to the ith values of dict_values            #dont really get this bit\n",
    "    end\n",
    "end\n",
    "@show dict_hex\n",
    "@show dict_values\n",
    "@show typeof(array_base)\n",
    "@show typeof(A)\n",
    "bind_hex_values(dict_hex, dict_values, \"D\")\n",
    "x=\"61D\"\n",
    "function convert_hex(x)\n",
    "    y = split(x,\"\")\n",
    "        for i ∈ 1:3\n",
    "            A[i] = (bind_hex_values(dict_hex, dict_values,y[i])*(array_base[i])) #This is where the confusion occurs\n",
    "        end \n",
    "    return sum(A)\n",
    "end "
   ]
  },
  {
   "cell_type": "code",
   "execution_count": 34,
   "id": "f5849413",
   "metadata": {},
   "outputs": [
    {
     "data": {
      "text/plain": [
       "1823"
      ]
     },
     "execution_count": 34,
     "metadata": {},
     "output_type": "execute_result"
    }
   ],
   "source": [
    "convert_hex(\"71F\")"
   ]
  },
  {
   "cell_type": "code",
   "execution_count": 3,
   "id": "3910f508",
   "metadata": {},
   "outputs": [
    {
     "name": "stdout",
     "output_type": "stream",
     "text": [
      "length(y) = 3\n",
      "y[1] = \"6\"\n"
     ]
    },
    {
     "ename": "LoadError",
     "evalue": "UndefVarError: C not defined",
     "output_type": "error",
     "traceback": [
      "UndefVarError: C not defined",
      "",
      "Stacktrace:",
      " [1] top-level scope",
      "   @ show.jl:1047",
      " [2] eval",
      "   @ ./boot.jl:373 [inlined]",
      " [3] include_string(mapexpr::typeof(REPL.softscope), mod::Module, code::String, filename::String)",
      "   @ Base ./loading.jl:1196"
     ]
    }
   ],
   "source": [
    "x = \"61D\"\n",
    "y = split(x,\"\")\n",
    "@show length(y)\n",
    "@show y[1]\n",
    "B = Array{Int64}(undef, 0)\n",
    "function trial(y)\n",
    "        for i ∈ 1:3\n",
    "            C = push!(bind_hex_values(dict_hex, dict_values,y[i])*array_base[i], B)\n",
    "        end\n",
    "    return C\n",
    "end\n",
    "@show C"
   ]
  },
  {
   "cell_type": "code",
   "execution_count": null,
   "id": "f328e48d",
   "metadata": {},
   "outputs": [],
   "source": [
    "@show typeof(abc)"
   ]
  },
  {
   "cell_type": "code",
   "execution_count": 155,
   "id": "e6e129f8",
   "metadata": {},
   "outputs": [
    {
     "ename": "LoadError",
     "evalue": "BoundsError: attempt to access 0-element Vector{Int64} at index [1]",
     "output_type": "error",
     "traceback": [
      "BoundsError: attempt to access 0-element Vector{Int64} at index [1]",
      "",
      "Stacktrace:",
      " [1] setindex!(A::Vector{Int64}, x::Int64, i1::Int64)",
      "   @ Base ./array.jl:903",
      " [2] convert_hex(x::String)",
      "   @ Main ./In[154]:42",
      " [3] top-level scope",
      "   @ In[155]:2",
      " [4] eval",
      "   @ ./boot.jl:373 [inlined]",
      " [5] include_string(mapexpr::typeof(REPL.softscope), mod::Module, code::String, filename::String)",
      "   @ Base ./loading.jl:1196"
     ]
    }
   ],
   "source": [
    "x = \"61D\"\n",
    "convert_hex(x)"
   ]
  },
  {
   "cell_type": "code",
   "execution_count": 27,
   "id": "8999389c",
   "metadata": {},
   "outputs": [],
   "source": [
    "#Q7 \n",
    "#meaning of ; optional name arguement. There is no arguemnt needed its like default setting. "
   ]
  },
  {
   "cell_type": "markdown",
   "id": "33f0bae8",
   "metadata": {},
   "source": [
    "# Q6"
   ]
  },
  {
   "cell_type": "code",
   "execution_count": null,
   "id": "867b56f1",
   "metadata": {},
   "outputs": [],
   "source": [
    "\"\"\"\n",
    "Returns the all the primes up to n.\n",
    "\"\"\"\n",
    "function TEST_sieve_of_Eratosthenes(n)  \n",
    "    primebits = ones(Bool,n) #Will contain true if the index is prime (initially all assumed prime)\n",
    "    primebits[1] = false #The number 1 is not prime\n",
    "    p = 2 #Smallest prime\n",
    "    while p ≤ n #while the prime number is smaller than n\n",
    "        i = 2p  #i is 2 times p \n",
    "        while i ≤ n  # \\le +[TAB] while i is smaller or equals to n\n",
    "            primebits[i] = false #The number in the ith element is not a prime number\n",
    "            i += p  # #i = i + p\n",
    "        end\n",
    "        p += 1 #p = p + 1\n",
    "        while p ≤ n && !primebits[p] #if p is smaller or equal to n sort primebits[p]\n",
    "            p += 1 # p = p + 1\n",
    "        end\n",
    "    end\n",
    "    (1:n)[primebits] # 1 to n in the array of prime bits\n",
    "end\n",
    "\n",
    "n = 10\n",
    "primebits = TEST_sieve_of_Eratosthenes(n)\n",
    "@show primebits \n",
    "@show collect(1:n)\n",
    "@show (1:n)[primebits]"
   ]
  },
  {
   "cell_type": "code",
   "execution_count": null,
   "id": "1842d0a6",
   "metadata": {},
   "outputs": [],
   "source": [
    "\"\"\"\n",
    "Returns the all the primes up to n.\n",
    "\"\"\"\n",
    "#define an empty array here to initialise the storage to all the prime\n",
    "p_array = Array{Int64}(undef,n)\n",
    "function sieve_of_Eratosthenes(n)  \n",
    "    primebits = ones(Bool,n) #Will contain true if the index is prime (initially all assumed prime)\n",
    "    primebits[1] = false #The number 1 is not prime\n",
    "    p = 2 #Smallest prime\n",
    "    while p ≤ n #while the prime number is smaller than n\n",
    "        i = 2p  #i is 2 times p \n",
    "        while i ≤ n  # \\le +[TAB] while i is smaller or equals to n\n",
    "            primebits[i] = false #The number in the ith element is not a prime number\n",
    "            i += p  # #i = i + p\n",
    "        end\n",
    "        p += 1 #p = p + 1\n",
    "        while p ≤ n && !primebits[p] #if p is smaller or equal to n sort primebits[p]\n",
    "            p += 1 # p = p + 1\n",
    "            #p_array = push!(primebits[i],p_array)\n",
    "        end\n",
    "    end\n",
    "    (1:n)[primebits]\n",
    "    #p_array = push!(sieve_of_Eratosthenes(n), p_array) # 1 to n in the array of prime bits\n",
    "end\n",
    "p_array = sieve_of_Eratosthenes(n)  \n",
    "@show p_array\n",
    "@show typeof(p_array)\n",
    "@show length(p_array)\n",
    "n = 30\n",
    "println(\"First $n primes: \", sieve_of_Eratosthenes(n))\n",
    "#println(\"First $n primes: \",p_array)\n"
   ]
  },
  {
   "cell_type": "code",
   "execution_count": null,
   "id": "95c5654f",
   "metadata": {},
   "outputs": [],
   "source": [
    "#The goal is to modify the code so that it only counts each pair once\n",
    "#For instance, for 22, the possible Goldbach pairs are 3+19, 5 +17, 11+11, (19+3 ), (17+5)\n",
    "#But essentially 2+21 and 21+2 are the same. So the pairing should be less. But the code double count each one\n",
    "#We only need to count the first half of the prime numbers\n",
    "using Plots\n",
    "function check_Goldbach(n)\n",
    "    @assert iseven(n) #if the condition is fails throw an assertion error/ iseven make sure the input values are even\n",
    "    num_pairs = 0\n",
    "    if isodd(length(p_array))\n",
    "        for i ∈ 1:Int((length(p_array)+1)/2)\n",
    "            p_array[i] in sieve_of_Eratosthenes(n) #for the prime number stated above\n",
    "                if in(n-p_array[i], sieve_of_Eratosthenes(n)) # if p is an element of n - p in the array of sieve_\n",
    "                                            #because even number minus prime number is a prime number\n",
    "                    num_pairs += 1 #num_pairs = num_pairs + 1\n",
    "                end\n",
    "        return num_pairs\n",
    "    end\n",
    "    elseif iseven(length(p_array))\n",
    "        for i ∈ 1:Int(length(p_array)/2)\n",
    "            p_array[i] in sieve_of_Eratosthenes(n) #for the prime number stated above\n",
    "                if in(n-p_array[i], sieve_of_Eratosthenes(n)) # if p is an element of n - p in the array of sieve_\n",
    "                                            #because even number minus prime number is a prime number\n",
    "                    num_pairs += 1 #num_pairs = num_pairs + 1\n",
    "                end\n",
    "        end\n",
    "        return num_pairs\n",
    "\n",
    "    end\n",
    "end\n",
    "################# work on even and odd numbner of length of the array to produce different things\n",
    "n = 30\n",
    "even_range = 4:2:n #all the even numbers upto 10^3\n",
    "checks = check_Goldbach.(even_range) #the function check_Goldbach applies to all numbers in even_range\n",
    "if 0 ∈ checks #if n - p is zero then we found a contour example to the conjecture\n",
    "    println(\"Found a counter example for Goldbach\")\n",
    "end\n",
    "@show length(p_array)\n",
    "scatter(even_range,checks,legend=false,xlabel=\"n\",ylabel=\"Number of Goldbach pairs\")\n",
    "#scatter(x,y,legend)"
   ]
  },
  {
   "cell_type": "code",
   "execution_count": null,
   "id": "bcb4cb51",
   "metadata": {},
   "outputs": [],
   "source": [
    "iseven(length(p_array))"
   ]
  },
  {
   "cell_type": "code",
   "execution_count": null,
   "id": "9b6a148c",
   "metadata": {},
   "outputs": [],
   "source": [
    "#The goal is to modify the code so that it only counts each pair once\n",
    "using Plots\n",
    "function check_Goldbach(n)\n",
    "    @assert iseven(n) #if the condition is fails throw an assertion error/ iseven make sure the input values are even\n",
    "    num_pairs = 0\n",
    "    for p in sieve_of_Eratosthenes(n) #for the prime number stated above\n",
    "        if in(n-p,sieve_of_Eratosthenes(n)) # if p is element of n - p in the array of sieve_\n",
    "            #because even number minus prime number is a prime number\n",
    "            num_pairs += 1 #num_pairs = num_pairs + 1\n",
    "        end\n",
    "    end\n",
    "    return num_pairs\n",
    "end\n",
    "\n",
    "n = 10^3 \n",
    "even_range = 4:2:n #all the even numbers upto 10^3\n",
    "checks = check_Goldbach.(even_range) #the function check_Goldbach applies to all numbers in even_range\n",
    "if 0 ∈ checks #if n - p is zero then we found a contour example to the conjecture\n",
    "    println(\"Found a counter example for Goldbach\")\n",
    "end\n",
    "scatter(even_range,checks,legend=false,xlabel=\"n\",ylabel=\"Number of Goldbach pairs\")\n",
    "#scatter(x,y,legend)"
   ]
  },
  {
   "cell_type": "code",
   "execution_count": null,
   "id": "6757688e",
   "metadata": {},
   "outputs": [],
   "source": [
    "using Plots\n",
    "function check_Goldbach(n)\n",
    "    @assert iseven(n)\n",
    "    num_pairs = 0\n",
    "    for p in sieve_of_Eratosthenes(n)\n",
    "        if in(n-p,sieve_of_Eratosthenes(n))\n",
    "            num_pairs += 1\n",
    "        end\n",
    "    end\n",
    "    return num_pairs\n",
    "end\n",
    "\n",
    "n = 30\n",
    "even_range = 4:2:n\n",
    "checks = check_Goldbach.(even_range)\n",
    "if 0 ∈ checks\n",
    "    println(\"Found a counter example for Goldbach\")\n",
    "end\n",
    "scatter(even_range,checks,legend=false,xlabel=\"n\",ylabel=\"Number of Goldbach pairs\")"
   ]
  },
  {
   "cell_type": "code",
   "execution_count": null,
   "id": "775a4d35",
   "metadata": {},
   "outputs": [],
   "source": [
    "\"\"\"\n",
    "Returns the all the primes up to n.\n",
    "\"\"\"\n",
    "n = 30\n",
    "#define an empty array here to initialise the storage to all the prime\n",
    "p_array = Array{Int64}(undef,n)\n",
    "function sieve_of_Eratosthenes(n)  \n",
    "    primebits = ones(Bool,n) #Will contain true if the index is prime (initially all assumed prime)\n",
    "    primebits[1] = false #The number 1 is not prime\n",
    "    p = 2 #Smallest prime\n",
    "    while p ≤ n #while the prime number is smaller than n\n",
    "        i = 2p  #i is 2 times p \n",
    "        while i ≤ n  # \\le +[TAB] while i is smaller or equals to n\n",
    "            primebits[i] = false #The number in the ith element is not a prime number\n",
    "            i += p  # #i = i + p\n",
    "        end\n",
    "        p += 1 #p = p + 1\n",
    "        while p ≤ n && !primebits[p] #if p is smaller or equal to n sort primebits[p]\n",
    "            p += 1 # p = p + 1\n",
    "            #p_array = push!(primebits[i],p_array)\n",
    "        end\n",
    "    end\n",
    "    (1:n)[primebits]\n",
    "    #p_array = push!(sieve_of_Eratosthenes(n), p_array) # 1 to n in the array of prime bits\n",
    "end\n",
    "p_array = sieve_of_Eratosthenes(n)  \n",
    "@show p_array\n",
    "@show typeof(p_array)\n",
    "@show length(p_array)\n",
    "println(\"First $n primes: \", sieve_of_Eratosthenes(n))\n",
    "#println(\"First $n primes: \",p_array)"
   ]
  },
  {
   "cell_type": "code",
   "execution_count": null,
   "id": "0971e7ff",
   "metadata": {},
   "outputs": [],
   "source": [
    "\"\"\"\n",
    "Returns the all the primes up to n.\n",
    "\"\"\"\n",
    "#n = 48 the code stop working \n",
    "n = 6\n",
    "#define an empty array here to initialise the storage to all the prime\n",
    "p_array = Array{Int64}(undef,n)\n",
    "function sieve_of_Eratosthenes(n)  \n",
    "    primebits = ones(Bool,n) #Will contain true if the index is prime (initially all assumed prime)\n",
    "    primebits[1] = false #The number 1 is not prime\n",
    "    p = 2 #Smallest prime\n",
    "    while p ≤ n #while the prime number is smaller than n\n",
    "        i = 2p  #i is 2 times p \n",
    "        while i ≤ n  # \\le +[TAB] while i is smaller or equals to n\n",
    "            primebits[i] = false #The number in the ith element is not a prime number\n",
    "            i += p  # #i = i + p\n",
    "        end\n",
    "        p += 1 #p = p + 1\n",
    "        while p ≤ n && !primebits[p] #if p is smaller or equal to n sort primebits[p]\n",
    "            p += 1 # p = p + 1\n",
    "            #p_array = push!(primebits[i],p_array)\n",
    "        end\n",
    "    end\n",
    "    (1:n)[primebits]\n",
    "    #p_array = push!(sieve_of_Eratosthenes(n), p_array) # 1 to n in the array of prime bits\n",
    "end\n",
    "p_array = sieve_of_Eratosthenes(n)  \n",
    "@show p_array\n",
    "@show typeof(p_array)\n",
    "@show length(p_array)\n",
    "println(\"First $n primes: \", sieve_of_Eratosthenes(n))\n",
    "#println(\"First $n primes: \",p_array)\n",
    "\n",
    "\n",
    "\n",
    "#The goal is to modify the code so that it only counts each pair once\n",
    "#For instance, for 22, the possible Goldbach pairs are 3+19, 5 +17, 11+11, (19+3 ), (17+5)\n",
    "#But essentially 2+21 and 21+2 are the same. So the pairing should be less. But the code double count each one\n",
    "#We only need to count the first half of the prime numbers\n",
    "using Plots\n",
    "function check_Goldbach(n)\n",
    "    @assert iseven(n) #if the condition is fails throw an assertion error/ iseven make sure the input values are even\n",
    "    num_pairs = 0\n",
    "    if isodd(length(p_array)) ##Problem arrised when the length of array is odd\n",
    "        for i ∈ 1:Int((length(p_array)+1)/2)\n",
    "            p_array[i] in sieve_of_Eratosthenes(n) #for the prime number stated above\n",
    "                if in(n-p_array[i], sieve_of_Eratosthenes(n)) # if p is an element of n - p in the array of sieve_\n",
    "                                            #because even number minus prime number is a prime number\n",
    "                    num_pairs += 1 #num_pairs = num_pairs + 1\n",
    "                end\n",
    "        return num_pairs\n",
    "    end\n",
    "    elseif iseven(length(p_array))\n",
    "        for i ∈ 1:Int(length(p_array)/2)\n",
    "            p_array[i] in sieve_of_Eratosthenes(n) #for the prime number stated above\n",
    "                if in(n-p_array[i], sieve_of_Eratosthenes(n)) # if p is an element of n - p in the array of sieve_\n",
    "                                            #because even number minus prime number is a prime number\n",
    "                    num_pairs += 1 #num_pairs = num_pairs + 1\n",
    "                end\n",
    "        end\n",
    "        return num_pairs\n",
    "\n",
    "    end\n",
    "end\n",
    "################# work on even and odd numbner of length of the array to produce different things\n",
    "#n = 30\n",
    "even_range = 4:2:n #all the even numbers upto 10^3\n",
    "checks = check_Goldbach.(even_range) #the function check_Goldbach applies to all numbers in even_range\n",
    "if 0 ∈ checks #if n - p is zero then we found a contour example to the conjecture\n",
    "    println(\"Found a counter example for Goldbach\")\n",
    "end\n",
    "@show length(p_array)\n",
    "scatter(even_range,checks,legend=false,xlabel=\"n\",ylabel=\"Number of Goldbach pairs\")\n",
    "#scatter(x,y,legend)"
   ]
  },
  {
   "cell_type": "code",
   "execution_count": null,
   "id": "7d6881a1",
   "metadata": {},
   "outputs": [],
   "source": [
    "#The goal is to modify the code so that it only counts each pair once\n",
    "#For instance, for 22, the possible Goldbach pairs are 3+19, 5 +17, 11+11, (19+3 ), (17+5)\n",
    "#But essentially 2+21 and 21+2 are the same. So the pairing should be less. But the code double count each one\n",
    "#We only need to count the first half of the prime numbers\n",
    "using Plots\n",
    "function check_Goldbach(n)\n",
    "    @assert iseven(n) #if the condition is fails throw an assertion error/ iseven make sure the input values are even\n",
    "    num_pairs = 0\n",
    "    if isodd(length(p_array))\n",
    "        for i ∈ 1:Int((length(p_array)+1)/2)\n",
    "            p_array[i] in sieve_of_Eratosthenes(n) #for the prime number stated above\n",
    "                if in(n-p_array[i], sieve_of_Eratosthenes(n)) # if p is an element of n - p in the array of sieve_\n",
    "                                            #because even number minus prime number is a prime number\n",
    "                    num_pairs += 1 #num_pairs = num_pairs + 1\n",
    "                end\n",
    "        return num_pairs\n",
    "    end\n",
    "    elseif iseven(length(p_array))\n",
    "        for i ∈ 1:Int(length(p_array)/2)\n",
    "            p_array[i] in sieve_of_Eratosthenes(n) #for the prime number stated above\n",
    "                if in(n-p_array[i], sieve_of_Eratosthenes(n)) # if p is an element of n - p in the array of sieve_\n",
    "                                            #because even number minus prime number is a prime number\n",
    "                    num_pairs += 1 #num_pairs = num_pairs + 1\n",
    "                end\n",
    "        end\n",
    "        return num_pairs\n",
    "\n",
    "    end\n",
    "end\n",
    "################# work on even and odd numbner of length of the array to produce different things\n",
    "n = 30\n",
    "even_range = 4:2:n #all the even numbers upto 10^3\n",
    "checks = check_Goldbach.(even_range) #the function check_Goldbach applies to all numbers in even_range\n",
    "if 0 ∈ checks #if n - p is zero then we found a contour example to the conjecture\n",
    "    println(\"Found a counter example for Goldbach\")\n",
    "end\n",
    "@show length(p_array)\n",
    "scatter(even_range,checks,legend=false,xlabel=\"n\",ylabel=\"Number of Goldbach pairs\")\n",
    "#scatter(x,y,legend)"
   ]
  },
  {
   "cell_type": "code",
   "execution_count": null,
   "id": "8cd66344",
   "metadata": {},
   "outputs": [],
   "source": [
    "@show typeof(p_array)\n",
    "@show length(p_array)"
   ]
  },
  {
   "cell_type": "markdown",
   "id": "826b1747",
   "metadata": {},
   "source": [
    "# Q8"
   ]
  },
  {
   "cell_type": "code",
   "execution_count": 1,
   "id": "b180e75c",
   "metadata": {},
   "outputs": [
    {
     "name": "stdout",
     "output_type": "stream",
     "text": [
      "Sorted by first name:\n",
      "1\tAlistair Falconer\n",
      "2\tAmy Chan\n",
      "3\tAndy Ferris\n",
      "4\tAnna Foeglein\n",
      "5\tElaine Schenk\n",
      "6\tEmma Comino\n",
      "7\tIvana Carrizo-Molina\n",
      "8\tJesse Woods\n",
      "9\tMaithili Mehta\n",
      "10\tPaul Bellette\n",
      "11\tPaul Vrbik\n",
      "12\tSam Hambleton\n",
      "13\tThomas Graham\n",
      "14\tTina Moghaddam\n",
      "15\tTom Cranitch\n",
      "16\tYoni Nazarathy\n",
      "\n"
     ]
    },
    {
     "ename": "LoadError",
     "evalue": "syntax: extra token \"println\" after end of expression",
     "output_type": "error",
     "traceback": [
      "syntax: extra token \"println\" after end of expression",
      "",
      "Stacktrace:",
      " [1] top-level scope",
      "   @ In[1]:31",
      " [2] eval",
      "   @ ./boot.jl:373 [inlined]",
      " [3] include_string(mapexpr::typeof(REPL.softscope), mod::Module, code::String, filename::String)",
      "   @ Base ./loading.jl:1196"
     ]
    }
   ],
   "source": [
    "function array_table(array, heading) #define a function that has arguemnets of arrat and heading\n",
    "    println(heading,\":\")\n",
    "    for (i,a) in enumerate(array)\n",
    "        println(i, \"\\t\",a)\n",
    "    end\n",
    "end\n",
    "names = [   \"Amy Chan\",\n",
    "            \"Maithili Mehta\",\n",
    "            \"Anna Foeglein\",\n",
    "            \"Andy Ferris\",\n",
    "            \"Thomas Graham\",\n",
    "            \"Elaine Schenk\",\n",
    "            \"Jesse Woods\",\n",
    "            \"Tina Moghaddam\",\n",
    "            \"Paul Bellette\",\n",
    "            \"Paul Vrbik\",\n",
    "            \"Tom Cranitch\",\n",
    "            \"Yoni Nazarathy\",\n",
    "            \"Sam Hambleton\",\n",
    "            \"Alistair Falconer\",\n",
    "            \"Emma Comino\",\n",
    "            \"Ivana Carrizo-Molina\"] #Array of strings with names\n",
    "    \n",
    "sorted_names = sort(names) #Automatically sort by alphabatical order\n",
    "array_table(sorted_names, \"Sorted by first name\") #Put this into the function of array_table\n",
    "\n",
    "println() #Print an empty space in between\n",
    "\n",
    "sorted_names = sort(names,by=(x)->reverse(split(x,\" \"))) #split x at space and first name become second and second \n",
    "#become first by the reverse() and then sorted by x for all the names\n",
    "array_table(sorted_names,\"Sorted by last name\")    println(heading,\":\") #print heading(either \"Sorted by first name\" or \"Sorted by last name\")"
   ]
  },
  {
   "cell_type": "markdown",
   "id": "622ac2ab",
   "metadata": {},
   "source": [
    "## Q8a"
   ]
  },
  {
   "cell_type": "code",
   "execution_count": null,
   "id": "51bb38e1",
   "metadata": {},
   "outputs": [],
   "source": []
  },
  {
   "cell_type": "code",
   "execution_count": 2,
   "id": "fd9e8fe8",
   "metadata": {},
   "outputs": [
    {
     "name": "stdout",
     "output_type": "stream",
     "text": [
      "Sorted by first name:\n",
      "1\tAlistair Falconer\n",
      "2\tAmy Chan\n",
      "3\tAndy Ferris\n",
      "4\tAnna Foeglein\n",
      "5\tElaine Schenk\n",
      "6\tEmma Comino\n",
      "7\tIvana Carrizo-Molina\n",
      "8\tJesse Woods\n",
      "9\tMaithili Mehta\n",
      "10\tPaul Bellette\n",
      "11\tPaul Vrbik\n",
      "12\tSam Hambleton\n",
      "13\tThomas Graham\n",
      "14\tTina Moghaddam\n",
      "15\tTom Cranitch\n",
      "16\tYoni Nazarathy\n",
      "\n",
      "Sorted by last name:\n",
      "1\tPaul Bellette\n",
      "2\tIvana Carrizo-Molina\n",
      "3\tAmy Chan\n",
      "4\tEmma Comino\n",
      "5\tTom Cranitch\n",
      "6\tAlistair Falconer\n",
      "7\tAndy Ferris\n",
      "8\tAnna Foeglein\n",
      "9\tThomas Graham\n",
      "10\tSam Hambleton\n",
      "11\tMaithili Mehta\n",
      "12\tTina Moghaddam\n",
      "13\tYoni Nazarathy\n",
      "14\tElaine Schenk\n",
      "15\tPaul Vrbik\n",
      "16\tJesse Woods\n"
     ]
    }
   ],
   "source": [
    "function array_table(array, heading)\n",
    "    println(heading,\":\")\n",
    "    for (i,a) in enumerate(array)\n",
    "        println(i,\"\\t\",a)\n",
    "    end\n",
    "end\n",
    "\n",
    "names = [   \"Amy Chan\",\n",
    "            \"Maithili Mehta\",\n",
    "            \"Anna Foeglein\",\n",
    "            \"Andy Ferris\",\n",
    "            \"Thomas Graham\",\n",
    "            \"Elaine Schenk\",\n",
    "            \"Jesse Woods\",\n",
    "            \"Tina Moghaddam\",\n",
    "            \"Paul Bellette\",\n",
    "            \"Paul Vrbik\",\n",
    "            \"Tom Cranitch\",\n",
    "            \"Yoni Nazarathy\",\n",
    "            \"Sam Hambleton\",\n",
    "            \"Alistair Falconer\",\n",
    "            \"Emma Comino\",\n",
    "            \"Ivana Carrizo-Molina\"]\n",
    "\n",
    "sorted_names = sort(names)\n",
    "array_table(sorted_names, \"Sorted by first name\")\n",
    "\n",
    "println()\n",
    "\n",
    "#sorted_names = sort(names, by= (x) ->length(reverse(split(x,\" \")))\n",
    "sorted_names = sort(names, by= (x) ->reverse(split(x,\" \")))\n",
    "array_table(sorted_names,\"Sorted by last name\")"
   ]
  },
  {
   "cell_type": "markdown",
   "id": "d19d0635",
   "metadata": {},
   "source": [
    "# Q8(a)"
   ]
  },
  {
   "cell_type": "code",
   "execution_count": 3,
   "id": "028b00f6",
   "metadata": {},
   "outputs": [
    {
     "data": {
      "text/plain": [
       "16-element Vector{String}:\n",
       " \"Amy Chan\"\n",
       " \"Maithili Mehta\"\n",
       " \"Jesse Woods\"\n",
       " \"Paul Vrbik\"\n",
       " \"Andy Ferris\"\n",
       " \"Thomas Graham\"\n",
       " \"Elaine Schenk\"\n",
       " \"Emma Comino\"\n",
       " \"Anna Foeglein\"\n",
       " \"Paul Bellette\"\n",
       " \"Tom Cranitch\"\n",
       " \"Alistair Falconer\"\n",
       " \"Tina Moghaddam\"\n",
       " \"Yoni Nazarathy\"\n",
       " \"Sam Hambleton\"\n",
       " \"Ivana Carrizo-Molina\""
      ]
     },
     "execution_count": 3,
     "metadata": {},
     "output_type": "execute_result"
    }
   ],
   "source": [
    "sort(names, by= (x) ->length(split(x,\" \")[end]))\n",
    "#sort(array, by=(x)[arguement of x], split the name when there is space, reverse it so the last name became first)"
   ]
  },
  {
   "cell_type": "code",
   "execution_count": null,
   "id": "9bf14c07",
   "metadata": {},
   "outputs": [],
   "source": []
  },
  {
   "cell_type": "code",
   "execution_count": 4,
   "id": "0acb1acc",
   "metadata": {},
   "outputs": [
    {
     "name": "stdout",
     "output_type": "stream",
     "text": [
      "length(reverse(split(\"Wilson Wang\"))) = 2\n",
      "length(\"Wilson Wang\") = 11\n",
      "length(my_name) = 11\n",
      "length(split(my_name)) = 2\n"
     ]
    },
    {
     "data": {
      "text/plain": [
       "2"
      ]
     },
     "execution_count": 4,
     "metadata": {},
     "output_type": "execute_result"
    }
   ],
   "source": [
    "@show length(reverse(split(\"Wilson Wang\")))\n",
    "@show length(\"Wilson Wang\")\n",
    "my_name = \"Wilson Wang\"\n",
    "@show length(my_name)\n",
    "@show length(split(my_name))\n",
    "\n",
    "#the length here represents the length of substrings\n",
    "# A = reverse(split(my_name,\" \"))\n",
    "# @show A\n",
    "# length(A[1])\n",
    "# #get length of the substring"
   ]
  },
  {
   "cell_type": "code",
   "execution_count": 5,
   "id": "d2b0684d",
   "metadata": {},
   "outputs": [
    {
     "name": "stdout",
     "output_type": "stream",
     "text": [
      "length(our_names) = 2\n",
      "length(our_names[1]) = 8\n"
     ]
    }
   ],
   "source": [
    "our_name_mat = Array{String}(undef, 2,2)\n",
    "our_names = [\"Youna Ko\", \"Wilson Wang\"]\n",
    "@show length(our_names)\n",
    "@show length(our_names[1])\n",
    "for i in 1:2\n",
    "split(our_names[i],\" \")\n",
    "end\n",
    "# for i ∈ 1:2\n",
    "# @show A[i] = reverse(split(our_names[i],\" \"))\n",
    "# @show typeof(reverse(split(our_names[i],\" \")))\n",
    "# our_name_mat = push!(reverse(split(our_names[i],\" \")),our_name_mat(i,:) )\n",
    "# @show length(our_names[i])\n",
    "# end"
   ]
  },
  {
   "cell_type": "code",
   "execution_count": null,
   "id": "77c7a0c2",
   "metadata": {},
   "outputs": [],
   "source": []
  },
  {
   "cell_type": "code",
   "execution_count": 6,
   "id": "bb94fffd",
   "metadata": {},
   "outputs": [
    {
     "data": {
      "text/plain": [
       "length_last (generic function with 1 method)"
      ]
     },
     "execution_count": 6,
     "metadata": {},
     "output_type": "execute_result"
    }
   ],
   "source": [
    "last_names = Array{Vector{SubString{String}}}(undef, length(names))\n",
    "\n",
    "function length_last(names)\n",
    "    for i ∈ 1:length(names) #&& j = \n",
    "        last_names[i] = push!(reverse(split(names[i],\" \")))\n",
    "        #sorted_name_last = sort(names, by= (x) ->reverse(split(x,\" \")))\n",
    "    end\n",
    "    return last_names\n",
    "end\n"
   ]
  },
  {
   "cell_type": "code",
   "execution_count": 7,
   "id": "93fe03c7",
   "metadata": {},
   "outputs": [
    {
     "name": "stdout",
     "output_type": "stream",
     "text": [
      "last_names[1] = SubString{String}[\"Chan\", \"Amy\"]\n"
     ]
    },
    {
     "data": {
      "text/plain": [
       "2-element Vector{SubString{String}}:\n",
       " \"Chan\"\n",
       " \"Amy\""
      ]
     },
     "execution_count": 7,
     "metadata": {},
     "output_type": "execute_result"
    }
   ],
   "source": [
    "length_last(names)\n",
    "#@show last_names\n",
    "@show last_names[1]\n",
    "#Amy_Mat = push!(last_names[1], Amy_Mat)\n",
    "#@show last_names[SubString{\"1\"}]"
   ]
  },
  {
   "cell_type": "markdown",
   "id": "05af02ae",
   "metadata": {},
   "source": [
    "# Q8b"
   ]
  },
  {
   "cell_type": "code",
   "execution_count": 8,
   "id": "b5b57efd",
   "metadata": {},
   "outputs": [
    {
     "name": "stdout",
     "output_type": "stream",
     "text": [
      "Sorted data (with buble sort): [1, 12, 23, 32, 51, 65, 68, 84]\n"
     ]
    }
   ],
   "source": [
    "data = [65, 51, 32, 12, 23, 84, 68, 1]\n",
    "\n",
    "function bubble_sort!(a)\n",
    "    n = length(a)\n",
    "    for i in 1:n-1\n",
    "        for j in 1:n-i\n",
    "            if a[j] > a[j+1]\n",
    "                a[j], a[j+1] = a[j+1], a[j]\n",
    "            end\n",
    "        end\n",
    "    end\n",
    "    return a\n",
    "end\n",
    "\n",
    "bubble_sort!(data)\n",
    "println(\"Sorted data (with buble sort): \", data)"
   ]
  },
  {
   "cell_type": "code",
   "execution_count": 26,
   "id": "46153a44",
   "metadata": {},
   "outputs": [
    {
     "name": "stdout",
     "output_type": "stream",
     "text": [
      "The name order by the length of last names:[\"Amy Chan\", \"Maithili Mehta\", \"Jesse Woods\", \"Paul Vrbik\", \"Andy Ferris\", \"Thomas Graham\", \"Elaine Schenk\", \"Emma Comino\", \"Anna Foeglein\", \"Paul Bellette\", \"Tom Cranitch\", \"Alistair Falconer\", \"Tina Moghaddam\", \"Yoni Nazarathy\", \"Sam Hambleton\", \"Ivana Carrizo-Molina\"]\n"
     ]
    }
   ],
   "source": [
    "#sort(names, by= (x) ->length(split(x,\" \")[end]))\n",
    "#last_names = Array{String}(undef, 0)\n",
    "function my_sort_bubble!(a)\n",
    "    n = length(a)\n",
    "    for i in 1:n-1\n",
    "        for j in 1:n-i\n",
    "            if length(split(a[j],\" \")[end]) > length(split(a[j+1],\" \")[end])    \n",
    "                     a[j], a[j + 1] = a[j + 1], a[j]\n",
    "            end\n",
    "        end\n",
    "    end\n",
    "end \n",
    "my_sort_bubble!(names)\n",
    "println(\"The name order by the length of last names:\", names)"
   ]
  },
  {
   "cell_type": "code",
   "execution_count": 21,
   "id": "449759ed",
   "metadata": {},
   "outputs": [
    {
     "name": "stdout",
     "output_type": "stream",
     "text": [
      "Arr_length_names = [0, 1, 2, 3, 2, 2, 6, 6, 3, 9, 10, 10, 12, 9, 14, 14]\n"
     ]
    },
    {
     "data": {
      "text/plain": [
       "16-element Vector{Int64}:\n",
       "  0\n",
       "  1\n",
       "  2\n",
       "  3\n",
       "  2\n",
       "  2\n",
       "  6\n",
       "  6\n",
       "  3\n",
       "  9\n",
       " 10\n",
       " 10\n",
       " 12\n",
       "  9\n",
       " 14\n",
       " 14"
      ]
     },
     "execution_count": 21,
     "metadata": {},
     "output_type": "execute_result"
    }
   ],
   "source": [
    "names = [   \"Amy Chan\",\n",
    "            \"Maithili Mehta\",\n",
    "            \"Anna Foeglein\",\n",
    "            \"Andy Ferris\",\n",
    "            \"Thomas Graham\",\n",
    "            \"Elaine Schenk\",\n",
    "            \"Jesse Woods\",\n",
    "            \"Tina Moghaddam\",\n",
    "            \"Paul Bellette\",\n",
    "            \"Paul Vrbik\",\n",
    "            \"Tom Cranitch\",\n",
    "            \"Yoni Nazarathy\",\n",
    "            \"Sam Hambleton\",\n",
    "            \"Alistair Falconer\",\n",
    "            \"Emma Comino\",\n",
    "            \"Ivana Carrizo-Molina\"]\n",
    "Arr_length_names = Array{Int}(undef, length(names))\n",
    "\n",
    "for i ∈ 1:length(names)\n",
    "Array_length_names = length(split(names[i],\" \")[end])\n",
    "end\n",
    "@show Arr_length_names\n",
    "# for i ∈ 1:length(names)\n",
    "#     Arr_length_names =  length(split(names[i],\" \")[end])\n",
    "# end\n"
   ]
  },
  {
   "cell_type": "code",
   "execution_count": null,
   "id": "a2c92918",
   "metadata": {},
   "outputs": [],
   "source": []
  },
  {
   "cell_type": "markdown",
   "id": "6131e11e",
   "metadata": {},
   "source": [
    "# Q8c"
   ]
  },
  {
   "cell_type": "code",
   "execution_count": 23,
   "id": "ada75f4f",
   "metadata": {},
   "outputs": [
    {
     "data": {
      "text/plain": [
       "my_quick_sort (generic function with 1 method)"
      ]
     },
     "execution_count": 23,
     "metadata": {},
     "output_type": "execute_result"
    }
   ],
   "source": [
    "#we sorted it once, how do we sort it twice or more? \n",
    "#I am sure that part_sort_quick is working\n",
    "function part_sort_quick(a, l, r) #a is the array, l is the indexes left to the pivot and r is the pivot right to the pivot\n",
    "    pivot = a[r] #define the pivot\n",
    "    i = l - 1  #initalize the starting position of i\n",
    "        for j ∈ l:r-1 #for k from the first element to the last element before the pivot\n",
    "            if a[j]<pivot\n",
    "                i += 1 #increment i by 1\n",
    "                a[i],a[j] = a[j],a[i] #swap the element at i and j\n",
    "            end\n",
    "        end\n",
    "        a[i+1] ,a[r] = a[r], a[i+1]\n",
    "    #swap the pivot with i+1 element so that all values on the left of the pivot is smaller than pivot\n",
    "    return i + 1 #return index of the pivot\n",
    "end\n",
    "#quick sort should be a recursive function\n",
    "function my_quick_sort(a,l,r)\n",
    "    if l >= r #if the l is bigger or equal to the right there is nothing more to sort\n",
    "        return\n",
    "    else l < r\n",
    "            p = part_sort_quick(a,l,r)\n",
    "            @show part_sort_quick(a,l,r)\n",
    "            my_quick_sort(a, l, p-1)\n",
    "            my_quick_sort(a, p+1, r) \n",
    "        return a\n",
    "    end \n",
    "end\n",
    "\n",
    "#function my_quick_sort(a,)"
   ]
  },
  {
   "cell_type": "code",
   "execution_count": 22,
   "id": "7db82062",
   "metadata": {},
   "outputs": [
    {
     "ename": "LoadError",
     "evalue": "UndefVarError: my_quick_sort not defined",
     "output_type": "error",
     "traceback": [
      "UndefVarError: my_quick_sort not defined",
      "",
      "Stacktrace:",
      " [1] top-level scope",
      "   @ show.jl:1047",
      " [2] eval",
      "   @ ./boot.jl:373 [inlined]",
      " [3] include_string(mapexpr::typeof(REPL.softscope), mod::Module, code::String, filename::String)",
      "   @ Base ./loading.jl:1196"
     ]
    }
   ],
   "source": [
    "a = [2,1,4,13,14,12]\n",
    "@show my_quick_sort(a,1,length(a))"
   ]
  },
  {
   "cell_type": "code",
   "execution_count": null,
   "id": "5b7dbba6",
   "metadata": {},
   "outputs": [],
   "source": [
    "my_qu"
   ]
  },
  {
   "cell_type": "code",
   "execution_count": null,
   "id": "bed07cd0",
   "metadata": {},
   "outputs": [],
   "source": [
    "Arr_length_names = Array{Int}(undef, length(names))\n",
    "\n",
    "for i ∈ 1:length(names)\n",
    "Array_length_names = length(split(names[i],\" \")[end])\n",
    "end"
   ]
  },
  {
   "cell_type": "markdown",
   "id": "400e7f5c",
   "metadata": {},
   "source": [
    "# Q9"
   ]
  },
  {
   "cell_type": "code",
   "execution_count": null,
   "id": "aea4fb14",
   "metadata": {},
   "outputs": [],
   "source": [
    "using LinearAlgebra\n",
    "Random.seed!(0)\n",
    "A = round.(10*rand(2,3))\n",
    "B = round.(10*rand(3,4))\n",
    "A*B"
   ]
  },
  {
   "cell_type": "code",
   "execution_count": 36,
   "id": "b573597b",
   "metadata": {},
   "outputs": [
    {
     "ename": "LoadError",
     "evalue": "syntax: \"function\" at In[36]:10 expected \"end\", got \")\"",
     "output_type": "error",
     "traceback": [
      "syntax: \"function\" at In[36]:10 expected \"end\", got \")\"",
      "",
      "Stacktrace:",
      " [1] top-level scope",
      "   @ In[36]:13",
      " [2] eval",
      "   @ ./boot.jl:373 [inlined]",
      " [3] include_string(mapexpr::typeof(REPL.softscope), mod::Module, code::String, filename::String)",
      "   @ Base ./loading.jl:1196"
     ]
    }
   ],
   "source": [
    "using Random\n",
    "using LinearAlgebra\n",
    "Random.seed!(0)\n",
    "A = round.(10*rand(2,3))\n",
    "B = round.(10*rand(3,4))\n",
    "\n",
    "# C_line_1 = Array{Float64}(undef, 4)\n",
    "# C_line_2 = Array{Float64}(undef, 4)\n",
    "\n",
    "function my_mult_by_cols(A, B)\n",
    "    C_line_1 = [A[1] * [B[1, i] for i in 1:size(B, 2)] +  \n",
    "                A[3] * [B[2, i] for i in 1:size(B, 2)] +\n",
    "                A[5] * [B[3, i] for i in 1:size(B, 2)]])\n",
    "\n",
    "    C_line_2 = [A[2] * [B[1, i] for i in 1:size(B, 2)] +\n",
    "                A[4] * [B[2, i] for i in 1:size(B, 2)] +\n",
    "                A[6] * [B[3, i] for i in 1:size(B, 2)]]\n",
    "    \n",
    "    C = zeros(2,4)\n",
    "    \n",
    "    for C_line_1 in 1:4 \n",
    "        push!(C[1,:],C_line_1)\n",
    "    end\n",
    "    \n",
    "    for C_line_2 in 1:4\n",
    "        push!(C[2,:], C_line_2)\n",
    "    end\n",
    "    #C = [C_line_1, C_line_2]\n",
    "    @show C_line_1\n",
    "    println(\"The matrix product of A and B is:\")\n",
    "    return C\n",
    "end\n",
    "end\n",
    "@show A\n",
    "@show B\n",
    "@show size(B,2)"
   ]
  },
  {
   "cell_type": "code",
   "execution_count": null,
   "id": "16e170de",
   "metadata": {},
   "outputs": [],
   "source": [
    "my_mult_by_cols(A, B)"
   ]
  },
  {
   "cell_type": "code",
   "execution_count": null,
   "id": "e0963d56",
   "metadata": {},
   "outputs": [],
   "source": [
    "[A[1] * [B[1, i] for i in 1:size(B, 2)] +  \n",
    "                A[3] * [B[2, i] for i in 1:size(B, 2)] +\n",
    "                A[5] * [B[3, i] for i in 1:size(B, 2)]]"
   ]
  },
  {
   "cell_type": "code",
   "execution_count": null,
   "id": "d4e079e0",
   "metadata": {},
   "outputs": [],
   "source": [
    "using Random\n",
    "using LinearAlgebra\n",
    "Random.seed!(0)\n",
    "A = round.(10*rand(2,3))\n",
    "B = round.(10*rand(3,4))\n",
    "\n",
    "C = zeros(Float64,2,4)\n",
    "\n",
    "function my_mult_by_cols(A, B)\n",
    "\n",
    "\tC_line_1 = [A[1] * [B[1, i] for i in 1:size(B, 2)] +  \n",
    "            \tA[3] * [B[2, i] for i in 1:size(B, 2)] +\n",
    "            \tA[5] * [B[3, i] for i in 1:size(B, 2)]]\n",
    "\n",
    "\tC_line_2 = A[2] * [B[1, i] for i in 1:size(B, 2)] +\n",
    "            \tA[4] * [B[2, i] for i in 1:size(B, 2)] +\n",
    "            \tA[6] * [B[3, i] for i in 1:size(B, 2)]\n",
    "\n",
    "\t#C = [C_line_1, C_line_2]\n",
    "    \n",
    "    for i in 1:4 \n",
    "        push!(C[1,i],C_line_1[i])\n",
    "    end\n",
    "    \n",
    "    for j in 1:4\n",
    "        push!(C[2,j], C_line_2[j])\n",
    "    end\n",
    "    @show C\n",
    "println(\"The matrix product of A and B is:\")\n",
    "return C\n",
    "    \n",
    "end\n"
   ]
  },
  {
   "cell_type": "code",
   "execution_count": null,
   "id": "b82cc79e",
   "metadata": {},
   "outputs": [],
   "source": [
    "my_mult_by_cols(A, B)"
   ]
  },
  {
   "cell_type": "code",
   "execution_count": null,
   "id": "89e2e2ab",
   "metadata": {},
   "outputs": [],
   "source": []
  }
 ],
 "metadata": {
  "kernelspec": {
   "display_name": "Julia 1.7.3",
   "language": "julia",
   "name": "julia-1.7"
  },
  "language_info": {
   "file_extension": ".jl",
   "mimetype": "application/julia",
   "name": "julia",
   "version": "1.7.3"
  }
 },
 "nbformat": 4,
 "nbformat_minor": 5
}
