{
 "cells": [
  {
   "cell_type": "markdown",
   "metadata": {},
   "source": [
    "### MATH2504 S2, 2022, BigHW Submission \n",
    "### Submission form II of IV "
   ]
  },
  {
   "cell_type": "markdown",
   "metadata": {},
   "source": [
    "Student #1 name: Rachel Dudley\n",
    "\n",
    "Student #1 ID: 46982243\n",
    "\n",
    "Student #2 name:\n",
    "\n",
    "Student #2 ID:\n",
    "\n",
    "GitHub repo: "
   ]
  },
  {
   "cell_type": "markdown",
   "metadata": {},
   "source": [
    "---\n",
    "\n",
    "**Note: It is expected that this notebook be runnable in the sense that the marker can select \"Restart & Run All\" and all code cells of solutions will execute. This requires not to have name clashes between solutions.**\n",
    "\n",
    "---"
   ]
  },
  {
   "cell_type": "markdown",
   "metadata": {},
   "source": [
    "# Solution to [Question 5](https://courses.smp.uq.edu.au/MATH2504/2022/assessment_html/bighw.html#q5)"
   ]
  },
  {
   "cell_type": "code",
   "execution_count": 1,
   "metadata": {},
   "outputs": [
    {
     "data": {
      "text/plain": [
       "is_perfect_number (generic function with 1 method)"
      ]
     },
     "execution_count": 1,
     "metadata": {},
     "output_type": "execute_result"
    }
   ],
   "source": [
    "function is_perfect_number(x::Number)\n",
    "    factor_ = []\n",
    "        for i in 2:x\n",
    "            if x % i == 0\n",
    "                push!(factor_, x / i)\n",
    "            end\n",
    "        end\n",
    "    sum_ = sum(factor_)\n",
    "    \n",
    "    if sum_ == x\n",
    "            println(\"$x is a perfect number!\")\n",
    "#     else\n",
    "#         println(\"$x is not a perfect number\")\n",
    "    end\n",
    "end"
   ]
  },
  {
   "cell_type": "code",
   "execution_count": 2,
   "metadata": {},
   "outputs": [
    {
     "name": "stdout",
     "output_type": "stream",
     "text": [
      "6 is a perfect number!\n",
      "28 is a perfect number!\n",
      "496 is a perfect number!\n",
      "8128 is a perfect number!\n"
     ]
    }
   ],
   "source": [
    "for A in 2:100000\n",
    "    is_perfect_number(A)\n",
    "end"
   ]
  },
  {
   "cell_type": "markdown",
   "metadata": {},
   "source": [
    "---\n",
    "\n",
    "*Use this area below as an experimental playground for the question. Feel free to leave some of the experimental code here with your submision. However, it will not be marked or reviewed. Make sure in your submission that if there is any experimental code here then running it does not interfere with running the actual solutions.*\n",
    "\n",
    "---"
   ]
  },
  {
   "cell_type": "code",
   "execution_count": null,
   "metadata": {},
   "outputs": [],
   "source": []
  },
  {
   "cell_type": "code",
   "execution_count": null,
   "metadata": {},
   "outputs": [],
   "source": []
  },
  {
   "cell_type": "code",
   "execution_count": null,
   "metadata": {},
   "outputs": [],
   "source": []
  },
  {
   "cell_type": "markdown",
   "metadata": {},
   "source": [
    "# Solution to [Question 6](https://courses.smp.uq.edu.au/MATH2504/2022/assessment_html/bighw.html#q6)"
   ]
  },
  {
   "cell_type": "code",
   "execution_count": null,
   "metadata": {},
   "outputs": [],
   "source": [
    "### Answer 6 here (in place of this comment)"
   ]
  },
  {
   "cell_type": "markdown",
   "metadata": {},
   "source": [
    "---\n",
    "\n",
    "*Use this area below as an experimental playground for the question. Feel free to leave some of the experimental code here with your submision. However, it will not be marked or reviewed. Make sure in your submission that if there is any experimental code here then running it does not interfere with running the actual solutions.*\n",
    "\n",
    "---"
   ]
  },
  {
   "cell_type": "code",
   "execution_count": null,
   "metadata": {},
   "outputs": [],
   "source": []
  },
  {
   "cell_type": "code",
   "execution_count": null,
   "metadata": {},
   "outputs": [],
   "source": []
  },
  {
   "cell_type": "code",
   "execution_count": null,
   "metadata": {},
   "outputs": [],
   "source": []
  },
  {
   "cell_type": "code",
   "execution_count": null,
   "metadata": {},
   "outputs": [],
   "source": []
  },
  {
   "cell_type": "markdown",
   "metadata": {},
   "source": [
    "# Solution to [Question 7](https://courses.smp.uq.edu.au/MATH2504/2022/assessment_html/bighw.html#q7)"
   ]
  },
  {
   "cell_type": "code",
   "execution_count": 5,
   "metadata": {},
   "outputs": [
    {
     "name": "stdout",
     "output_type": "stream",
     "text": [
      "indexes = [1234567890, 68545824387, 405699470893, 661612690731, 862140857196]\n",
      "plates = [\"000 ZZZ\", \"823 LXT\", \"117 HAO\", \"571 CJF\", \"154 AMQ\"]\n"
     ]
    }
   ],
   "source": [
    "using Random\n",
    "random_license_plate() = String(rand('0':'9',3)) * \" \" * String(rand('A':'Z', 3))\n",
    "    \n",
    "function prepare_data(;N = 10^7)\n",
    "    Random.seed!(0)\n",
    "    indexes = rand(1:10^12, N)\n",
    "    plates = [random_license_plate() for _ in 1:N]\n",
    "    \n",
    "    #One specific spot is set to a special value.\n",
    "    \n",
    "    special_spot = Int(floor(0.9*N)) #Arbitrary index\n",
    "    indexes[special_spot], plates[special_spot] = 1234567890, \"000 ZZZ\"\n",
    "    \n",
    "    return indexes, plates\n",
    "    \n",
    "end\n",
    "\n",
    "function prepare_sorted_data(;N = 10^7)\n",
    "    \n",
    "    indexes, plates = prepare_data(N=N)\n",
    "    perm = sortperm(indexes)\n",
    "    \n",
    "    return indexes[perm], plates[perm]\n",
    "end\n",
    "\n",
    "    indexes, plates = prepare_sorted_data(N=5) #as an example set N=5\n",
    "@show indexes\n",
    "@show plates;"
   ]
  },
  {
   "cell_type": "markdown",
   "metadata": {},
   "source": [
    "## 7a:"
   ]
  },
  {
   "cell_type": "markdown",
   "metadata": {},
   "source": [
    "The one line function: (random_license_plate()) generates an array of String values consisting of 3 random numbers from 1 through to 9, and then a space, and then 3 random capital letters from A through to Z. The output could look like \"AGF 898\".\n",
    "\n",
    "In this code that generates the ranodm license plates, the 3 numbers, the space, and the 3 letters are joined together through the concatenation of strings via an asterisk *. Some other languages use the + symbol to join strings together, however since addition is always commutative, it is more justified to use an * instead (multiplication is not commutative in all cases e.g. matrix multiplication). For example in line 1 of the code: (rand('0':'9',3)) * \" \" * String(rand('A':'Z', 3)) ensures the order is always structures such that the 3 numbers come first, followed by a space, followed by the 3 letters.\n",
    "\n",
    "The use of rand() is to generate values that are random and will then need to be sorted differently each time new license plates are produced. The code also uses Random.seed!(1) so each time rand() is written in the code, a new pseudorandom value will get made and thus the license plates continue to be different each time rand() is called.\n",
    "\n",
    "The use of a comprehension of the form [for _ in 1:N] tells the code how many times to generate a new licence plate. It runs through each number between 1 and N (this is what for _ in means) and for each one, a new random license plate is produced. For example if the user inputs prepare_data(5), they have set N = 5, and therefore there will be FIVE: (1, 2, 3, 4, 5) loops of random_license_plate().\n",
    "\n",
    "The tuples being returned in the code are indexes and plates. The return indexes, plates line will return the array indexes, followed by the corresponding array: plates. \n",
    "\n",
    "The built-in Julia function: sortperm(), takes a list of values and puts them in lexicographical order, while returning the index of their position in the array. It is used in the prepare_sorted_data() function on the elements in 'indexes'. Since indexes are all numerical values, sortperm(indexes) rearranges all of the indexes so that they are in ascending order and outputs the order they should be in. e.g. sortperm([1, 5, 9, 7, 3]) would return: 1, 5, 2, 4, 3 because the smallest number (1) is in position 1, the next smallest (3) is in position 5, ... and the largest number in the array (9) is in position 3."
   ]
  },
  {
   "cell_type": "markdown",
   "metadata": {},
   "source": [
    "## 7b:"
   ]
  },
  {
   "cell_type": "markdown",
   "metadata": {},
   "source": [
    "The probability of the code returning a repeat index of 1234567890 is N-1/10^12, where N is the number of generated indexes. This is because there are N random indexes generated and they each have the possibility to be between 1 and 10^12. Since the special index 1234567890 will always be present as one of the N generated indexes, there are N-1 possible spots which could be randomly generated as 1234567890. E.g if there are 3 indexes generated, 1 of them will definitely be the special index, and then there is a 2/10^12 chance that one of the other indexes will match that special index. If N could be (10^12 +1) then the probability of getting a repeat of 1234567890 would be 10^12/10^12 = 1 so it is pretty much certain that there would be a repeat. In this case however, 10^7-1/10^12 = 0.00001 is the probability which is very small\n",
    "\n",
    "The package has had 306 commits\n",
    "\n",
    "One issue in the repo is:  Improper axis limits in histograms #253 which is about where the x axis should have its limits set to. The user who mentions the issue suggests that the axis labels should always be set to 0 on the LHS, and be bounded on the right by a whole power of 10 seconds (as opposed to being cut off at the x value where the last data value).\n",
    "\n",
    "the difference between @benchmark and @btime is: @benchmark defines the benchmark, auto-tunes its configuration parameters and runs the benchmark. It also gives a more detailed summary of time taken compared to @btime for each of the samples run, including minimum, maximum, median, mean and sd. On the other hand, @btime prints only the minimum time and the memory allocation. Then it returns the output of what is being @btime'd."
   ]
  },
  {
   "cell_type": "code",
   "execution_count": 9,
   "metadata": {},
   "outputs": [
    {
     "name": "stdout",
     "output_type": "stream",
     "text": [
      "  0.023628 seconds (21.78 k allocations: 1.143 MiB, 99.80% compilation time)\n"
     ]
    },
    {
     "data": {
      "text/plain": [
       "\"000 ZZZ\""
      ]
     },
     "execution_count": 9,
     "metadata": {},
     "output_type": "execute_result"
    }
   ],
   "source": [
    "using BenchmarkTools\n",
    "\n",
    "function find_special_plate(indexes, plates; special_index = 1234567890)\n",
    "    for (i, index) in enumerate(indexes)\n",
    "        if index == special_index\n",
    "            return plates[i]\n",
    "        end\n",
    "    end\n",
    "    \n",
    "throw(Error(\"Index not found\"))\n",
    "    \n",
    "end\n",
    "\n",
    "indexes, plates = prepare_sorted_data()\n",
    "#benchmark find_special_plate(indexes, plates)\n",
    "@time find_special_plate(indexes, plates)"
   ]
  },
  {
   "cell_type": "markdown",
   "metadata": {},
   "source": [
    "## 7c:"
   ]
  },
  {
   "cell_type": "markdown",
   "metadata": {},
   "source": [
    "The function find_special_plate returned 0.013943 seconds (21.78 k allocations: 1.143 MiB, 99.78% compilation time) - when using the @time benchmark macro, whereas find_special_plate_binary returned 0.000229 seconds (18 allocations: 592 bytes) which is much faster. the binary search has shown in this example to be 2 orders of magnitude faster then the inital search method. The binary search method also has significantly less memory allocations which is optimal."
   ]
  },
  {
   "cell_type": "code",
   "execution_count": 7,
   "metadata": {},
   "outputs": [
    {
     "data": {
      "text/plain": [
       "find_special_plate_binary (generic function with 1 method)"
      ]
     },
     "execution_count": 7,
     "metadata": {},
     "output_type": "execute_result"
    }
   ],
   "source": [
    "using BenchmarkTools\n",
    "\n",
    "function find_special_plate_binary(indexes, special_index, min, max)\n",
    "    \n",
    "    if min > max\n",
    "        \n",
    "        throw(\"error\")\n",
    "        \n",
    "    else\n",
    "        middle_value = trunc(Int, floor((min+max)/2))\n",
    "        \n",
    "        if special_index == indexes[middle_value]\n",
    "        \n",
    "        print(\"the value at indexes[$(middle_value)] is: $(indexes[middle_value])\")\n",
    "        return middle_value \n",
    "            \n",
    "    elseif special_index > indexes[middle_value]\n",
    "        \n",
    "        return find_special_plate_binary(indexes, special_index, middle_value+1, max)\n",
    "            \n",
    "    else\n",
    "        \n",
    "        return find_special_plate_binary(indexes, special_index, min, middle_value-1)\n",
    "        \n",
    "    end\n",
    "    end\n",
    "    \n",
    "end\n",
    "\n",
    "#indexes, plates = prepare_sorted_data()\n",
    "#find_special_plate_binary(indexes, 1234567890, 1, 10^7)"
   ]
  },
  {
   "cell_type": "code",
   "execution_count": 10,
   "metadata": {},
   "outputs": [
    {
     "name": "stdout",
     "output_type": "stream",
     "text": [
      "the value at indexes[12505] is: 1234567890  0.000229 seconds (18 allocations: 592 bytes)\n"
     ]
    },
    {
     "data": {
      "text/plain": [
       "12505"
      ]
     },
     "execution_count": 10,
     "metadata": {},
     "output_type": "execute_result"
    }
   ],
   "source": [
    "@time find_special_plate_binary(indexes, 1234567890, 2, 10^7)"
   ]
  },
  {
   "cell_type": "markdown",
   "metadata": {},
   "source": [
    "## 7d:"
   ]
  },
  {
   "cell_type": "markdown",
   "metadata": {},
   "source": [
    "The time complexity for binary search is O(log n). This means that as the input size of the function grows, the number of operations performed grows as a significantly smaller rate. -> as n in log(n) grows by x10, log(n) only grows by +1. Another feature making O(logn) much faster, is that it does not search through every value in the array, it only searches for a location in the array and then shortens its search scope depending on the value of the element in that location. "
   ]
  },
  {
   "cell_type": "markdown",
   "metadata": {},
   "source": [
    "---\n",
    "\n",
    "*Use this area below as an experimental playground for the question. Feel free to leave some of the experimental code here with your submision. However, it will not be marked or reviewed. Make sure in your submission that if there is any experimental code here then running it does not interfere with running the actual solutions.*\n",
    "\n",
    "---"
   ]
  },
  {
   "cell_type": "code",
   "execution_count": null,
   "metadata": {},
   "outputs": [],
   "source": []
  },
  {
   "cell_type": "code",
   "execution_count": null,
   "metadata": {},
   "outputs": [],
   "source": []
  },
  {
   "cell_type": "code",
   "execution_count": null,
   "metadata": {},
   "outputs": [],
   "source": []
  },
  {
   "cell_type": "markdown",
   "metadata": {},
   "source": [
    "# Solution to [Question 8](https://courses.smp.uq.edu.au/MATH2504/2022/assessment_html/bighw.html#q8)"
   ]
  },
  {
   "cell_type": "markdown",
   "metadata": {},
   "source": [
    "## 8a:"
   ]
  },
  {
   "cell_type": "code",
   "execution_count": 12,
   "metadata": {},
   "outputs": [
    {
     "ename": "LoadError",
     "evalue": "MethodError: no method matching sort(::typeof(names); by=var\"#10#11\"())\n\u001b[0mClosest candidates are:\n\u001b[0m  sort(\u001b[91m::AbstractUnitRange\u001b[39m) at C:\\Users\\kevin\\.julia\\juliaup\\julia-1.7.3+0~x64\\share\\julia\\base\\range.jl:1304\u001b[91m got unsupported keyword argument \"by\"\u001b[39m\n\u001b[0m  sort(\u001b[91m::AbstractRange\u001b[39m) at C:\\Users\\kevin\\.julia\\juliaup\\julia-1.7.3+0~x64\\share\\julia\\base\\range.jl:1307\u001b[91m got unsupported keyword argument \"by\"\u001b[39m\n\u001b[0m  sort(\u001b[91m::SparseArrays.SparseVector{Tv, Ti}\u001b[39m; kws...) where {Tv, Ti} at C:\\Users\\kevin\\.julia\\juliaup\\julia-1.7.3+0~x64\\share\\julia\\stdlib\\v1.7\\SparseArrays\\src\\sparsevector.jl:1968\n\u001b[0m  ...",
     "output_type": "error",
     "traceback": [
      "MethodError: no method matching sort(::typeof(names); by=var\"#10#11\"())\n\u001b[0mClosest candidates are:\n\u001b[0m  sort(\u001b[91m::AbstractUnitRange\u001b[39m) at C:\\Users\\kevin\\.julia\\juliaup\\julia-1.7.3+0~x64\\share\\julia\\base\\range.jl:1304\u001b[91m got unsupported keyword argument \"by\"\u001b[39m\n\u001b[0m  sort(\u001b[91m::AbstractRange\u001b[39m) at C:\\Users\\kevin\\.julia\\juliaup\\julia-1.7.3+0~x64\\share\\julia\\base\\range.jl:1307\u001b[91m got unsupported keyword argument \"by\"\u001b[39m\n\u001b[0m  sort(\u001b[91m::SparseArrays.SparseVector{Tv, Ti}\u001b[39m; kws...) where {Tv, Ti} at C:\\Users\\kevin\\.julia\\juliaup\\julia-1.7.3+0~x64\\share\\julia\\stdlib\\v1.7\\SparseArrays\\src\\sparsevector.jl:1968\n\u001b[0m  ...",
      "",
      "Stacktrace:",
      " [1] top-level scope",
      "   @ In[12]:1",
      " [2] eval",
      "   @ .\\boot.jl:373 [inlined]",
      " [3] include_string(mapexpr::typeof(REPL.softscope), mod::Module, code::String, filename::String)",
      "   @ Base .\\loading.jl:1196"
     ]
    }
   ],
   "source": [
    "sort(names, by= (x) ->length(split(x,\" \")[end]))"
   ]
  },
  {
   "cell_type": "markdown",
   "metadata": {},
   "source": [
    "## 8b:"
   ]
  },
  {
   "cell_type": "code",
   "execution_count": 3,
   "metadata": {},
   "outputs": [
    {
     "ename": "LoadError",
     "evalue": "cannot assign a value to variable Base.names from module Main",
     "output_type": "error",
     "traceback": [
      "cannot assign a value to variable Base.names from module Main",
      "",
      "Stacktrace:",
      " [1] top-level scope",
      "   @ In[3]:3",
      " [2] eval",
      "   @ ./boot.jl:373 [inlined]",
      " [3] include_string(mapexpr::typeof(REPL.softscope), mod::Module, code::String, filename::String)",
      "   @ Base ./loading.jl:1196"
     ]
    }
   ],
   "source": [
    "#sort(names, by= (x) ->length(split(x,\" \")[end]))\n",
    "#last_names = Array{String}(undef, 0)\n",
    "names = [   \"Amy Chan\",\n",
    "            \"Maithili Mehta\",\n",
    "            \"Anna Foeglein\",\n",
    "            \"Andy Ferris\",\n",
    "            \"Thomas Graham\",\n",
    "            \"Elaine Schenk\",\n",
    "            \"Jesse Woods\",\n",
    "            \"Tina Moghaddam\",\n",
    "            \"Paul Bellette\",\n",
    "            \"Paul Vrbik\",\n",
    "            \"Tom Cranitch\",\n",
    "            \"Yoni Nazarathy\",\n",
    "            \"Sam Hambleton\",\n",
    "            \"Alistair Falconer\",\n",
    "            \"Emma Comino\",\n",
    "            \"Ivana Carrizo-Molina\"]\n",
    "\n",
    "#sort(names, by= (x) ->length(split(x,\" \")[end]))\n",
    "#last_names = Array{String}(undef, 0)\n",
    "function my_sort_bubble!(a; by= (a)-> length((a)))\n",
    "    n = length(a)\n",
    "    for i in 1:n-1\n",
    "        for j in 1:n-i\n",
    "            if  by(a[j]) > by(a[j+1])    \n",
    "                a[j], a[j + 1] = a[j + 1], a[j]\n",
    "            end\n",
    "        end\n",
    "    end\n",
    "end \n",
    "my_sort_bubble!(names,by= (a)->length(split(a,\" \")[end]))\n",
    "println(\"The name order by the length of last names:\", names)"
   ]
  },
  {
   "cell_type": "markdown",
   "metadata": {},
   "source": [
    "## 8c:"
   ]
  },
  {
   "cell_type": "code",
   "execution_count": null,
   "metadata": {},
   "outputs": [],
   "source": [
    "#we sorted it once, how do we sort it twice or more? \n",
    "#I am sure that part_sort_quick is working\n",
    "function part_sort_quick(a, l, r) #a is the array, l is the indexes left to the pivot and r is the pivot right to the pivot\n",
    "    pivot = a[r] #define the pivot\n",
    "    i = l - 1  #initalize the starting position of i\n",
    "        for j ∈ l:r-1 #for k from the first element to the last element before the pivot\n",
    "            if a[j]<pivot\n",
    "                i += 1 #increment i by 1\n",
    "                a[i],a[j] = a[j],a[i] #swap the element at i and j\n",
    "            end\n",
    "        end\n",
    "        a[i+1] ,a[r] = a[r], a[i+1]\n",
    "    #swap the pivot with i+1 element so that all values on the left of the pivot is smaller than pivot\n",
    "    return i + 1 #return index of the pivot\n",
    "end\n",
    "#quick sort should be a recursive function\n",
    "function my_quick_sort(a,l,r)\n",
    "    if l >= r #if the l is bigger or equal to the right there is nothing more to sort\n",
    "        return\n",
    "    else l < r\n",
    "            p = part_sort_quick(a,l,r)\n",
    "            @show part_sort_quick(a,l,r)\n",
    "            my_quick_sort(a, l, p-1)\n",
    "            my_quick_sort(a, p+1, r) \n",
    "        return a\n",
    "    end \n",
    "end\n",
    "#"
   ]
  },
  {
   "cell_type": "markdown",
   "metadata": {},
   "source": [
    "## 8d:"
   ]
  },
  {
   "cell_type": "code",
   "execution_count": null,
   "metadata": {},
   "outputs": [],
   "source": [
    "using BenchmarkTools\n",
    "data = rand(Int, 10^6)\n",
    "data_1 = rand(Int, 10^5)\n",
    "@btime sort(data)\n",
    "@btime my_quick_sort(data_1,1,length(data_1))"
   ]
  },
  {
   "cell_type": "markdown",
   "metadata": {},
   "source": [
    "---\n",
    "\n",
    "*Use this area below as an experimental playground for the question. Feel free to leave some of the experimental code here with your submision. However, it will not be marked or reviewed. Make sure in your submission that if there is any experimental code here then running it does not interfere with running the actual solutions.*\n",
    "\n",
    "---"
   ]
  },
  {
   "cell_type": "code",
   "execution_count": 1,
   "metadata": {},
   "outputs": [
    {
     "data": {
      "text/plain": [
       "10-element Vector{Float64}:\n",
       " 0.3715278714713923\n",
       " 0.5827838677957287\n",
       " 0.5001923764946207\n",
       " 0.6194998257401508\n",
       " 0.024160832819473677\n",
       " 0.9234086929567886\n",
       " 0.04930050236040784\n",
       " 0.26820010716880116\n",
       " 0.644552935257493\n",
       " 0.6047031796255372"
      ]
     },
     "execution_count": 1,
     "metadata": {},
     "output_type": "execute_result"
    }
   ],
   "source": []
  },
  {
   "cell_type": "code",
   "execution_count": null,
   "metadata": {},
   "outputs": [],
   "source": []
  },
  {
   "cell_type": "code",
   "execution_count": null,
   "metadata": {},
   "outputs": [],
   "source": []
  },
  {
   "cell_type": "markdown",
   "metadata": {},
   "source": [
    "# Solution to [Question 9](https://courses.smp.uq.edu.au/MATH2504/2022/assessment_html/bighw.html#q9)"
   ]
  },
  {
   "cell_type": "code",
   "execution_count": 1,
   "metadata": {},
   "outputs": [
    {
     "name": "stdout",
     "output_type": "stream",
     "text": [
      "A = round.(10 * rand(2, 3)) = [4.0 9.0 7.0; 1.0 1.0 1.0]\n",
      "B = round.(10 * rand(3, 4)) = [7.0 7.0 1.0 9.0; 10.0 4.0 3.0 9.0; 4.0 5.0 7.0 8.0]\n"
     ]
    },
    {
     "data": {
      "text/plain": [
       "2×4 Matrix{Float64}:\n",
       " 146.0  99.0  80.0  173.0\n",
       "  21.0  16.0  11.0   26.0"
      ]
     },
     "execution_count": 1,
     "metadata": {},
     "output_type": "execute_result"
    }
   ],
   "source": [
    "using Random\n",
    "using LinearAlgebra\n",
    "Random.seed!(0)\n",
    "@show A = round.(10*rand(2,3))\n",
    "@show B = round.(10*rand(3,4))\n",
    "A*B"
   ]
  },
  {
   "cell_type": "markdown",
   "metadata": {},
   "source": [
    "## 9a:"
   ]
  },
  {
   "cell_type": "code",
   "execution_count": 2,
   "metadata": {},
   "outputs": [
    {
     "data": {
      "text/plain": [
       "2×4 Matrix{Float64}:\n",
       " 146.0  99.0  80.0  173.0\n",
       "  21.0  16.0  11.0   26.0"
      ]
     },
     "execution_count": 2,
     "metadata": {},
     "output_type": "execute_result"
    }
   ],
   "source": [
    "using BenchmarkTools\n",
    "function my_mult_by_cols(A, B)\n",
    "    \n",
    "    nA,mA = size(A)\n",
    "    nB,mB = size(B)\n",
    "    @assert mA == nB\n",
    "    n, m, p, q = nA, mA, mB, nB\n",
    "    C = Array{Float64}(undef,n,p)\n",
    "    \n",
    "    for c_columns in 1:p\n",
    "            \n",
    "        C[:, c_columns] = sum([A[:, a_columns] * B[a_columns, c_columns] for a_columns in 1:m])\n",
    "        \n",
    "    end\n",
    "    \n",
    "    return C\n",
    "    \n",
    "end\n",
    "\n",
    "my_mult_by_cols(A, B)"
   ]
  },
  {
   "cell_type": "markdown",
   "metadata": {},
   "source": [
    "## 9b:"
   ]
  },
  {
   "cell_type": "code",
   "execution_count": 3,
   "metadata": {},
   "outputs": [
    {
     "data": {
      "text/plain": [
       "2×4 Matrix{Float64}:\n",
       " 146.0  99.0  80.0  173.0\n",
       "  21.0  16.0  11.0   26.0"
      ]
     },
     "execution_count": 3,
     "metadata": {},
     "output_type": "execute_result"
    }
   ],
   "source": [
    "function my_mult_by_rows(A, B)\n",
    "\n",
    "    nA,mA = size(A)\n",
    "    nB,mB = size(B)\n",
    "    @assert mA == nB\n",
    "    n, m, p, q = nA, mA, mB, nB\n",
    "    C = Array{Float64}(undef,n,p)\n",
    "    \n",
    "    for a_rows in 1:n\n",
    "            \n",
    "        C[a_rows, :] = sum([A[a_rows, b_cols] * B[b_cols, :] for b_cols in 1:q])\n",
    "        \n",
    "    end\n",
    "    \n",
    "    return C\n",
    "    \n",
    "end\n",
    "\n",
    "my_mult_by_rows(A, B)"
   ]
  },
  {
   "cell_type": "markdown",
   "metadata": {},
   "source": [
    "## 9c:"
   ]
  },
  {
   "cell_type": "code",
   "execution_count": 3,
   "metadata": {},
   "outputs": [
    {
     "name": "stdout",
     "output_type": "stream",
     "text": [
      "  0.055752 seconds (32.18 k allocations: 1.747 MiB, 99.95% compilation time)\n"
     ]
    },
    {
     "data": {
      "text/plain": [
       "2×4 Matrix{Float64}:\n",
       " 146.0  99.0  80.0  173.0\n",
       "  21.0  16.0  11.0   26.0"
      ]
     },
     "execution_count": 3,
     "metadata": {},
     "output_type": "execute_result"
    }
   ],
   "source": [
    "function my_mult_sum_outer_products(A, B)\n",
    " \n",
    "nA,mA = size(A)\n",
    "nB,mB = size(B)\n",
    "@assert mA == nB\n",
    "n, m, p, q = nA, mA, mB, nB\n",
    "outer_products = Array{Float64}(undef,n,p)    \n",
    "    \n",
    "    for i in 1:m\n",
    "        \n",
    "        outer_products += A[:, i] * B[i, :]'\n",
    "    \n",
    "    end\n",
    "    \n",
    "#     a1b1 = A[:, 1] * B[1, :]'\n",
    "#     a2b2 = A[:, 2] * B[2, :]'\n",
    "#     a3b3 = A[:, 3] * B[3, :]'\n",
    "    \n",
    "    #outer_product_sum = a1b1 + a2b2 + a3b3\n",
    "        \n",
    "    return outer_products\n",
    "        \n",
    "end\n",
    "\n",
    "@time my_mult_sum_outer_products(A, B)"
   ]
  },
  {
   "cell_type": "markdown",
   "metadata": {},
   "source": [
    "## 9d:\n"
   ]
  },
  {
   "cell_type": "markdown",
   "metadata": {},
   "source": [
    "In terms of complexity of the numebr of operations, single for loops are far more efficient then nested for loops. This is because using a nested for loop is going through the operations 2 full times (for each of the for loops) which is doubling the number of computations the function needs to do. It is always best to avoid nested loops where possible if they can be replaced with a single loop as this will end up computing far less operations which is more efficient "
   ]
  },
  {
   "cell_type": "markdown",
   "metadata": {},
   "source": [
    "---\n",
    "\n",
    "*Use this area below as an experimental playground for the question. Feel free to leave some of the experimental code here with your submision. However, it will not be marked or reviewed. Make sure in your submission that if there is any experimental code here then running it does not interfere with running the actual solutions.*\n",
    "\n",
    "---"
   ]
  },
  {
   "cell_type": "code",
   "execution_count": 15,
   "metadata": {},
   "outputs": [
    {
     "name": "stdout",
     "output_type": "stream",
     "text": [
      "  0.156127 seconds (81.01 k allocations: 4.456 MiB, 98.95% compilation time)\n"
     ]
    },
    {
     "data": {
      "text/plain": [
       "2×4 Matrix{Float64}:\n",
       " 146.0  99.0  80.0  173.0\n",
       "  21.0  16.0  11.0   26.0"
      ]
     },
     "execution_count": 15,
     "metadata": {},
     "output_type": "execute_result"
    }
   ],
   "source": [
    "function my_mult_inner_products(A,B)\n",
    "nA,mA = size(A)\n",
    "\n",
    "nB,mB = size(B)\n",
    "@assert mA == nB\n",
    "n, m, p = nA, mA, mB\n",
    "C = Array{Float64}(undef,n,p)\n",
    "for i in 1:n\n",
    "for j in 1:p\n",
    "C[i,j] = A[i,:]' * B[:,j] #compute inner product of i'th row of A a\n",
    "end\n",
    "end\n",
    "return C\n",
    "end\n",
    "@time my_mult_inner_products(A,B)"
   ]
  },
  {
   "cell_type": "code",
   "execution_count": null,
   "metadata": {},
   "outputs": [],
   "source": []
  },
  {
   "cell_type": "code",
   "execution_count": null,
   "metadata": {},
   "outputs": [],
   "source": []
  }
 ],
 "metadata": {
  "kernelspec": {
   "display_name": "Julia 1.7.3",
   "language": "julia",
   "name": "julia-1.7"
  },
  "language_info": {
   "file_extension": ".jl",
   "mimetype": "application/julia",
   "name": "julia",
   "version": "1.7.3"
  }
 },
 "nbformat": 4,
 "nbformat_minor": 4
}
