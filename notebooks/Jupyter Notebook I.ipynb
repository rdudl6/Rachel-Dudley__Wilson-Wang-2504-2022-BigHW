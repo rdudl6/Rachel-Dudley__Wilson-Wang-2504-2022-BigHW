{
 "cells": [
  {
   "cell_type": "markdown",
   "metadata": {},
   "source": [
    "### MATH2504 S2, 2022, BigHW Submission \n",
    "### Submission form I of IV "
   ]
  },
  {
   "cell_type": "markdown",
   "metadata": {},
   "source": [
    "Student #1 name: Rachel Dudley\n",
    "\n",
    "Student #1 ID: 46982243\n",
    "\n",
    "Student #2 name:\n",
    "\n",
    "Student #2 ID:\n",
    "\n",
    "GitHub repo: "
   ]
  },
  {
   "cell_type": "markdown",
   "metadata": {},
   "source": [
    "---\n",
    "\n",
    "**Note: It is expected that this notebook be runnable in the sense that the marker can select \"Restart & Run All\" and all code cells of solutions will execute. This requires not to have name clashes between solutions.**\n",
    "\n",
    "---"
   ]
  },
  {
   "cell_type": "markdown",
   "metadata": {},
   "source": [
    "# Solution to [Question 1](https://courses.smp.uq.edu.au/MATH2504/2022/assessment_html/bighw.html#q1)"
   ]
  },
  {
   "cell_type": "markdown",
   "metadata": {},
   "source": [
    "## 1a:"
   ]
  },
  {
   "cell_type": "code",
   "execution_count": 1,
   "metadata": {},
   "outputs": [
    {
     "data": {
      "text/latex": [
       "$\\Phi = 1 + \\frac{1}{1 + \\frac{1}{1 + \\frac{1}{1 + \\frac{1}{1 + \\frac{1}{1}}}}}$"
      ],
      "text/plain": [
       "L\"$\\Phi = 1 + \\frac{1}{1 + \\frac{1}{1 + \\frac{1}{1 + \\frac{1}{1 + \\frac{1}{1}}}}}$\""
      ]
     },
     "execution_count": 1,
     "metadata": {},
     "output_type": "execute_result"
    }
   ],
   "source": [
    "using Latexify\n",
    "Golden_ratio = :(Φ = 1 + 1 / (1 + 1 / (1 + 1 / (1 + 1 / (1 + 1/1)))) )\n",
    "latexify(Golden_ratio)"
   ]
  },
  {
   "cell_type": "markdown",
   "metadata": {},
   "source": [
    "## 1b:"
   ]
  },
  {
   "cell_type": "markdown",
   "metadata": {},
   "source": [
    "##### Ordered List of 5 Books\n",
    "\n",
    "1. [To Kill A Mockingbird] (https://en.wikipedia.org/wiki/To_Kill_a_Mockingbird)\n",
    "2. [Moby-Dick] (https://en.wikipedia.org/wiki/Moby-Dick)\n",
    "3. [Oliver Twist] (https://en.wikipedia.org/wiki/Oliver_Twist)\n",
    "4. [Pride and Prejudice] (https://en.wikipedia.org/wiki/Pride_and_Prejudice)\n",
    "5. [The Great Gatsby] (https://en.wikipedia.org/wiki/The_Great_Gatsby)\n"
   ]
  },
  {
   "cell_type": "markdown",
   "metadata": {},
   "source": [
    "## 1c:"
   ]
  },
  {
   "cell_type": "code",
   "execution_count": 1,
   "metadata": {},
   "outputs": [],
   "source": [
    "The cute Goldie\n",
    "<a href=\"https://www.animalwised.com/10-things-you-should-know-about-golden-retrievers-904.html\" border = 2>\n",
    "![alt text](https://t1.ea.ltmcdn.com/en/posts/4/0/9/10_things_you_should_know_about_golden_retrievers_904_600.jpg)\n",
    "    </a>"
   ]
  },
  {
   "cell_type": "markdown",
   "metadata": {},
   "source": [
    "## 1d:"
   ]
  },
  {
   "cell_type": "code",
   "execution_count": 2,
   "metadata": {},
   "outputs": [],
   "source": [
    "table, th, td {border:1px solid black; border-collapse: collapse;}\n",
    "<table>\n",
    "    <caption>My Weekly Class Schedule\n",
    "        <tr>\n",
    "            <th>   </th>\n",
    "            <th>Monday</th>\n",
    "            <th>Tuesday</th>\n",
    "            <th>Wendesday</th>\n",
    "            <th>Thursday</th>\n",
    "            <th>Friday</th>\n",
    "        </tr>\n",
    "        <tr>\n",
    "            <th>8-9</th>\n",
    "            <th> </th>\n",
    "            <th> </th>\n",
    "            <th> </th>\n",
    "            <th> </th>\n",
    "            <th>BIOL2202 Lecture</th>\n",
    "        </tr>\n",
    "        <tr>\n",
    "            <th>9-10</th>\n",
    "            <th> </th>\n",
    "            <th> </th>\n",
    "            <th> </th>\n",
    "            <th>PHYS2041 Tutorial</th>\n",
    "            <th> </th>\n",
    "        </tr>\n",
    "        <tr>\n",
    "            <th>10-11</th>\n",
    "            <th> </th>\n",
    "            <th>BIOL2222 Practical </th>\n",
    "            <th>BIOL2222 Practical </th>\n",
    "            <th> </th>\n",
    "            <th> </th>\n",
    "        </tr>\n",
    "        <tr>\n",
    "            <th>11-12</th>\n",
    "            <th> </th>\n",
    "            <th>BIOL2222 Practical </th>\n",
    "            <th>BIOL2222 Practical </th>\n",
    "            <th> </th>\n",
    "            <th> </th>\n",
    "        </tr>\n",
    "         <tr>\n",
    "            <th>12-13</th>\n",
    "            <th>BIOL2202 Lecture </th>\n",
    "            <th>BIOL2222 Practical </th>\n",
    "            <th>BIOL2222 Practical </th>\n",
    "            <th>BIOM2222 Lecture </th>\n",
    "            <th> </th>\n",
    "        </tr>\n",
    "         <tr>\n",
    "            <th>13-14</th> \n",
    "            <th> </th> \n",
    "            <th>BIOL2202 Lecture </th>\n",
    "            <th> </th>\n",
    "            <th> </th>\n",
    "            <th> </th>\n",
    "        </tr>\n",
    "        <tr>\n",
    "         <th>14-15</th>\n",
    "            <th> </th>\n",
    "            <th> </th>\n",
    "            <th> </th>\n",
    "            <th> </th>\n",
    "            <th>MATH2504 Tutorial </th>\n",
    "        </tr>\n",
    "        <tr>\n",
    "        <th>14-15</th>\n",
    "            <th> </th>\n",
    "            <th> </th>\n",
    "            <th> </th>\n",
    "            <th> </th>\n",
    "            <th> </th>\n",
    "        </tr>\n",
    "        <tr>\n",
    "        <th>15-16</th>\n",
    "            <th> </th>\n",
    "            <th> </th>\n",
    "            <th> </th>\n",
    "            <th> </th>\n",
    "            <th> </th>\n",
    "        </tr>\n",
    "        <tr>\n",
    "        <th>16-17</th>\n",
    "            <th> </th>\n",
    "            <th> </th>\n",
    "            <th> </th>\n",
    "            <th> </th>\n",
    "            <th> </th>\n",
    "        </tr>\n",
    "        <tr>\n",
    "        <th>17-18</th>\n",
    "            <th>MATH2504 Lecture </th>\n",
    "            <th> </th>\n",
    "            <th> </th>\n",
    "            <th> </th>\n",
    "            <th> </th>\n",
    "        </tr>\n",
    "        <tr>\n",
    "        <th>18-19</th>\n",
    "            <th>MATH2504 Lecture </th>\n",
    "            <th>MATH2504 Lecture </th>\n",
    "            <th> </th>\n",
    "            <th> </th>\n",
    "            <th> </th>\n",
    "        </tr>"
   ]
  },
  {
   "cell_type": "markdown",
   "metadata": {},
   "source": [
    "# Solution to [Question 2](https://courses.smp.uq.edu.au/MATH2504/2022/assessment_html/bighw.html#q2)"
   ]
  },
  {
   "cell_type": "markdown",
   "metadata": {},
   "source": [
    "## 2a:"
   ]
  },
  {
   "cell_type": "markdown",
   "metadata": {},
   "source": [
    "#### 2a.1:"
   ]
  },
  {
   "cell_type": "markdown",
   "metadata": {},
   "source": [
    "Yes, The code would still work because the Array is set to return only values of type Float64 so only inputs that will do that will be accepted"
   ]
  },
  {
   "cell_type": "markdown",
   "metadata": {},
   "source": [
    "#### 2a.2:"
   ]
  },
  {
   "cell_type": "markdown",
   "metadata": {},
   "source": [
    "No, using 4ac instead of 4a*c would not work because this could be confused with 4 * ac (if there were to exist such a variable called ac)"
   ]
  },
  {
   "cell_type": "markdown",
   "metadata": {},
   "source": [
    "#### 2a.3:"
   ]
  },
  {
   "cell_type": "markdown",
   "metadata": {},
   "source": [
    "The error is a Syntax error"
   ]
  },
  {
   "cell_type": "markdown",
   "metadata": {},
   "source": [
    "#### 2a.4:"
   ]
  },
  {
   "cell_type": "markdown",
   "metadata": {},
   "source": [
    "Rewriting the code to use (-b .+ [√Δ,-√Δ])/(2a) does still work, but when replacing the '.+' with just a '+' it does not work. This is because the inputs 'a, b, c' are Numbers to be displayed in an array (not vectors which the [ ]'s specify). The dot lets Julia recognise the vector-like nature of what's in those square brackets."
   ]
  },
  {
   "cell_type": "markdown",
   "metadata": {},
   "source": [
    "#### 2a.5:"
   ]
  },
  {
   "cell_type": "markdown",
   "metadata": {},
   "source": [
    "The code still runs successfully without the use of the return function, however it is more optimal to use it because this stops the execution of the function when the value of the roots get returned."
   ]
  },
  {
   "cell_type": "markdown",
   "metadata": {},
   "source": [
    "#### 2a.6:"
   ]
  },
  {
   "cell_type": "markdown",
   "metadata": {},
   "source": [
    "When the input 'a' is set to 0 (or 0.0), the function returns the solutions (0.0, -0.0) which has some issues. Firstly, if a = 0 then the function would be linear not a quadratic, therefore there would be only 1 root and it will not necessarily be 0. Also, 0.0 and -0.0 have the same value so writing both is redundant and unnessecary."
   ]
  },
  {
   "cell_type": "markdown",
   "metadata": {},
   "source": [
    "#### 2a.7:"
   ]
  },
  {
   "cell_type": "markdown",
   "metadata": {},
   "source": [
    "Yes, it works"
   ]
  },
  {
   "cell_type": "markdown",
   "metadata": {},
   "source": [
    "#### 2a.8:"
   ]
  },
  {
   "cell_type": "markdown",
   "metadata": {},
   "source": [
    "The first part of the statement (a==0) is a condition where if it is met then the code must also (&& - AND) run the second part which is the return error statement. This return statement terminates the rest of the code running therefore the outputs (0.0, -0.0) no longer are returned. If a print statement was used instead of the return, then the code would return an error message BUT also returns the unwanted (0.0, -0.0)"
   ]
  },
  {
   "cell_type": "markdown",
   "metadata": {},
   "source": [
    "#### 2a.9:"
   ]
  },
  {
   "cell_type": "markdown",
   "metadata": {},
   "source": [
    "Since the (a==0) is the condition which hasn't been met, the throw statement is acting similar to a return statement, however it is recognising the variable: DomainError, which tells the user which value there is an error with. In this code where 'a' is the variable listed in the DomainError, the 'throw(DomainError(a' outputs the value of 'a' as the error, and then returns the message stated next."
   ]
  },
  {
   "cell_type": "markdown",
   "metadata": {},
   "source": [
    "---"
   ]
  },
  {
   "cell_type": "markdown",
   "metadata": {},
   "source": [
    " ## 2b:"
   ]
  },
  {
   "cell_type": "markdown",
   "metadata": {},
   "source": [
    "#### 2b.1:"
   ]
  },
  {
   "cell_type": "code",
   "execution_count": 3,
   "metadata": {},
   "outputs": [],
   "source": [
    "function real_roots_of_quadratic(a, b, c) # what if there is no ::number\n",
    "\n",
    "    #Start by initializing an empty array\n",
    "    roots::Array{Float64} = []\n",
    "\n",
    "    #Compute the discriminant \n",
    "    Δ = b^2 - 4a*c #\\Delta + [TAB]\n",
    "\n",
    "    #Based on the sign of the discriminant return 0, 1, or 2 roots.\n",
    "    if Δ < 0 \n",
    "        roots = []\n",
    "    elseif Δ == 0\n",
    "        roots = [-b/(2a)]\n",
    "    else\n",
    "        roots = [-b + √Δ, -b - √Δ] / (2a) #\\sqrt + [TAB]\n",
    "    end\n",
    "    return roots \n",
    "end\n",
    "\n",
    "for example in examples\n",
    "    roots = real_roots_of_quadratic(example[1], example[2], example[3])\n",
    "    print(\"The equation $(example[1])x² + $(example[2])x + $(example[3]) = 0 \") #\\^2 + [TAB] #***\n",
    "    if length(roots) == 0 #***\n",
    "        println(\"has no real roots.\") #***\n",
    "    elseif length(roots) == 1 #***\n",
    "        println(\"has the single (real) root $(roots[1])\") #***\n",
    "    else #***\n",
    "        println(\"has the real roots $(roots[1]) and $(roots[2])\") #***\n",
    "    end #***\n",
    "end"
   ]
  },
  {
   "cell_type": "markdown",
   "metadata": {},
   "source": [
    "#### 2b.2:"
   ]
  },
  {
   "cell_type": "code",
   "execution_count": 4,
   "metadata": {},
   "outputs": [],
   "source": [
    "examples = [[1,-5,6], [1,2,3],[1,7,0],[2,-9,-11],[3,3,3]]\n",
    "for i = 1:5\n",
    "example = examples[i] \n",
    "end\n",
    "#the #*** could been function of their own\n",
    "for example in examples\n",
    "    roots = real_roots_of_quadratic(example[1], example[2], example[3])\n",
    "end\n",
    "function print_quadratic_roots(examples, roots)\n",
    "        if length(roots) == 0 #***\n",
    "            return println(\"has no real roots.\") #***\n",
    "        elseif length(roots) == 1 #***\n",
    "             return println(\"has the single (real) root $(roots[1])\") #***\n",
    "        else #***\n",
    "            return println(\"has the real roots $(roots[1]) and $(roots[2])\") #***\n",
    "        end #***\n",
    "return nothing  \n",
    "end\n",
    "print(\"The equation $(example[1])x² + $(example[2])x + $(example[3]) = 0 \")"
   ]
  },
  {
   "cell_type": "markdown",
   "metadata": {},
   "source": [
    "#### 2b.3:"
   ]
  },
  {
   "cell_type": "code",
   "execution_count": 5,
   "metadata": {},
   "outputs": [],
   "source": [
    "function real_roots_of_quadratic(a, b, c) # what if there is no ::number\n",
    "\n",
    "    #Start by initializing an empty array\n",
    "    roots::Array{Float64} = []\n",
    "\n",
    "    #Compute the discriminant \n",
    "    Δ = b^2 - 4a*c #\\Delta + [TAB]\n",
    "\n",
    "    #Based on the sign of the discriminant return 0, 1, or 2 roots.\n",
    "    if Δ < 0 \n",
    "        roots = []\n",
    "    elseif Δ == 0\n",
    "        roots = [-b/(2a)]\n",
    "    else\n",
    "        roots = [-b + √Δ, -b - √Δ] / (2a) #\\sqrt + [TAB]\n",
    "    end\n",
    "    return roots \n",
    "end\n",
    "\n",
    "examples = [[1,-5,6],[1,2,3],[1,7,0],[2,-9,-11],[3,3,3]]\n",
    "\n",
    "\n",
    "\n",
    "for example in examples\n",
    "    roots = real_roots_of_quadratic(example[1], example[2], example[3])\n",
    "    if example[1] == 1 \n",
    "    (\"The equation x²+ $(example[2])x + $(example[3]) = 0 \")\n",
    "    print_quadratic_roots(example, roots)\n",
    "    end \n",
    "    \n",
    "    if example[1] == -1 ? print(\"The equation $(-)x² + $(example[2])x + $(example[3]) = 0 \") : print(\"The equation $(example[1])x² + $(example[2])x + $(example[3]) = 0 \")\n",
    "    print_quadratic_roots(example, roots)\n",
    "    end\n",
    "end\n",
    "\n",
    "    \n",
    "function print_quadratic_roots(example, roots)\n",
    "    if length(roots) == 0\n",
    "        println(\"has no real roots.\")\n",
    "    elseif length(roots) == 1 ? println(\"has the single (real) root $(roots[1])\") : println(\"has the real roots $(roots[1]) and $(roots[2])\")\n",
    "    end\n",
    "return nothing \n",
    "end\n"
   ]
  },
  {
   "cell_type": "markdown",
   "metadata": {},
   "source": [
    "## 2c:"
   ]
  },
  {
   "cell_type": "markdown",
   "metadata": {},
   "source": [
    "#### 2c.1:"
   ]
  },
  {
   "cell_type": "code",
   "execution_count": 6,
   "metadata": {},
   "outputs": [],
   "source": [
    "### Make this a markdown cell and answer 2c.1 here (in place of this comment)"
   ]
  },
  {
   "cell_type": "markdown",
   "metadata": {},
   "source": [
    "#### 2c.2:"
   ]
  },
  {
   "cell_type": "code",
   "execution_count": 7,
   "metadata": {},
   "outputs": [],
   "source": [
    "### Answer 2c.1 here (in place of this comment)"
   ]
  },
  {
   "cell_type": "markdown",
   "metadata": {},
   "source": [
    "#### 2c.3:"
   ]
  },
  {
   "cell_type": "code",
   "execution_count": 19,
   "metadata": {},
   "outputs": [],
   "source": [
    "#l"
   ]
  },
  {
   "cell_type": "markdown",
   "metadata": {},
   "source": [
    "#### 2c.4:"
   ]
  },
  {
   "cell_type": "code",
   "execution_count": 9,
   "metadata": {},
   "outputs": [],
   "source": [
    "### Answer 2c.4 here (in place of this comment)"
   ]
  },
  {
   "cell_type": "markdown",
   "metadata": {},
   "source": [
    "#### 2c.5:"
   ]
  },
  {
   "cell_type": "code",
   "execution_count": 10,
   "metadata": {},
   "outputs": [],
   "source": [
    "### Answer 2c.5 here (in place of this comment)"
   ]
  },
  {
   "cell_type": "markdown",
   "metadata": {},
   "source": [
    "## 2d:"
   ]
  },
  {
   "cell_type": "code",
   "execution_count": 11,
   "metadata": {},
   "outputs": [],
   "source": [
    "### Answer 2d here (in place of this comment)"
   ]
  },
  {
   "cell_type": "markdown",
   "metadata": {},
   "source": [
    "---\n",
    "\n",
    "*Use this area below as an experimental playground for the question. Feel free to leave some of the experimental code here with your submision. However, it will not be marked or reviewed. Make sure in your submission that if there is any experimental code here then running it does not interfere with running the actual solutions.*\n",
    "\n",
    "---"
   ]
  },
  {
   "cell_type": "code",
   "execution_count": null,
   "metadata": {},
   "outputs": [],
   "source": []
  },
  {
   "cell_type": "code",
   "execution_count": null,
   "metadata": {},
   "outputs": [],
   "source": []
  },
  {
   "cell_type": "code",
   "execution_count": null,
   "metadata": {},
   "outputs": [],
   "source": []
  },
  {
   "cell_type": "markdown",
   "metadata": {},
   "source": [
    "# Solution to [Question 3](https://courses.smp.uq.edu.au/MATH2504/2022/assessment_html/bighw.html#q3)"
   ]
  },
  {
   "cell_type": "markdown",
   "metadata": {},
   "source": [
    "## 3a:"
   ]
  },
  {
   "cell_type": "markdown",
   "metadata": {},
   "source": [
    "#### 3a.1:"
   ]
  },
  {
   "cell_type": "markdown",
   "metadata": {},
   "source": [
    "This expression sets a condition for which an x value will either be true or false. If that condition (x % 2 == 0) is met, then it means that when x is divided by 2, the remainder is zero... so since it's true, the x value is divided by 2 (as stated by (x / 2)), and then the answer to that is then tested again to see if it is divisable by 2. If it is, then that x value is again run through the first expression (x / 2) to get another new x value, however, if it is not devisable by 2 (therefore FALSE), the x value is run through the second expression (3x + 1). Since this is within a while loop, this code is run for each new value of x, until x = 1."
   ]
  },
  {
   "cell_type": "markdown",
   "metadata": {},
   "source": [
    "#### 3a.2:"
   ]
  },
  {
   "cell_type": "markdown",
   "metadata": {},
   "source": [
    "For $x_{o} \\in \\mathbb{Z}^+$ and $k \\in \\mathbb{Z}^+$\\\n",
    "$$\n",
    "x_n= \n",
    "\\begin{cases}\n",
    "\\frac{1}{2}x_{n-1}, &\\text{for $x_{n-1} \\in 2k$} \\\\\n",
    "3x_{n-1}+1, &\\text{for $x_{n} \\in 2k+1$}\n",
    "\\end{cases}\n",
    "$$"
   ]
  },
  {
   "cell_type": "markdown",
   "metadata": {},
   "source": [
    "#### 3a.3:"
   ]
  },
  {
   "cell_type": "code",
   "execution_count": 13,
   "metadata": {},
   "outputs": [],
   "source": [
    "function hail_stone_sequence(x::Int, verbose::Bool = false)\n",
    "    \n",
    "    while x != 1\n",
    "        x = ((x % 2 == 0) ? (x / 2) : (3x + 1))\n",
    "        verbose && println(\"x = $x\") \n",
    "    end\n",
    "        \n",
    "        if x != 1\n",
    "            print_ = \"The conjecture does not hold for all values of x from 1:100000000\"\n",
    "        else\n",
    "            print_ = \"\"\n",
    "        end\n",
    "    \n",
    "    print(print_)\n",
    "    \n",
    "end\n",
    "\n",
    "run_integers = collect(1:10^2);      #replace 10^2 is used for run time, replace with 10^8 for complete response: read Note comments below code\n",
    "\n",
    "for i in run_integers\n",
    "    hail_stone_sequence(i, false)\n",
    "end\n",
    "\n",
    "#When this code has completed running there is no error message, therefore it can be concluded that for each value of 1 to 10^8,\n",
    "# x ends up being equal to 1, thus the conjecture must be true for all numbers in 1:10^8\n",
    "\n",
    "##Note: the run speed on this is very very slow. Using @time \n",
    "# time for 10^1 = 0.000922 sec\n",
    "# time for 10^2 = 0.003557 sec\n",
    "# time for 10^3 = 0.029850 sec\n",
    "# time for 10^4 = 0.219082 sec\n",
    "# time for 10^5 = 2.241111 sec\n",
    "# time for 10^6 = 22.188296 sec\n",
    "# time for 10^7 = 257.554713 sec\n",
    "# time for 10^8 = 8112.953492 sec\n",
    "\n",
    "# @time for i in run_integers\n",
    "#     hail_stone_sequence(i, false)\n",
    "# end "
   ]
  },
  {
   "cell_type": "markdown",
   "metadata": {},
   "source": [
    "#### 3b:"
   ]
  },
  {
   "cell_type": "code",
   "execution_count": null,
   "metadata": {},
   "outputs": [],
   "source": [
    "using Plots\n",
    "\n",
    "function hail_length(x::Int)\n",
    "    n = 0\n",
    "    while x != 1\n",
    "        x = ((x % 2 == 0) ? (x/2) : (3x + 1))\n",
    "        n += 1\n",
    "    end\n",
    "    return n\n",
    "end\n",
    "\n",
    "# function hail_max(N)\n",
    "#     max_n = -Inf \n",
    "#     for x in 1:N\n",
    "#         n = hail_length(x)\n",
    "#         if n > max_n\n",
    "#             max_n = n\n",
    "#         end\n",
    "#     end\n",
    "#     return max_n\n",
    "# end\n",
    "\n",
    "find_max_replacement(N) = max([hail_length(i) for i in 1:N]...) #one line replacement function\n",
    "\n",
    "\n",
    "step_range = 1 : 10000\n",
    "\n",
    "\n",
    "max_vals = [find_max_replacement(N) for N in step_range]\n",
    "plot(step_range, max_vals, xaxis=:log, label = false, xlabel = \"Maximal initial value\", ylabel = \"Maximal number of steps\")"
   ]
  },
  {
   "cell_type": "code",
   "execution_count": 1,
   "metadata": {},
   "outputs": [
    {
     "data": {
      "text/plain": [
       "hail_length (generic function with 1 method)"
      ]
     },
     "execution_count": 1,
     "metadata": {},
     "output_type": "execute_result"
    }
   ],
   "source": [
    "function hail_length(x::Int)\n",
    "    n = 0\n",
    "    while x != 1\n",
    "        x = ((x % 2 == 0) ? (x/2) : (3x + 1))\n",
    "        n += 1\n",
    "    end\n",
    "    return n\n",
    "end"
   ]
  },
  {
   "cell_type": "code",
   "execution_count": 6,
   "metadata": {},
   "outputs": [
    {
     "data": {
      "text/plain": [
       "(685, 8400511)"
      ]
     },
     "execution_count": 6,
     "metadata": {},
     "output_type": "execute_result"
    }
   ],
   "source": [
    "findmax([hail_length(x) for x in 1:10^7])"
   ]
  },
  {
   "cell_type": "markdown",
   "metadata": {},
   "source": [
    "#### 3c:"
   ]
  },
  {
   "cell_type": "markdown",
   "metadata": {},
   "source": [
    "When the step range is changed from 10^4 to 10^7, the run time would take excessively long because each time the hail_max function is called, it runs through all vallues from 1 up to N (where N is now going up to 10^7). This is redundant and not necessary because n-k (for k<n) has already been found, so really length(n) just needs to be compared to max(n-1) to test if we have a new max "
   ]
  },
  {
   "cell_type": "code",
   "execution_count": 8,
   "metadata": {},
   "outputs": [],
   "source": [
    "length_array = Array{Float64}(undef, length(10^7))\n",
    "\n",
    "for i in 1:10^7\n",
    "    n = 0\n",
    "    while i != 1\n",
    "        i = ((i % 2 == 0) ? (i/2) : (3i + 1))\n",
    "        n += 1\n",
    "    end\n",
    "    push!(length_array, n)\n",
    "end\n",
    "\n",
    "hail_max_array = Array{Float64}(undef, length(10^7))\n",
    "for a in 2:10^7\n",
    "    max_val = 0\n",
    "    if length_array[a] >= hail_max_array[a-1]\n",
    "        max_val = length_array[a]\n",
    "    elseif length_array[a] < length_array[a-1]\n",
    "        max_val = hail_max_array[a-1]\n",
    "    end \n",
    "    push!(hail_max_array, max_val)\n",
    "end"
   ]
  },
  {
   "cell_type": "code",
   "execution_count": null,
   "metadata": {},
   "outputs": [],
   "source": [
    "using Plots\n",
    "\n",
    "step_range_2 = 1:10^7\n",
    "max_values = [hail_max_array[i] for i in 1:10^7]\n",
    "plot(step_range_2, max_values, xaxis=:log, label = false, xlabel = \"Maximal initial value\", ylabel = \"Maximal number of steps\")"
   ]
  },
  {
   "cell_type": "markdown",
   "metadata": {},
   "source": [
    "---\n",
    "\n",
    "*Use this area below as an experimental playground for the question. Feel free to leave some of the experimental code here with your submision. However, it will not be marked or reviewed. Make sure in your submission that if there is any experimental code here then running it does not interfere with running the actual solutions.*\n",
    "\n",
    "---"
   ]
  },
  {
   "cell_type": "code",
   "execution_count": null,
   "metadata": {},
   "outputs": [],
   "source": []
  },
  {
   "cell_type": "code",
   "execution_count": null,
   "metadata": {},
   "outputs": [],
   "source": []
  },
  {
   "cell_type": "code",
   "execution_count": null,
   "metadata": {},
   "outputs": [],
   "source": []
  },
  {
   "cell_type": "markdown",
   "metadata": {},
   "source": [
    "# Solution to [Question 4](https://courses.smp.uq.edu.au/MATH2504/2022/assessment_html/bighw.html#q4)"
   ]
  },
  {
   "cell_type": "markdown",
   "metadata": {},
   "source": [
    "## 4a:"
   ]
  },
  {
   "cell_type": "code",
   "execution_count": 3,
   "metadata": {},
   "outputs": [
    {
     "name": "stdout",
     "output_type": "stream",
     "text": [
      "random_binary_string() = \"001010010011\"\n",
      "random_hex_string() = \"456\"\n"
     ]
    }
   ],
   "source": [
    "random_binary_string(n = 12) = *([rand(['0','1']) for _ in 1:n]...)\n",
    "random_hex_string(n=3) = *([rand(union('0':'9','A':'F')) for _ in 1:n]...)\n",
    "    \n",
    "using Random\n",
    "\n",
    "Random.seed!(0)\n",
    "@show random_binary_string()\n",
    "@show random_hex_string();"
   ]
  },
  {
   "cell_type": "markdown",
   "metadata": {},
   "source": [
    "random_binary_string: This function generates a random string binary number. It takes the input (n = 12) which isused in the for loop for _ in 1:n and defines the number of random digits generated of either 1 or 0 (so there will be 12 consectutive numbers of 0 or 1). The syntax ' = *() ' means that for each of the 12 random string digits, the next one will be joined into the same string as the previous one. The asterisk here is used for string concatination. rand() is a Julia function which generates randomly (based on the seed), and rand([\"0\", \"1\"]) tells Julia to choose randomly either \"0\" or \"1\". The ... is the splat operator; without this, Julia sees the random strings as a vector with a character string in it and attemps to multiply them which is not possible so it returns an error.\n",
    "\n",
    "random_hex_string: Is very similar, however, instead of randomly choosing a string \"0\" or \"1\", the inbuilt union function is used which constructs the union between specified sets i.e. in the code, union('0':'9', 'A':'F') is specifying to choose either a string number between 0 and 9, or a capital letter between A and F. since all of this is within a rand() function, these numbers chosen are again 'random'. Also for this code, instead of 12 digits, there are only 3 because (n = 3). This allows 4096 (16^3) numbers to be defined."
   ]
  },
  {
   "cell_type": "markdown",
   "metadata": {},
   "source": [
    "## 4b:"
   ]
  },
  {
   "cell_type": "markdown",
   "metadata": {},
   "source": [
    "The predicted number for the sum of all binary numbers is: 2047500. This is because for each digit of the binary number, there is a 0.5 probability of it being a \"0\" and a 0.5 probability it will be a 1. Therefore assume that in each position of the binary number there will be 500 1's and 500 0's. So times the base of each position by 500 and sum those up: (500 * 1) + (500 * 2) + (500 * 4) + ... (500 * 2^11) = 2047500. The randomly generated sum was 2001912 which is very close.\n",
    "\n",
    "A similar approach was taken for the hex number prediction. since a hexadecimal number can value between 0 and 15, take 7.5 as the average and assume each digit has a value of 7.5. Then one hex number will have a predicted sum of (7.5 * 16^0) + (7.5 * 16^1) + (7.5 * 16^2) = 2047.5. And there are 1000 numbers added together, so the prediction is 2047500 too. The randomly generated sum was 2004792 which is also very close.\n"
   ]
  },
  {
   "cell_type": "code",
   "execution_count": 5,
   "metadata": {},
   "outputs": [
    {
     "name": "stdout",
     "output_type": "stream",
     "text": [
      "Q4b = [parse(Int, a, base = 2) for a = r_bin_strs] = [659, 418, 1504, 3044, 1437, 682, 657, 722, 653, 23, 732, 3732, 3460, 198, 3850, 236, 4020, 3407, 1003, 2128, 3125, 3035, 862, 3579, 2410, 1, 3147, 3337, 679, 3410, 1641, 2059, 1022, 853, 2771, 2146, 1144, 586, 736, 3195, 2602, 2177, 3153, 1169, 1883, 2345, 3551, 1387, 62, 1122, 2937, 286, 2228, 1328, 3774, 794, 653, 2431, 31, 1185, 608, 1545, 3045, 3931, 1904, 2175, 3088, 2078, 1208, 3283, 1761, 2162, 2281, 2956, 720, 286, 2156, 1392, 2028, 70, 980, 454, 965, 1904, 2326, 1370, 3085, 770, 2691, 3576, 1597, 2757, 1409, 2604, 1312, 2982, 1028, 3088, 1587, 1120, 2086, 1479, 2145, 937, 222, 3570, 3677, 858, 1094, 27, 3582, 3245, 4061, 589, 1531, 605, 3244, 3927, 2925, 3022, 3801, 222, 3431, 3514, 1938, 453, 2949, 128, 791, 517, 2161, 2305, 3909, 2831, 703, 51, 1379, 2689, 77, 3736, 2828, 473, 1266, 1600, 200, 3962, 3810, 3121, 2214, 841, 2297, 3456, 3547, 2568, 1359, 429, 95, 2824, 882, 1771, 2402, 496, 3753, 1455, 3703, 813, 1104, 3943, 2137, 1404, 2091, 1175, 3302, 971, 2003, 3439, 886, 1944, 2315, 2891, 1037, 1403, 3178, 3002, 2357, 2047, 173, 1246, 991, 383, 364, 1660, 671, 816, 1895, 3516, 2180, 2028, 3269, 3210, 2188, 1359, 2208, 2023, 570, 1776, 2225, 2770, 1083, 1235, 1207, 1482, 2433, 1116, 3545, 3155, 704, 446, 2839, 1983, 2073, 1756, 954, 335, 752, 1509, 1870, 361, 259, 1725, 2645, 104, 2345, 1953, 3057, 1007, 3253, 2385, 2282, 3988, 836, 1295, 3895, 3281, 1803, 1014, 45, 2940, 2071, 2204, 3858, 2589, 2464, 3016, 2363, 537, 991, 1893, 3611, 3182, 3562, 2838, 780, 3730, 1252, 1661, 3435, 3081, 3247, 2864, 579, 720, 1648, 2953, 3611, 1479, 2162, 2622, 3504, 435, 3679, 1057, 850, 1004, 72, 1834, 3099, 447, 3593, 3483, 700, 3544, 1213, 1798, 1247, 348, 1700, 182, 601, 2093, 422, 717, 283, 3627, 339, 3260, 1291, 3691, 2688, 1272, 931, 45, 3592, 1301, 3568, 165, 3647, 3420, 3720, 1497, 2071, 3141, 2084, 1697, 3045, 3356, 560, 1654, 713, 3560, 2056, 2351, 1022, 3193, 3332, 3845, 2603, 531, 2581, 2378, 278, 3680, 2994, 1561, 749, 1161, 1674, 3905, 2459, 2521, 676, 604, 330, 2606, 1265, 3089, 3658, 2621, 2057, 2545, 2848, 146, 105, 579, 3524, 1369, 677, 1259, 973, 3891, 2525, 1452, 1782, 3929, 2470, 2057, 2047, 3356, 3853, 376, 1473, 3230, 1645, 429, 1710, 2246, 2935, 1842, 3099, 486, 3725, 2059, 379, 3327, 3085, 346, 3946, 350, 816, 505, 1195, 1409, 800, 1719, 2075, 191, 3583, 1740, 2059, 1488, 1795, 3560, 3875, 2309, 2503, 2126, 2991, 3184, 2370, 725, 291, 3155, 2720, 3939, 715, 3761, 3632, 2303, 2263, 3230, 2683, 3846, 1616, 2290, 3265, 1400, 782, 1347, 4078, 2464, 1000, 1614, 212, 2937, 148, 2708, 3452, 3886, 2426, 2197, 1664, 489, 2388, 1809, 3355, 480, 51, 3355, 2602, 2155, 2368, 1831, 3750, 367, 2476, 909, 1952, 624, 3805, 1792, 661, 1745, 1860, 1557, 2321, 1428, 30, 238, 2843, 763, 3499, 2921, 235, 2321, 566, 233, 921, 2090, 4068, 493, 3880, 2176, 857, 1109, 2520, 3334, 1635, 3507, 2875, 1201, 3094, 3541, 1218, 1604, 2082, 2898, 2916, 2360, 1722, 3035, 3361, 3269, 2692, 980, 2495, 570, 634, 2925, 4010, 3222, 3258, 594, 3451, 3264, 2929, 1727, 195, 793, 79, 1920, 3306, 282, 1030, 502, 3447, 2933, 3226, 886, 146, 3149, 2018, 504, 373, 4095, 2211, 3960, 1688, 3279, 2549, 660, 933, 14, 2293, 2784, 3837, 1685, 265, 1869, 1784, 1203, 139, 4040, 1352, 2589, 2714, 3846, 2693, 720, 516, 1600, 4072, 672, 3787, 3825, 1947, 514, 1184, 3967, 2695, 3184, 2504, 4018, 3884, 3576, 3506, 1986, 1439, 2430, 3217, 2144, 1118, 882, 424, 682, 3997, 3163, 1147, 3754, 2213, 2121, 3950, 3922, 2726, 1879, 867, 1364, 2068, 2662, 3804, 79, 3285, 2305, 2312, 2708, 2414, 134, 3421, 3460, 56, 3463, 73, 2590, 642, 4034, 98, 1863, 2653, 3425, 858, 1699, 1653, 1364, 3143, 2374, 3592, 3104, 3902, 318, 2838, 820, 2331, 788, 2028, 250, 1054, 2189, 2051, 3672, 580, 2327, 615, 1523, 760, 3573, 3868, 716, 1990, 3696, 3626, 2663, 16, 4028, 1681, 3039, 2402, 1541, 3917, 24, 3489, 224, 164, 194, 199, 1996, 1214, 93, 660, 3252, 3869, 2173, 665, 1038, 3499, 2374, 640, 980, 3360, 1886, 2505, 3537, 1243, 241, 3899, 1740, 1512, 3838, 1875, 3633, 2164, 639, 1881, 3744, 3925, 3109, 2618, 4035, 2420, 3090, 850, 2739, 3864, 1915, 1237, 1210, 2090, 3566, 2954, 4007, 1667, 288, 981, 3980, 878, 43, 2457, 260, 2171, 2908, 3893, 138, 17, 3556, 726, 2624, 2526, 3503, 1729, 2350, 2556, 2019, 2450, 3158, 815, 2231, 3063, 1571, 520, 39, 1597, 3973, 912, 542, 134, 165, 3663, 98, 1544, 4076, 2908, 2241, 3657, 3170, 756, 3424, 1757, 446, 3262, 2557, 1048, 108, 785, 866, 3132, 3198, 559, 1340, 3612, 2626, 2761, 2778, 3567, 39, 2638, 299, 903, 298, 1384, 444, 4017, 529, 84, 2639, 1099, 3901, 1415, 115, 773, 2803, 2613, 3576, 54, 719, 2082, 3027, 1308, 3043, 3979, 3561, 3939, 1265, 1732, 922, 367, 482, 3763, 3815, 1127, 230, 1575, 3757, 323, 3244, 1396, 2788, 2771, 995, 2304, 608, 3415, 948, 1170, 753, 3590, 2150, 1412, 2537, 57, 1453, 2433, 709, 3097, 1053, 1387, 2391, 1198, 3981, 879, 2718, 2517, 1754, 3102, 2382, 778, 664, 3596, 1974, 2237, 3559, 2405, 716, 2652, 379, 2386, 3093, 2538, 3934, 4047, 803, 2279, 347, 3274, 841, 260, 3408, 3156, 4003, 973, 874, 3469, 2858, 2628, 1563, 1044, 375, 14, 1368, 845, 2829, 544, 54, 2317, 2273, 1377, 1840, 1199, 3575, 2645, 3347, 3849, 358, 1892, 2900, 2676, 952, 2738, 3709, 865, 1590, 3862, 711, 4079, 1630, 667, 2959, 2184, 2009, 3603, 809, 228, 880, 141, 717, 2436, 1850, 496, 800, 877, 3033, 455, 1137, 2640, 2569, 1195, 2509, 2717, 1503, 559, 1356, 1354, 466, 2440, 1076, 2623, 3878, 2145, 1632, 1119, 1818, 2067, 3829, 3618, 968, 161, 2751, 3998, 2026, 1523, 3853, 2327, 875, 2963, 1258, 3752, 715, 298, 2782, 2317, 1177, 4038, 142, 896, 3314, 1985, 1452, 3578, 1506, 214, 1905, 552, 2477, 2960, 701, 2567, 1211, 3267, 2983, 3171, 2663, 3202, 1889, 3579, 1705, 3254, 464, 3360, 3012, 2179, 148, 3819, 1747]\n",
      "sum_of_binary = 2001912\n"
     ]
    },
    {
     "data": {
      "text/plain": [
       "2001912"
      ]
     },
     "execution_count": 5,
     "metadata": {},
     "output_type": "execute_result"
    }
   ],
   "source": [
    "#Create functions that put the arrays above to arrays of numerical values and find the sum\n",
    "using Random\n",
    "Random.seed!(0)\n",
    "r_bin_strs = [random_binary_string() for _ in 1:10^3]\n",
    "@show Q4b = [parse(Int, a, base = 2) for a in r_bin_strs]\n",
    "sum_of_binary = sum(Q4b)\n",
    "@show sum_of_binary\n",
    "#function sum_of_binary(x)\n",
    "    #s = sum(x)\n",
    "    #return s\n",
    "#end\n",
    "\n",
    "#Hint for efficiency of the code"
   ]
  },
  {
   "cell_type": "code",
   "execution_count": 6,
   "metadata": {},
   "outputs": [
    {
     "name": "stdout",
     "output_type": "stream",
     "text": [
      "typeof(Q4b_h) = Vector{Int64}\n",
      "Q4b_h = [1565, 417, 436, 142, 1110, 3762, 2416, 1953, 1687, 2520, 3105, 1329, 3691, 3821, 3937, 2565, 2002, 2723, 1725, 3081, 300, 998, 2317, 1412, 873, 1250, 1185, 1402, 88, 222, 165, 1174, 362, 437, 569, 3434, 305, 580, 1200, 2526, 538, 426, 1995, 2613, 3033, 966, 1504, 2838, 3812, 2503, 113, 3408, 32, 1276, 785, 2533, 2989, 3092, 1340, 1984, 1041, 473, 3899, 3379, 2218, 2179, 4037, 3618, 3250, 2874, 8, 4025, 847, 2507, 3611, 970, 2086, 1098, 2037, 340, 3204, 1363, 2529, 3918, 3128, 3483, 1423, 1005, 1321, 2318, 1738, 2976, 2721, 3551, 2781, 767, 2887, 3855, 3897, 675, 839, 580, 1073, 1135, 3764, 895, 891, 1227, 2722, 2160, 1371, 1035, 588, 498, 3174, 3019, 2804, 3897, 706, 1430, 1785, 604, 2846, 90, 3683, 65, 590, 1435, 1291, 4014, 3066, 3202, 1887, 2095, 708, 3148, 2061, 186, 163, 2044, 2608, 1918, 2053, 1429, 1765, 1884, 2239, 1911, 863, 312, 1551, 1762, 1129, 426, 3956, 66, 3491, 1087, 2287, 474, 3176, 1091, 3148, 1458, 2679, 1158, 1617, 328, 2230, 9, 980, 1854, 2035, 1412, 1184, 24, 2047, 2856, 447, 1736, 2643, 2823, 3676, 584, 3793, 3065, 1513, 3469, 1425, 3852, 3647, 158, 599, 822, 3246, 2449, 912, 110, 2560, 465, 3449, 3390, 3307, 1083, 1025, 3073, 2028, 2195, 2934, 406, 2790, 2115, 1524, 2081, 3060, 1106, 4042, 753, 2990, 3479, 1884, 3152, 703, 913, 1387, 1475, 525, 2090, 2112, 3611, 2777, 3833, 1555, 768, 698, 2523, 2020, 1172, 3684, 1630, 1055, 1051, 2342, 1061, 1513, 1378, 1823, 28, 2158, 2765, 3637, 2681, 3516, 2607, 1741, 1710, 1018, 3704, 2435, 1139, 3920, 1400, 4089, 3741, 2513, 257, 1152, 1042, 2148, 1044, 2031, 3473, 213, 1924, 2223, 1874, 2439, 1177, 1220, 1928, 974, 447, 2052, 1608, 2881, 777, 3281, 1523, 2915, 459, 3352, 1323, 3433, 2978, 1913, 3381, 1374, 942, 421, 592, 517, 3169, 1448, 4004, 2576, 1608, 3917, 3091, 2007, 3928, 4032, 597, 200, 3005, 3150, 3413, 321, 795, 1861, 4021, 1324, 2248, 727, 2838, 565, 2523, 338, 3825, 811, 3033, 1331, 3917, 1161, 3963, 3543, 374, 3893, 3616, 1926, 3746, 2004, 2174, 943, 151, 2435, 1282, 270, 3599, 1594, 2048, 307, 722, 2639, 691, 514, 1419, 3472, 3530, 2265, 629, 1419, 562, 2746, 3967, 3133, 1679, 324, 2937, 416, 3473, 1040, 47, 3932, 1799, 2170, 3348, 897, 3607, 3952, 852, 3451, 2743, 3440, 2948, 1473, 1808, 52, 2307, 2178, 1286, 759, 612, 751, 530, 2262, 1020, 2006, 302, 2672, 1799, 3153, 1047, 2610, 2695, 214, 3791, 1317, 4088, 3398, 889, 2417, 1336, 1806, 2801, 2669, 1070, 1863, 683, 1002, 2517, 3972, 3308, 3793, 678, 3997, 842, 510, 2123, 779, 3384, 909, 1766, 1687, 45, 771, 2784, 54, 1335, 446, 153, 2711, 3241, 3816, 2215, 3973, 241, 2911, 2670, 3293, 2474, 1518, 2925, 1033, 1913, 840, 3645, 1761, 3550, 2716, 1262, 1630, 1647, 686, 3355, 2484, 1431, 2079, 3137, 2746, 2430, 163, 3499, 2412, 2398, 3928, 3645, 2894, 3242, 1087, 3986, 2473, 744, 200, 793, 257, 1768, 1945, 3986, 3527, 3407, 3365, 3838, 4085, 4065, 2285, 1683, 717, 2995, 1735, 694, 1060, 3311, 1061, 3675, 3915, 3239, 1797, 2425, 848, 129, 1856, 343, 1134, 2099, 982, 2953, 1854, 822, 1571, 2059, 3104, 1052, 4085, 1357, 2053, 2820, 103, 29, 3981, 3102, 1892, 2344, 3145, 3350, 1133, 3481, 282, 1251, 2254, 2251, 533, 1876, 3557, 764, 1168, 3160, 3953, 1929, 2859, 754, 53, 587, 320, 313, 1661, 3963, 3066, 737, 1740, 629, 3448, 3858, 1597, 3124, 1105, 2495, 200, 1823, 1681, 1001, 3776, 982, 1022, 638, 550, 1365, 1858, 168, 1885, 1383, 4013, 3630, 2443, 1714, 4089, 763, 2357, 1984, 2547, 352, 2773, 1049, 3601, 212, 2102, 2257, 1082, 3100, 10, 43, 2834, 1229, 3518, 1599, 4002, 2758, 1616, 1121, 2259, 2985, 250, 1210, 3966, 1376, 1598, 832, 1152, 2348, 524, 2815, 1542, 3750, 2876, 3133, 768, 329, 219, 3486, 3933, 3920, 1098, 625, 287, 2060, 3254, 1506, 1161, 1246, 3371, 1436, 2146, 2076, 3926, 740, 294, 2222, 3748, 1348, 2815, 1495, 3706, 89, 1488, 3506, 2365, 3039, 3000, 797, 3568, 2746, 1631, 2869, 2318, 2346, 902, 888, 1236, 54, 3774, 2671, 2099, 3727, 2146, 1599, 730, 781, 1461, 3674, 2783, 2593, 2418, 1894, 2351, 649, 1409, 213, 1415, 2552, 3042, 1227, 2130, 2721, 1354, 2252, 846, 670, 1964, 3023, 1942, 943, 3810, 3195, 2571, 2953, 875, 2904, 2978, 3557, 1519, 3253, 1963, 48, 3138, 2309, 587, 1261, 2121, 2909, 79, 1964, 2021, 530, 63, 3852, 723, 3100, 2303, 190, 4020, 27, 2590, 1760, 3434, 2723, 3582, 1442, 3094, 2566, 2194, 2664, 1772, 2286, 3790, 2474, 19, 1504, 2408, 2076, 400, 424, 1228, 3731, 1308, 3515, 2012, 2777, 118, 2847, 3497, 2552, 1536, 2360, 2415, 3685, 1162, 602, 3036, 2610, 1855, 1158, 158, 3018, 541, 3585, 3573, 1616, 394, 3707, 3382, 4057, 2480, 3317, 2479, 2304, 3908, 676, 1856, 3109, 425, 2280, 3432, 3172, 3460, 1995, 1328, 2365, 3556, 983, 1149, 1749, 3926, 980, 1339, 3681, 1429, 2927, 1801, 3999, 2881, 1444, 2390, 98, 1711, 2958, 3671, 2494, 569, 340, 2264, 1223, 1162, 1006, 3538, 1363, 2115, 737, 2197, 376, 2844, 425, 1762, 2035, 1751, 1363, 3978, 1005, 484, 767, 151, 1452, 677, 2016, 2551, 2783, 1217, 3741, 1853, 1446, 3446, 2450, 1363, 74, 166, 1919, 494, 3122, 2496, 2779, 1928, 1849, 2450, 1611, 1671, 2031, 361, 908, 4, 340, 1332, 2515, 2445, 4033, 2312, 3074, 1969, 2443, 969, 3254, 2238, 2239, 3604, 273, 908, 524, 990, 767, 698, 3120, 1820, 3280, 2207, 1216, 530, 3705, 606, 2205, 1306, 1180, 3281, 1094, 1459, 4090, 3588, 3178, 734, 3867, 74, 3477, 341, 3086, 3113, 121, 1585, 3845, 1280, 1231, 671, 1237, 2249, 3164, 2141, 606, 995, 3896, 871, 1567, 3614, 804, 2327, 2580, 2072, 60, 921, 2434, 2386, 1610, 3167, 3836, 3765, 1853, 863, 3791, 3100, 4095, 2500, 1666, 2742, 2652, 3075, 3435, 1504, 1359, 3335, 1465, 3113, 688, 3001, 3552, 419, 2578, 890, 3372, 1365, 3443, 1173, 3173, 568, 3807, 2223, 2595, 3234, 2538, 3970, 2029, 1989, 1866, 1999, 2579, 1881, 671, 782, 2700, 2688, 2241, 1314, 1825, 3853, 3419, 3163, 3709, 2235, 3398, 2838, 1060, 151, 2733, 3922, 470, 442, 2144]\n",
      "sum_of_hex = 2004792\n"
     ]
    },
    {
     "data": {
      "text/plain": [
       "2004792"
      ]
     },
     "execution_count": 6,
     "metadata": {},
     "output_type": "execute_result"
    }
   ],
   "source": [
    "using Random\n",
    "Random.seed!(0)\n",
    "r_hex_strs = [random_hex_string() for _ in 1:10^3]\n",
    "Q4b_h = [parse(Int, b, base = 16) for b in r_hex_strs]\n",
    "@show typeof(Q4b_h)\n",
    "@show Q4b_h\n",
    "sum_of_hex = sum(Q4b_h)\n",
    "@show sum_of_hex"
   ]
  },
  {
   "cell_type": "markdown",
   "metadata": {},
   "source": [
    "## 4c:"
   ]
  },
  {
   "cell_type": "code",
   "execution_count": 23,
   "metadata": {},
   "outputs": [
    {
     "data": {
      "text/plain": [
       "33.0"
      ]
     },
     "execution_count": 23,
     "metadata": {},
     "output_type": "execute_result"
    }
   ],
   "source": [
    "import Base: parse\n",
    "\n",
    "function convert_bin(x::String)\n",
    "    \n",
    "y = parse(Int, x)\n",
    "binary_as_num = 0\n",
    "base = [1, 2, 4, 8, 16, 32, 64, 128, 256, 512, 1024, 2048]\n",
    "    \n",
    "    for i in base\n",
    "        \n",
    "        remainder = y % 10                   #for calculating the value of the last digit\n",
    "        binary_as_num += (remainder * i)\n",
    "        y = floor(y/10)                      #gets rid of the last digit so now the next one can be valued\n",
    "              \n",
    "\n",
    "    end\n",
    "    \n",
    "return binary_as_num\n",
    "    \n",
    "end\n",
    "\n",
    "convert_bin(\"000000100001\")                   #test"
   ]
  },
  {
   "cell_type": "code",
   "execution_count": null,
   "metadata": {},
   "outputs": [],
   "source": [
    "hex_base = [0:15] #define array of hex number\n",
    "dict_hex = Array{String}(undef,0) #create an empty array for the hex strings\n",
    "dict_values = Array{Int64}(undef,0) #create an empty array for the hex number in int\n",
    "array_base = [16^2, 16^1, 16^0] #the bases of the array for the calculation\n",
    "A = Array{Int64}(undef,3)\n",
    "function add_hex_values(dict_hex,dict_values,new_dict_hex,new_dict_values) #function that pair up the values of hex with the the strings\n",
    "    push!(dict_hex, new_dict_hex)\n",
    "    push!(dict_values, new_dict_values)\n",
    "end\n",
    "#pushing each values and strings into the arraies\n",
    "add_hex_values(dict_hex,dict_values,\"0\",0)\n",
    "add_hex_values(dict_hex,dict_values,\"1\",1)\n",
    "add_hex_values(dict_hex,dict_values,\"2\",2)\n",
    "add_hex_values(dict_hex,dict_values,\"3\",3)\n",
    "add_hex_values(dict_hex,dict_values,\"4\",4)\n",
    "add_hex_values(dict_hex,dict_values,\"5\",5)\n",
    "add_hex_values(dict_hex,dict_values,\"6\",6)\n",
    "add_hex_values(dict_hex,dict_values,\"7\",7)\n",
    "add_hex_values(dict_hex,dict_values,\"8\",8)\n",
    "add_hex_values(dict_hex,dict_values,\"9\",9)\n",
    "add_hex_values(dict_hex,dict_values,\"A\",10)\n",
    "add_hex_values(dict_hex,dict_values,\"B\",11)\n",
    "add_hex_values(dict_hex,dict_values,\"C\",12)\n",
    "add_hex_values(dict_hex,dict_values,\"D\",13)\n",
    "add_hex_values(dict_hex,dict_values,\"E\",14)\n",
    "add_hex_values(dict_hex,dict_values,\"F\",15)\n",
    "\n",
    "function bind_hex_values(dict_hex, dict_values,x)\n",
    "    for (i,k) in enumerate(dict_hex) #for ith and kth elements in the order of hex\n",
    "    k == x && return dict_values[i]              #k values is equal to the ith values of dict_values            #dont really get this bit\n",
    "    end\n",
    "end\n",
    "\n",
    "function convert_hex(x)\n",
    "    y = split(x,\"\")\n",
    "        for i ∈ 1:3\n",
    "            A[i] = (bind_hex_values(dict_hex, dict_values,y[i])*(array_base[i])) #This is where the confusion occurs\n",
    "        end \n",
    "    return sum(A)\n",
    "end "
   ]
  },
  {
   "cell_type": "code",
   "execution_count": null,
   "metadata": {},
   "outputs": [],
   "source": [
    "convert_hex(\"71F\")"
   ]
  },
  {
   "cell_type": "markdown",
   "metadata": {},
   "source": [
    "---\n",
    "\n",
    "*Use this area below as an experimental playground for the question. Feel free to leave some of the experimental code here with your submision. However, it will not be marked or reviewed. Make sure in your submission that if there is any experimental code here then running it does not interfere with running the actual solutions.*\n",
    "\n",
    "---"
   ]
  },
  {
   "cell_type": "code",
   "execution_count": null,
   "metadata": {},
   "outputs": [],
   "source": []
  },
  {
   "cell_type": "code",
   "execution_count": null,
   "metadata": {},
   "outputs": [],
   "source": []
  },
  {
   "cell_type": "code",
   "execution_count": null,
   "metadata": {},
   "outputs": [],
   "source": []
  }
 ],
 "metadata": {
  "kernelspec": {
   "display_name": "Julia 1.7.3",
   "language": "julia",
   "name": "julia-1.7"
  },
  "language_info": {
   "file_extension": ".jl",
   "mimetype": "application/julia",
   "name": "julia",
   "version": "1.7.3"
  }
 },
 "nbformat": 4,
 "nbformat_minor": 4
}
