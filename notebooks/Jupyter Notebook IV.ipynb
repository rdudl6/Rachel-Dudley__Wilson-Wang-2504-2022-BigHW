{
 "cells": [
  {
   "cell_type": "markdown",
   "metadata": {},
   "source": [
    "### MATH2504 S2, 2022, BigHW Submission \n",
    "### Submission form IV of IV "
   ]
  },
  {
   "cell_type": "markdown",
   "metadata": {},
   "source": [
    "Student #1 name: Rachel Dudley\n",
    "\n",
    "Student #1 ID: 46982243\n",
    "\n",
    "Student #2 name: Wilson Wang\n",
    "\n",
    "Student #2 ID: 46472856\n",
    "\n",
    "GitHub repo: Rachel-Dudley__Wilson-Wang-2504-2022-BigHW"
   ]
  },
  {
   "cell_type": "markdown",
   "metadata": {},
   "source": [
    "---\n",
    "\n",
    "**Note: It is expected that this notebook be runnable in the sense that the marker can select \"Restart & Run All\" and all code cells of solutions will execute. This requires not to have name clashes between solutions.**\n",
    "\n",
    "---"
   ]
  },
  {
   "cell_type": "markdown",
   "metadata": {},
   "source": [
    "# Solution to [Question 13](https://courses.smp.uq.edu.au/MATH2504/2022/assessment_html/bighw.html#q13)"
   ]
  },
  {
   "cell_type": "markdown",
   "metadata": {},
   "source": [
    "## 13a:"
   ]
  },
  {
   "cell_type": "code",
   "execution_count": null,
   "metadata": {},
   "outputs": [],
   "source": [
    "using Plots\n",
    "\n",
    "diff_forward(a, x; h = sqrt(eps())) = (a(x+h) - a(x))/h\n",
    "a(x) = sin(x^2)\n",
    "a_der(x) = 2x*cos(x^2) \n",
    "\n",
    "diff_forward(b, x; h = sqrt(eps())) = (b(x+h) - b(x))/h\n",
    "b(x) = exp(x)\n",
    "b_der(x) = exp(x)\n",
    "\n",
    "diff_forward(c, x; h = sqrt(eps())) = (c(x+h) - c(x))/h\n",
    "c(x) = atan(x)/(1+exp(-x^2))\n",
    "c_der(x) = (2*x*exp(-x^2)*atan(x))/((exp(-x^2) + 1)^2) + 1/((x^2 + 1) * (exp(-x^2) + 1))\n",
    "\n",
    "x0, x1, x2 = 0.5, 1, 2\n",
    "h_range = 10 .^ (-17:0.01:1)\n",
    "errs0 = [abs(diff_forward(a, x0; h = h) - a_der(x0))/abs(a_der(x0)) for h in h_range]\n",
    "errs1 = [abs(diff_forward(b, x1; h = h) - b_der(x1))/abs(b_der(x1)) for h in h_range]\n",
    "errs2 = [abs(diff_forward(c, x2; h = h) - c_der(x2))/abs(c_der(x2)) for h in h_range]\n",
    "plot(h_range,[errs0 errs1 errs2], yaxis = :log,xaxis = :log,\n",
    "    xlabel=\"h\",ylabel=\"Absolute relative error\",\n",
    "    label = [\"x = $x0\" \"x = $x1\" \"x = $x2\"], c = [:red :blue :black], legend = :bottomright, title=\"Forward Difference Scheme Performance\")"
   ]
  },
  {
   "cell_type": "code",
   "execution_count": null,
   "metadata": {},
   "outputs": [],
   "source": [
    "@show findmin(errs0)\n",
    "@show findmin(errs1)\n",
    "@show findmin(errs2)\n",
    "\n",
    "@show h_range[851]\n",
    "@show h_range[857]\n",
    "@show h_range[929]"
   ]
  },
  {
   "cell_type": "markdown",
   "metadata": {},
   "source": [
    "The optimal h value, is the value where the error is the smallest. The optimal h values for each function for the forward difference scheme are as follows:\n",
    "\n",
    "                sin(x^2) at x=1/2: h = 3.1622776601683795e-9\n",
    "                       e^x at x=1: h = 3.6307805477010177e-9\n",
    "    arctan(x)/(1+e^(-x^2)) at x=2: h = 1.9054607179632482e-8\n"
   ]
  },
  {
   "cell_type": "code",
   "execution_count": null,
   "metadata": {},
   "outputs": [],
   "source": [
    "diff_central(a, x; h = sqrt(eps())) = (a(x+(h/2)) - a(x-(h/2)))/h\n",
    "diff_central(b, x; h = sqrt(eps())) = (b(x+(h/2)) - b(x-(h/2)))/h\n",
    "diff_central(c, x; h = sqrt(eps())) = (c(x+(h/2)) - c(x-(h/2)))/h\n",
    "    \n",
    "errors0 = [abs(diff_central(a, x0; h = h) - a_der(x0))/abs(a_der(x0)) for h in h_range]\n",
    "errors1 = [abs(diff_central(b, x1; h = h) - b_der(x1))/abs(b_der(x1)) for h in h_range]\n",
    "errors2 = [abs(diff_central(c, x2; h = h) - c_der(x2))/abs(c_der(x2)) for h in h_range]\n",
    "plot(h_range,[errors0 errors1 errors2], yaxis = :log,xaxis = :log,\n",
    "    xlabel=\"h\",ylabel=\"Absolute relative error\",\n",
    "    label = [\"x = $x0\" \"x = $x1\" \"x = $x2\"], c = [:red :blue :black], legend = :bottomright, title=\"Central Difference Scheme Performance\")"
   ]
  },
  {
   "cell_type": "code",
   "execution_count": null,
   "metadata": {},
   "outputs": [],
   "source": [
    "@show findmin(errors0)\n",
    "@show findmin(errors1)\n",
    "@show findmin(errors2)\n",
    "\n",
    "@show h_range[1147]\n",
    "@show h_range[1165]\n",
    "@show h_range[1200];"
   ]
  },
  {
   "cell_type": "markdown",
   "metadata": {},
   "source": [
    "The optimal h values for each function for the central difference scheme are as follows:\n",
    "\n",
    "                sin(x^2) at x=1/2: h = 2.884031503126606e-6\n",
    "                       e^x at x=1: h = 4.365158322401657e-6\n",
    "    arctan(x)/(1+e^(-x^2)) at x=2: h = 9.772372209558111e-6\n",
    "    \n",
    "Compared to the FDS, these h values are further away from zero which means there become issues because of the floating point values earlier on for the CDS. This makes sense because the formula for the CDS involves more operations being applied to the float64 h values, which creates more extra decimals (i.e. h/2 is in this formula 2 times which causes more issues)"
   ]
  },
  {
   "cell_type": "markdown",
   "metadata": {},
   "source": [
    "## 13b:"
   ]
  },
  {
   "cell_type": "code",
   "execution_count": null,
   "metadata": {},
   "outputs": [],
   "source": [
    "# Convert to a markdown cell and answer 13b here (in place of this comment)"
   ]
  },
  {
   "cell_type": "markdown",
   "metadata": {},
   "source": [
    "## 13c:"
   ]
  },
  {
   "cell_type": "code",
   "execution_count": null,
   "metadata": {},
   "outputs": [],
   "source": [
    "### Answer 13b here (in place of this comment)"
   ]
  },
  {
   "cell_type": "markdown",
   "metadata": {},
   "source": [
    "---\n",
    "\n",
    "*Use this area below as an experimental playground for the question. Feel free to leave some of the experimental code here with your submision. However, it will not be marked or reviewed. Make sure in your submission that if there is any experimental code here then running it does not interfere with running the actual solutions.*\n",
    "\n",
    "---"
   ]
  },
  {
   "cell_type": "code",
   "execution_count": null,
   "metadata": {},
   "outputs": [],
   "source": []
  },
  {
   "cell_type": "code",
   "execution_count": null,
   "metadata": {},
   "outputs": [],
   "source": []
  },
  {
   "cell_type": "code",
   "execution_count": null,
   "metadata": {},
   "outputs": [],
   "source": []
  },
  {
   "cell_type": "markdown",
   "metadata": {},
   "source": [
    "# Solution to [Question 14](https://courses.smp.uq.edu.au/MATH2504/2022/assessment_html/bighw.html#q14)"
   ]
  },
  {
   "cell_type": "code",
   "execution_count": null,
   "metadata": {},
   "outputs": [],
   "source": [
    "#Method 1\n",
    "#care that I - P is singular that means that there is no inverse to the matrix\n",
    "using LinearAlgebra\n",
    "#This function creates LxL dimension matrix P\n",
    "function structured_P(L::Int; p::Float64 = 0.45, r::Float64 = 0.01)::Matrix{Float64}\n",
    "    q = 1 - p - r\n",
    "    P = diagm(fill(r,L)) + diagm(-1=>fill(q,L-1)) + diagm(1 => fill(p,L-1))\n",
    "    P[1,1] = 1-p\n",
    "    P[L,L] = 1-q\n",
    "    return P\n",
    "end\n",
    "# creaats L vector pi that matches P\n",
    "structured_π(L::Int; p::Float64 = 0.45, r::Float64 = 0.01)::Vector{Float64} = begin\n",
    "    q = 1 - p - r\n",
    "    [(p/q)^i  for i in 1:L] * (q-p) / p / (1-(p/q)^L) #Explicit expression (birth death)\n",
    "end;\n",
    "\n",
    "function Linear_op(L::Int; p::Float64 = 0.45, r::Float64 = 0.01)\n",
    "    A = vcat(structured_P(L), ones(1,L)) #A is matrix added another row of ones to P\n",
    "    b = vcat(structured_π(L), ones(1,1)) #b is the pi vector and add another 1 at the bottom\n",
    "    π_origin = structured_π(L)\n",
    "    #This allows a linear system to be determined\n",
    "    #Let x be the solution to estimate pi \n",
    "    x = \\(A, b) #This allow the estimation of pi from solving linear system \n",
    "    #finding the least square between the two\n",
    "    # @show (π_origin .- x).^2\n",
    "return x\n",
    "# sum((π_origin .- x).^2)\n",
    "end \n",
    "for L ∈ [2, 3, 5, 10, 20, 30, 40, 50, 100, 200, 300, 400, 500, 1000]\n",
    "   @show Linear_op(L)\n",
    "   @show norm(Linear_op(L) - structured_π(L))\n",
    "end\n",
    "\n",
    "#Method 2\n",
    "function Limits_op(L::Int; p::Float64 = 0.45, r::Float64 = 0.01)\n",
    "    n=10^10 #define a really large number \n",
    "    # π_leg = Array{Float64}(undef, L)\n",
    "    π_est = Array{Float64}(undef, L)\n",
    "    P_n = (structured_P(L)')^n #This line give the matrix to the power clsoe to infinity\n",
    "    for i ∈ 1:L\n",
    "        π_est[i] = P_n[i,1]\n",
    "        # π_leg[i] = structured_π(L)[i] #since all the rows values will converge to the same thing\n",
    "    end \n",
    "    return π_est\n",
    "end \n",
    "for L ∈ [2, 3, 5, 10, 20, 30, 40, 50, 100, 200, 300, 400, 500, 1000]\n",
    "    @show Limits_op(L)\n",
    "    @show norm(Limits_op(L)-structured_π(L))\n",
    " end# @show Limits_op(5)\n",
    "# @show sum(P_n, dims = 1) #sum of column\n",
    "\n",
    "#method 3\n",
    "function eigen_π(L::Int; p::Float64 = 0.45, r::Float64 = 0.01)\n",
    "    e_vector = Array{Float64}(undef, L)\n",
    "    cor_vector = Array{Vector{Float64}}(undef, L)\n",
    "    d_repeat = repeat([1], L)\n",
    "    for i ∈ 1:L\n",
    "        e_vector[i] = eigvecs(structured_P(L))[i]\n",
    "        @show e_vector\n",
    "        if structured_P(L)*(e_vector[i]) == Diagonal(d_repeat)*(e_vector[i]) \n",
    "            cor_vector = push!(cor_vector, e_vector[j])\n",
    "        end\n",
    "    # @show Diagonal(d_repeat)*(e_vector[i])\n",
    "   \n",
    "    # @show eigvecs(structured_P(L)[1 , eigvals])\n",
    "    end\n",
    "    return cor_vector \n",
    "end\n",
    "@show eigen_π(2)"
   ]
  },
  {
   "cell_type": "markdown",
   "metadata": {},
   "source": [
    "---\n",
    "\n",
    "*Use this area below as an experimental playground for the question. Feel free to leave some of the experimental code here with your submision. However, it will not be marked or reviewed. Make sure in your submission that if there is any experimental code here then running it does not interfere with running the actual solutions.*\n",
    "\n",
    "---"
   ]
  },
  {
   "cell_type": "code",
   "execution_count": null,
   "metadata": {},
   "outputs": [],
   "source": []
  },
  {
   "cell_type": "code",
   "execution_count": null,
   "metadata": {},
   "outputs": [],
   "source": []
  },
  {
   "cell_type": "code",
   "execution_count": null,
   "metadata": {},
   "outputs": [],
   "source": []
  },
  {
   "cell_type": "markdown",
   "metadata": {},
   "source": [
    "# Solution to [Question 15](https://courses.smp.uq.edu.au/MATH2504/2022/assessment_html/bighw.html#q15)"
   ]
  },
  {
   "cell_type": "markdown",
   "metadata": {},
   "source": [
    "## 15a:"
   ]
  },
  {
   "cell_type": "code",
   "execution_count": null,
   "metadata": {},
   "outputs": [],
   "source": [
    "state_v_x(u::Vector{Float64}) = u[1]\n",
    "state_v_y(u::Vector{Float64}) = u[2]\n",
    "state_x(u::Vector{Float64}) = u[3]\n",
    "state_y(u::Vector{Float64}) = u[4]\n",
    "\n",
    "function df_dt_one_body(u::Vector{Float64}, t::Float64)::Vector{Float64}\n",
    "    M, G = 1, 1 #We take these constants as normalized. Naturally they would need to be set for physical values.\n",
    "    r = sqrt(state_x(u)^2 + state_y(u)^2)\n",
    "    return [-M*G*state_x(u)/r^3, -M*G*state_y(u)/r^3, state_v_x(u), state_v_y(u)]\n",
    "end"
   ]
  },
  {
   "cell_type": "code",
   "execution_count": null,
   "metadata": {},
   "outputs": [],
   "source": [
    "using Plots, Measures\n",
    "\n",
    "function plot_solution( t::AbstractArray{T}, \n",
    "                        u::Vector{Vector{Float64}}; \n",
    "                        title::String = \"\",\n",
    "                        label::Union{String, Bool} = false) where T\n",
    "    x, y, v_x, v_y = state_x.(u), state_y.(u), state_v_x.(u), state_v_y.(u)\n",
    " \n",
    "    #\"Energy\"\n",
    "    r = @. sqrt(x^2 + y^2)\n",
    "    E = @. 0.5*(v_x^2 + v_y^2) - 1.0/r\n",
    "\n",
    "    p1 = plot(  x, y, label = label, xlabel= \"X\", ylabel = \"Y\",\n",
    "                title = title*\" (position)\", aspectratio=1,legend=:topleft,ylim=(-7,7))\n",
    "    scatter!([0], [0], ms=15, msw=0, c=:orange, shape =:star, label=\"Sun\")\n",
    "    scatter!([x[1]], [y[1]], ms=5, msw=0, c=:blue, shape =:circle, label=\"Earth initial position\")\n",
    "\n",
    "    p4 = plot(  t, E, xlabel = \"Time\", ylabel = \"Energy\",\n",
    "                label = label, title = title*\" (energy)\")\n",
    "    plot(p1, p4, margin = 10mm,size=(800,400))\n",
    "end"
   ]
  },
  {
   "cell_type": "code",
   "execution_count": null,
   "metadata": {},
   "outputs": [],
   "source": [
    "using Serialization, HTTP\n",
    "\n",
    "h1, h2 = 0.01, 0.001\n",
    "t1 = 0: h1 : 200\n",
    "u_0 = [0., 1, 1.5, 0]\n",
    "\n",
    "#Note: the data was written to file via serialize(\"data/example_trajectory.dat\", u) and then committed to GitHub\n",
    "ode_web = HTTP.request(\"GET\",\"https://github.com/yoninazarathy/\"*\n",
    "                            \"ProgrammingCourse-with-Julia-SimulationAnalysisAndLearningSystems/\"*\n",
    "                            \"raw/e71c6d085e0fcf79e3737c3a1db0fc56904e3f10/data/example_trajectory.dat\")\n",
    "u = deserialize(IOBuffer(ode_web.body))\n",
    "@show typeof(u)\n",
    "plot_solution(t1,u,title = \"Euler's method\", label=\"h1=$h1 h2=$h2\")"
   ]
  },
  {
   "cell_type": "markdown",
   "metadata": {},
   "source": [
    "## 15b:"
   ]
  },
  {
   "cell_type": "code",
   "execution_count": null,
   "metadata": {},
   "outputs": [],
   "source": [
    "### Answer 15b here (in place of this comment)"
   ]
  },
  {
   "cell_type": "markdown",
   "metadata": {},
   "source": [
    "## 15c:"
   ]
  },
  {
   "cell_type": "markdown",
   "metadata": {},
   "source": [
    "for Eulers method, it predicts the trajectory better at smaller values of h. but floating point errors will still mean it isnt going to be the most accurate if it is very very close to 0."
   ]
  },
  {
   "cell_type": "markdown",
   "metadata": {},
   "source": [
    "## 15d:"
   ]
  },
  {
   "cell_type": "code",
   "execution_count": null,
   "metadata": {},
   "outputs": [],
   "source": [
    "### Answer 15d here (in place of this comment)"
   ]
  },
  {
   "cell_type": "markdown",
   "metadata": {},
   "source": [
    "---\n",
    "\n",
    "*Use this area below as an experimental playground for the question. Feel free to leave some of the experimental code here with your submision. However, it will not be marked or reviewed. Make sure in your submission that if there is any experimental code here then running it does not interfere with running the actual solutions.*\n",
    "\n",
    "---"
   ]
  },
  {
   "cell_type": "code",
   "execution_count": null,
   "metadata": {},
   "outputs": [],
   "source": []
  },
  {
   "cell_type": "code",
   "execution_count": null,
   "metadata": {},
   "outputs": [],
   "source": []
  },
  {
   "cell_type": "code",
   "execution_count": null,
   "metadata": {},
   "outputs": [],
   "source": []
  },
  {
   "cell_type": "markdown",
   "metadata": {},
   "source": [
    "# Solution to [Question 16](https://courses.smp.uq.edu.au/MATH2504/2022/assessment_html/bighw.html#q16)"
   ]
  },
  {
   "cell_type": "markdown",
   "metadata": {},
   "source": [
    "## 16a:"
   ]
  },
  {
   "cell_type": "code",
   "execution_count": null,
   "metadata": {},
   "outputs": [],
   "source": [
    "### Answer 16a here (in place of this comment)"
   ]
  },
  {
   "cell_type": "markdown",
   "metadata": {},
   "source": [
    "## 16b:"
   ]
  },
  {
   "cell_type": "code",
   "execution_count": null,
   "metadata": {},
   "outputs": [],
   "source": [
    "### Answer 16b here (in place of this comment)"
   ]
  },
  {
   "cell_type": "markdown",
   "metadata": {},
   "source": [
    "## 16c:"
   ]
  },
  {
   "cell_type": "code",
   "execution_count": null,
   "metadata": {},
   "outputs": [],
   "source": [
    "### Answer 16c here (in place of this comment)"
   ]
  },
  {
   "cell_type": "markdown",
   "metadata": {},
   "source": [
    "## 16d:"
   ]
  },
  {
   "cell_type": "code",
   "execution_count": null,
   "metadata": {},
   "outputs": [],
   "source": [
    "### Answer 16d here (in place of this comment)"
   ]
  },
  {
   "cell_type": "markdown",
   "metadata": {},
   "source": [
    "---\n",
    "\n",
    "*Use this area below as an experimental playground for the question. Feel free to leave some of the experimental code here with your submision. However, it will not be marked or reviewed. Make sure in your submission that if there is any experimental code here then running it does not interfere with running the actual solutions.*\n",
    "\n",
    "---"
   ]
  },
  {
   "cell_type": "code",
   "execution_count": null,
   "metadata": {},
   "outputs": [],
   "source": []
  },
  {
   "cell_type": "code",
   "execution_count": null,
   "metadata": {},
   "outputs": [],
   "source": []
  },
  {
   "cell_type": "code",
   "execution_count": null,
   "metadata": {},
   "outputs": [],
   "source": []
  },
  {
   "cell_type": "markdown",
   "metadata": {},
   "source": [
    "# Solution to [Question 17](https://courses.smp.uq.edu.au/MATH2504/2022/assessment_html/bighw.html#q17)"
   ]
  },
  {
   "cell_type": "markdown",
   "metadata": {},
   "source": [
    "Amy Chan’s perspective seminar was very interesting and useful to hear about, especially as she is working in a field that I and many people in our course are probably considering moving towards in our futures. Throughout her talk, Chan spoke about her path to becoming where she is now, about her current company and what she likes about it there, the different experiences within her career she has had, and she also shared some tips from what she has learnt and thought would be helpful for us to hear.\n",
    "\n",
    "Amy Chan studied at UQ, starting with an Undergrad and then doing her Honours, during which she did a lot of analysis which was a big part of her studies. She then took up an opportunity at CSIRO doing image analysis which included projects like: she was given random pictures of a huge wheat field which all looked almost exactly the same in the photos, but she had to use her analysis to figure out how to piece the pictures together in the correct order. To do this she used many procedures, but I think a very interesting thing she had to consider was the angle the photo was taken at from the sky and how that matches the other images. After this, Chan went on to do a PhD. where she decided to learn statistics as it would be useful to learn more of… and after all of this she found out that research is not for her because she doesn’t enjoy it as much as the practical side of things.\n",
    "\n",
    "From this realisation that it was time to leave academia and research, Chan went to a company called Polymathian which is a company that takes client problems and uses software to make solutions which they can sell. She has been here ever since completing her studies and seems to be very happy there. It has brought her a lot of opportunities to move around within different fields of the company e.g. the different parts Chan has worked in include RACE, SOLO, ORB and more. When she talked about the tool RACE, I found it very interesting the sorts of problems they find solutions to. Chan explained a task which initially seemed quite simple: getting a train to go somewhere to transport wheat. It then became clear after hearing a few difficulties with this, that there are so many variables and constraints to consider here, like: What is the demand of wheat? What timetables do the trains run on? How many trains are running at a time? What networks do the trains run on? When does the transportation have to be done by? How much does everything cost?... and these are just SOME of the considerations.\n",
    "\n",
    "Polymathian is a small company with not very many employees working there, but this is something Amy Chan views as a positive thing. It has not only lead her to gain lots of experience in different areas of the industry, however it has also provided benefits in terms of the social and lifestyle aspects. For example the team at Polymathian (pre-covid) travelled together doing fun things like skiing. As well as this they go hiking together and other activities which are not inly fun, but also make the team closer and potentially boosts their ability to work effectively together.\n",
    "\n",
    "Some key tools that Chan spoke about were Excel – a very prominent software which is very widely used by almost everyone so Excel is something to get used to, Python – which is a very commonly used language used for the backend. Pythin is also easy to learn and use and is free (which is a big benefit compared to software like MATLAB which is very expensive). Other tools mentioned were React and Javascript – used for frontend things, and AWS (Amazon web service) & Docker, which I had not heard of before but they are used to deliver apps over the web.\n",
    "\n",
    "From the talk, Amy gave a lot of very helpful tips that I will definitely take on and remember. The first piece of advice was to do internships and take opportunities that come your way. This is a very useful, quick and practical way of finding out what you like/don’t like, and what sort of things you could be heading towards doing for a job. Another tip that is very good to know is that just because a job has components to do with something you have got very limited knowledge in, don’t let that turn you away. You learn so much on the job, and the best way to learn is to get involved and emersed in it. This specific piece of advice is one that I am currently learning is very true through this course MATH2504. What I knew 5 weeks ago about computers and coding compared with now is massively different and that came from getting stuck into the big homework which was completely outside my knowledge domain.\n",
    "\n",
    "Overall, Amy Chan’s talk was very good to hear, and it has made me want to go and find lots of ways of learning new things, and to discover internships and similar opportunities which could help me to become more knowledgeable, employable, and know what I want from my future.\n"
   ]
  }
 ],
 "metadata": {
  "kernelspec": {
   "display_name": "Julia 1.7.3",
   "language": "julia",
   "name": "julia-1.7"
  },
  "language_info": {
   "file_extension": ".jl",
   "mimetype": "application/julia",
   "name": "julia",
   "version": "1.7.3"
  }
 },
 "nbformat": 4,
 "nbformat_minor": 4
}
