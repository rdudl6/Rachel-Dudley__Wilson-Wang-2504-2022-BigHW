{
 "cells": [
  {
   "cell_type": "markdown",
   "metadata": {},
   "source": [
    "### MATH2504 S2, 2022, BigHW Submission \n",
    "### Submission form III of IV "
   ]
  },
  {
   "cell_type": "markdown",
   "metadata": {},
   "source": [
    "Student #1 name: Rachel Dudley\n",
    "\n",
    "Student #1 ID:46982243\n",
    "\n",
    "Student #2 name:\n",
    "\n",
    "Student #2 ID:\n",
    "\n",
    "GitHub repo: "
   ]
  },
  {
   "cell_type": "markdown",
   "metadata": {},
   "source": [
    "---\n",
    "\n",
    "**Note: It is expected that this notebook be runnable in the sense that the marker can select \"Restart & Run All\" and all code cells of solutions will execute. This requires not to have name clashes between solutions.**\n",
    "\n",
    "---"
   ]
  },
  {
   "cell_type": "markdown",
   "metadata": {},
   "source": [
    "# Solution to [Question 10](https://courses.smp.uq.edu.au/MATH2504/2022/assessment_html/bighw.html#q10)"
   ]
  },
  {
   "cell_type": "code",
   "execution_count": null,
   "metadata": {},
   "outputs": [],
   "source": [
    "### Make this a markdown cell and state if you had any problems with git and GitHub (in place of this comment)"
   ]
  },
  {
   "cell_type": "markdown",
   "metadata": {},
   "source": [
    "# Solution to [Question 11](https://courses.smp.uq.edu.au/MATH2504/2022/assessment_html/bighw.html#q11)"
   ]
  },
  {
   "cell_type": "markdown",
   "metadata": {},
   "source": [
    "## 11a:"
   ]
  },
  {
   "cell_type": "markdown",
   "metadata": {},
   "source": [
    "INPUT:  mkdir hw2_q1            \n",
    "\n",
    "#makes a directory called hw2_q1\n",
    "\n",
    "INPUT: cd hw2_q1                \n",
    "\n",
    "#go into that new directory\n",
    "\n",
    "INPUT: pwd                     \n",
    "\n",
    "#print the present working directory\n",
    "\n",
    "\n",
    "OUTPUT: /c/Users/rachel/hw2_q1  \n",
    "\n",
    "#shows where the current workspace is"
   ]
  },
  {
   "cell_type": "markdown",
   "metadata": {},
   "source": [
    "## 11b:"
   ]
  },
  {
   "cell_type": "markdown",
   "metadata": {},
   "source": [
    "INPUT: echo \"Rachel Dudley\"\n",
    "\n",
    "#echo is a way to write text\n",
    "\n",
    "OUTPUT: Rachel Dudley\n",
    "\n",
    "#prints what was echo'd"
   ]
  },
  {
   "cell_type": "markdown",
   "metadata": {},
   "source": [
    "## 11c:"
   ]
  },
  {
   "cell_type": "markdown",
   "metadata": {},
   "source": [
    "INPUT: echo \"Rachel Dudley\" > my_name.txt\n",
    "\n",
    "#store the text into a textfile using > to direct that echo text to a location"
   ]
  },
  {
   "cell_type": "markdown",
   "metadata": {},
   "source": [
    "## 11d:"
   ]
  },
  {
   "cell_type": "markdown",
   "metadata": {},
   "source": [
    "INPUT: cat my_name.txt\n",
    "\n",
    "#cat will show the contents of the text file\n",
    "\n",
    "OUTPUT: Rachel Dudley\n",
    "\n",
    "#my_name.txt has the text \"Rachel Dudley in it\""
   ]
  },
  {
   "cell_type": "markdown",
   "metadata": {},
   "source": [
    "## 11e:"
   ]
  },
  {
   "cell_type": "markdown",
   "metadata": {},
   "source": [
    "INPUT: ls -l\n",
    "\n",
    "$the flag -l is for longline and shows information of the contents of the current location including number of bytes (stands for long listing format)\n",
    "\n",
    "OUTPUT: total 1\n",
    "-rw-r--r-- 1 rachel 197121 14 Aug 25 20:00 my_name.txt\n",
    "\n",
    "#the number of bytes is 197121\n"
   ]
  },
  {
   "cell_type": "markdown",
   "metadata": {},
   "source": [
    "## 11f:"
   ]
  },
  {
   "cell_type": "markdown",
   "metadata": {},
   "source": [
    "INPUT: cp my_name.txt my_name2.txt\n",
    "\n",
    "#cp means copy. This copies the first text file (my_name.txt) into the second one (my_name2.txt)"
   ]
  },
  {
   "cell_type": "markdown",
   "metadata": {},
   "source": [
    "## 11g:"
   ]
  },
  {
   "cell_type": "markdown",
   "metadata": {},
   "source": [
    "INPUT: mkdir people\n",
    "\n",
    "#make a new directory called people using mkdir (make directory)"
   ]
  },
  {
   "cell_type": "markdown",
   "metadata": {},
   "source": [
    "## 11h:"
   ]
  },
  {
   "cell_type": "markdown",
   "metadata": {},
   "source": [
    "INPUT: mv my_name2.txt people/Rachel_Dudley.txt\n",
    "\n",
    "#mv means move. This moves my_name2.txt to the location following the relative path people/Rachel_Dudley.txt. A relative path is a path relative to the pwd"
   ]
  },
  {
   "cell_type": "markdown",
   "metadata": {},
   "source": [
    "## 11i:"
   ]
  },
  {
   "cell_type": "markdown",
   "metadata": {},
   "source": [
    "INPUT: echo \"Wilson Wang\" > people/wilson_name.txt\n",
    "\n",
    "INPUT: echo \"Anna Smith\" > people/anna_name.txt\n",
    "\n",
    "INPUT: echo \"John Smith\" > people/john_name.txt\n",
    "\n",
    "#making 3 seperate text files and store them in the people directory with their respective names "
   ]
  },
  {
   "cell_type": "markdown",
   "metadata": {},
   "source": [
    "## 11j:"
   ]
  },
  {
   "cell_type": "markdown",
   "metadata": {},
   "source": [
    "INPUT: cd people\n",
    "\n",
    "INPUT: mv anna_name.txt ..\n",
    "\n",
    "#move into the directory where the file you want to move is stored. Then use notation \"..\" which means to climb to the earlier location"
   ]
  },
  {
   "cell_type": "markdown",
   "metadata": {},
   "source": [
    "## 11k:"
   ]
  },
  {
   "cell_type": "markdown",
   "metadata": {},
   "source": [
    "INPUT: mv wilson_name.txt /c/Users/rachel/hw2_q1\n",
    "\n",
    "#an absolute path starts at the root location and this is moving (mv) the text file to the location shown by this path"
   ]
  },
  {
   "cell_type": "markdown",
   "metadata": {},
   "source": [
    "## 11l:"
   ]
  },
  {
   "cell_type": "markdown",
   "metadata": {},
   "source": [
    "INPUT: cp john_name.txt .john_name.txt\n",
    "\n",
    "copies the john text file to a hidden file (shown with a . infront)"
   ]
  },
  {
   "cell_type": "markdown",
   "metadata": {},
   "source": [
    "## 11m:"
   ]
  },
  {
   "cell_type": "markdown",
   "metadata": {},
   "source": [
    "INPUT: ls -la\n",
    "\n",
    "OUTPUT: total 7\n",
    "\n",
    "        drwxr-xr-x 1 rachel 197121  0 Aug 25 20:19 ./\n",
    "\n",
    "        drwxr-xr-x 1 rachel 197121  0 Aug 25 20:17 ../\n",
    "\n",
    "        -rw-r--r-- 1 rachel 197121 11 Aug 25 20:19 .john_name.txt\n",
    "\n",
    "        -rw-r--r-- 1 rachel 197121 14 Aug 25 20:02 Rachel_Dudley.txt\n",
    "\n",
    "        -rw-r--r-- 1 rachel 197121 11 Aug 25 20:08 john_name.txt\n",
    "        \n",
    "#ls -la combines the 2 flags -l (described earlier) and -a which shows hidden files (it stands for all)\n"
   ]
  },
  {
   "cell_type": "markdown",
   "metadata": {},
   "source": [
    "## 11n:"
   ]
  },
  {
   "cell_type": "markdown",
   "metadata": {},
   "source": [
    "INPUT: cd ..\n",
    "\n",
    "INPUT: rm -r anna_name.txt my_name.txt wilson_name.txt people/Rachel-Dudley.txt people/john_name.txt people/.john_name.txt\n",
    "\n",
    "#move back out of the people directory to be able to easily remove all files. use the flag -r which means recursive to remove directories and their contents recursively"
   ]
  },
  {
   "cell_type": "markdown",
   "metadata": {},
   "source": [
    "## 11o:"
   ]
  },
  {
   "cell_type": "markdown",
   "metadata": {},
   "source": [
    "rmdir people\n",
    "\n",
    "#rmdir means remove directory. The directory needs to be empty first to do this"
   ]
  },
  {
   "cell_type": "markdown",
   "metadata": {},
   "source": [
    "---\n",
    "\n",
    "*Use this area below as an experimental playground for the question. Feel free to leave some of the experimental code here with your submision. However, it will not be marked or reviewed. Make sure in your submission that if there is any experimental code here then running it does not interfere with running the actual solutions.*\n",
    "\n",
    "---"
   ]
  },
  {
   "cell_type": "code",
   "execution_count": null,
   "metadata": {},
   "outputs": [],
   "source": []
  },
  {
   "cell_type": "code",
   "execution_count": null,
   "metadata": {},
   "outputs": [],
   "source": []
  },
  {
   "cell_type": "code",
   "execution_count": null,
   "metadata": {},
   "outputs": [],
   "source": []
  },
  {
   "cell_type": "markdown",
   "metadata": {},
   "source": [
    "# Solution to [Question 12](https://courses.smp.uq.edu.au/MATH2504/2022/assessment_html/bighw.html#q12)"
   ]
  },
  {
   "cell_type": "code",
   "execution_count": null,
   "metadata": {},
   "outputs": [],
   "source": [
    "### Answer question 12 here (in place of this comment)"
   ]
  },
  {
   "cell_type": "markdown",
   "metadata": {},
   "source": [
    "---\n",
    "\n",
    "*Use this area below as an experimental playground for the question. Feel free to leave some of the experimental code here with your submision. However, it will not be marked or reviewed. Make sure in your submission that if there is any experimental code here then running it does not interfere with running the actual solutions.*\n",
    "\n",
    "---"
   ]
  },
  {
   "cell_type": "code",
   "execution_count": null,
   "metadata": {},
   "outputs": [],
   "source": []
  },
  {
   "cell_type": "code",
   "execution_count": null,
   "metadata": {},
   "outputs": [],
   "source": []
  },
  {
   "cell_type": "code",
   "execution_count": null,
   "metadata": {},
   "outputs": [],
   "source": []
  },
  {
   "cell_type": "code",
   "execution_count": null,
   "metadata": {},
   "outputs": [],
   "source": []
  }
 ],
 "metadata": {
  "kernelspec": {
   "display_name": "Julia 1.7.3",
   "language": "julia",
   "name": "julia-1.7"
  },
  "language_info": {
   "file_extension": ".jl",
   "mimetype": "application/julia",
   "name": "julia",
   "version": "1.7.3"
  }
 },
 "nbformat": 4,
 "nbformat_minor": 4
}
