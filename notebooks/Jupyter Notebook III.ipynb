{
 "cells": [
  {
   "cell_type": "markdown",
   "metadata": {},
   "source": [
    "### MATH2504 S2, 2022, BigHW Submission \n",
    "### Submission form III of IV "
   ]
  },
  {
   "cell_type": "markdown",
   "metadata": {},
   "source": [
    "Student #1 name: Rachel Dudley\n",
    "\n",
    "Student #1 ID:46982243\n",
    "\n",
    "Student #2 name:\n",
    "\n",
    "Student #2 ID:\n",
    "\n",
    "GitHub repo: "
   ]
  },
  {
   "cell_type": "markdown",
   "metadata": {},
   "source": [
    "---\n",
    "\n",
    "**Note: It is expected that this notebook be runnable in the sense that the marker can select \"Restart & Run All\" and all code cells of solutions will execute. This requires not to have name clashes between solutions.**\n",
    "\n",
    "---"
   ]
  },
  {
   "cell_type": "markdown",
   "metadata": {},
   "source": [
    "# Solution to [Question 10](https://courses.smp.uq.edu.au/MATH2504/2022/assessment_html/bighw.html#q10)"
   ]
  },
  {
   "cell_type": "code",
   "execution_count": null,
   "metadata": {},
   "outputs": [],
   "source": [
    "### Make this a markdown cell and state if you had any problems with git and GitHub (in place of this comment)"
   ]
  },
  {
   "cell_type": "markdown",
   "metadata": {},
   "source": [
    "# Solution to [Question 11](https://courses.smp.uq.edu.au/MATH2504/2022/assessment_html/bighw.html#q11)"
   ]
  },
  {
   "cell_type": "markdown",
   "metadata": {},
   "source": [
    "## 11a:"
   ]
  },
  {
   "cell_type": "markdown",
   "metadata": {},
   "source": [
    "INPUT:  mkdir hw2_q1            \n",
    "\n",
    "#makes a directory called hw2_q1\n",
    "\n",
    "INPUT: cd hw2_q1                \n",
    "\n",
    "#go into that new directory\n",
    "\n",
    "INPUT: pwd                     \n",
    "\n",
    "#print the present working directory\n",
    "\n",
    "\n",
    "OUTPUT: /c/Users/rachel/hw2_q1  \n",
    "\n",
    "#shows where the current workspace is"
   ]
  },
  {
   "cell_type": "markdown",
   "metadata": {},
   "source": [
    "## 11b:"
   ]
  },
  {
   "cell_type": "markdown",
   "metadata": {},
   "source": [
    "INPUT: echo \"Rachel Dudley\"\n",
    "\n",
    "#echo is a way to write text\n",
    "\n",
    "OUTPUT: Rachel Dudley\n",
    "\n",
    "#prints what was echo'd"
   ]
  },
  {
   "cell_type": "markdown",
   "metadata": {},
   "source": [
    "## 11c:"
   ]
  },
  {
   "cell_type": "markdown",
   "metadata": {},
   "source": [
    "INPUT: echo \"Rachel Dudley\" > my_name.txt\n",
    "\n",
    "#store the text into a textfile using > to direct that echo text to a location"
   ]
  },
  {
   "cell_type": "markdown",
   "metadata": {},
   "source": [
    "## 11d:"
   ]
  },
  {
   "cell_type": "markdown",
   "metadata": {},
   "source": [
    "INPUT: cat my_name.txt\n",
    "\n",
    "#cat will show the contents of the text file\n",
    "\n",
    "OUTPUT: Rachel Dudley\n",
    "\n",
    "#my_name.txt has the text \"Rachel Dudley in it\""
   ]
  },
  {
   "cell_type": "markdown",
   "metadata": {},
   "source": [
    "## 11e:"
   ]
  },
  {
   "cell_type": "markdown",
   "metadata": {},
   "source": [
    "INPUT: ls -l\n",
    "\n",
    "$the flag -l is for longline and shows information of the contents of the current location including number of bytes (stands for long listing format)\n",
    "\n",
    "OUTPUT: total 1\n",
    "-rw-r--r-- 1 rachel 197121 14 Aug 25 20:00 my_name.txt\n",
    "\n",
    "#the number of bytes is 197121\n"
   ]
  },
  {
   "cell_type": "markdown",
   "metadata": {},
   "source": [
    "## 11f:"
   ]
  },
  {
   "cell_type": "markdown",
   "metadata": {},
   "source": [
    "INPUT: cp my_name.txt my_name2.txt\n",
    "\n",
    "#cp means copy. This copies the first text file (my_name.txt) into the second one (my_name2.txt)"
   ]
  },
  {
   "cell_type": "markdown",
   "metadata": {},
   "source": [
    "## 11g:"
   ]
  },
  {
   "cell_type": "markdown",
   "metadata": {},
   "source": [
    "INPUT: mkdir people\n",
    "\n",
    "#make a new directory called people using mkdir (make directory)"
   ]
  },
  {
   "cell_type": "markdown",
   "metadata": {},
   "source": [
    "## 11h:"
   ]
  },
  {
   "cell_type": "markdown",
   "metadata": {},
   "source": [
    "INPUT: mv my_name2.txt people/Rachel_Dudley.txt\n",
    "\n",
    "#mv means move. This moves my_name2.txt to the location following the relative path people/Rachel_Dudley.txt. A relative path is a path relative to the pwd"
   ]
  },
  {
   "cell_type": "markdown",
   "metadata": {},
   "source": [
    "## 11i:"
   ]
  },
  {
   "cell_type": "markdown",
   "metadata": {},
   "source": [
    "INPUT: echo \"Wilson Wang\" > people/wilson_name.txt\n",
    "\n",
    "INPUT: echo \"Anna Smith\" > people/anna_name.txt\n",
    "\n",
    "INPUT: echo \"John Smith\" > people/john_name.txt\n",
    "\n",
    "#making 3 seperate text files and store them in the people directory with their respective names "
   ]
  },
  {
   "cell_type": "markdown",
   "metadata": {},
   "source": [
    "## 11j:"
   ]
  },
  {
   "cell_type": "markdown",
   "metadata": {},
   "source": [
    "INPUT: cd people\n",
    "\n",
    "INPUT: mv anna_name.txt ..\n",
    "\n",
    "#move into the directory where the file you want to move is stored. Then use notation \"..\" which means to climb to the earlier location"
   ]
  },
  {
   "cell_type": "markdown",
   "metadata": {},
   "source": [
    "## 11k:"
   ]
  },
  {
   "cell_type": "markdown",
   "metadata": {},
   "source": [
    "INPUT: mv wilson_name.txt /c/Users/rachel/hw2_q1\n",
    "\n",
    "#an absolute path starts at the root location and this is moving (mv) the text file to the location shown by this path"
   ]
  },
  {
   "cell_type": "markdown",
   "metadata": {},
   "source": [
    "## 11l:"
   ]
  },
  {
   "cell_type": "markdown",
   "metadata": {},
   "source": [
    "INPUT: cp john_name.txt .john_name.txt\n",
    "\n",
    "copies the john text file to a hidden file (shown with a . infront)"
   ]
  },
  {
   "cell_type": "markdown",
   "metadata": {},
   "source": [
    "## 11m:"
   ]
  },
  {
   "cell_type": "markdown",
   "metadata": {},
   "source": [
    "INPUT: ls -la\n",
    "\n",
    "OUTPUT: total 7\n",
    "\n",
    "        drwxr-xr-x 1 rachel 197121  0 Aug 25 20:19 ./\n",
    "\n",
    "        drwxr-xr-x 1 rachel 197121  0 Aug 25 20:17 ../\n",
    "\n",
    "        -rw-r--r-- 1 rachel 197121 11 Aug 25 20:19 .john_name.txt\n",
    "\n",
    "        -rw-r--r-- 1 rachel 197121 14 Aug 25 20:02 Rachel_Dudley.txt\n",
    "\n",
    "        -rw-r--r-- 1 rachel 197121 11 Aug 25 20:08 john_name.txt\n",
    "        \n",
    "#ls -la combines the 2 flags -l (described earlier) and -a which shows hidden files (it stands for all)\n"
   ]
  },
  {
   "cell_type": "markdown",
   "metadata": {},
   "source": [
    "## 11n:"
   ]
  },
  {
   "cell_type": "markdown",
   "metadata": {},
   "source": [
    "INPUT: cd ..\n",
    "\n",
    "INPUT: rm -r anna_name.txt my_name.txt wilson_name.txt people/Rachel-Dudley.txt people/john_name.txt people/.john_name.txt\n",
    "\n",
    "#move back out of the people directory to be able to easily remove all files. use the flag -r which means recursive to remove directories and their contents recursively"
   ]
  },
  {
   "cell_type": "markdown",
   "metadata": {},
   "source": [
    "## 11o:"
   ]
  },
  {
   "cell_type": "markdown",
   "metadata": {},
   "source": [
    "rmdir people\n",
    "\n",
    "#rmdir means remove directory. The directory needs to be empty first to do this"
   ]
  },
  {
   "cell_type": "markdown",
   "metadata": {},
   "source": [
    "---\n",
    "\n",
    "*Use this area below as an experimental playground for the question. Feel free to leave some of the experimental code here with your submision. However, it will not be marked or reviewed. Make sure in your submission that if there is any experimental code here then running it does not interfere with running the actual solutions.*\n",
    "\n",
    "---"
   ]
  },
  {
   "cell_type": "code",
   "execution_count": null,
   "metadata": {},
   "outputs": [],
   "source": []
  },
  {
   "cell_type": "code",
   "execution_count": null,
   "metadata": {},
   "outputs": [],
   "source": []
  },
  {
   "cell_type": "code",
   "execution_count": null,
   "metadata": {},
   "outputs": [],
   "source": []
  },
  {
   "cell_type": "markdown",
   "metadata": {},
   "source": [
    "# Solution to [Question 12](https://courses.smp.uq.edu.au/MATH2504/2022/assessment_html/bighw.html#q12)"
   ]
  },
  {
   "cell_type": "code",
   "execution_count": 7,
   "metadata": {},
   "outputs": [
    {
     "name": "stdout",
     "output_type": "stream",
     "text": [
      "60\n",
      "length(markdown_a) = 27\n",
      "typeof(markdown_a) = Vector{Any}\n",
      "length(code_a) = 33\n",
      "length(breakdown_a) = 21\n",
      "length(code_a) - length(breakdown_a) = 12\n",
      "length(source_a) = 15\n",
      "Any[Dict{String, Any}(\"cells with output\" => 21, \"cells without output\" => 12, \"Total number of cells\" => 60, \"Number of sources that have more than 5 words\" => 15, \"Number of markdown\" => 27, \"Number of code cells\" => 33)]\n"
     ]
    },
    {
     "ename": "LoadError",
     "evalue": "ArgumentError: Package CSV not found in current path:\n- Run `import Pkg; Pkg.add(\"CSV\")` to install the CSV package.\n",
     "output_type": "error",
     "traceback": [
      "ArgumentError: Package CSV not found in current path:\n- Run `import Pkg; Pkg.add(\"CSV\")` to install the CSV package.\n",
      "",
      "Stacktrace:",
      " [1] require(into::Module, mod::Symbol)",
      "   @ Base .\\loading.jl:967",
      " [2] eval",
      "   @ .\\boot.jl:373 [inlined]",
      " [3] include_string(mapexpr::typeof(REPL.softscope), mod::Module, code::String, filename::String)",
      "   @ Base .\\loading.jl:1196"
     ]
    }
   ],
   "source": [
    "using HTTP, JSON\n",
    "#This line allows the web file to be obtained\n",
    "strand_prac_B = HTTP.get(\"https://raw.githubusercontent.com/yoninazarathy/ProgrammingCourse-with-Julia-SimulationAnalysisAndLearningSystems/main/practicals_jupyter/practical_B_julia_essentials.ipynb\")\n",
    "#This parse the data to strings\n",
    "strand_web_data = JSON.parse(String(strand_prac_B.body))\n",
    "#This line prints number of cells there are in the JSON files\n",
    "println(length(strand_web_data[\"cells\"]))\n",
    "#Using filter() whichtaskes the arguement when cell_type is markdawn in the cells show the length of the markdown\n",
    "markdown_a = filter(x-> x[\"cell_type\"]==\"markdown\", strand_web_data[\"cells\"])\n",
    "@show length(markdown_a)\n",
    "@show typeof(markdown_a)\n",
    "code_a = filter(x-> x[\"cell_type\"]==\"code\", strand_web_data[\"cells\"])\n",
    "@show length(code_a)\n",
    "breakdown_a = filter(x->length(x[\"outputs\"])==0, code_a) \n",
    "#breakdown of output\n",
    "@show length(breakdown_a)\n",
    "#breakdown those that don't have output is the total number of code cells minus those with output\n",
    "@show length(code_a)-length(breakdown_a)\n",
    "#one thing that I found relevant\n",
    "#number of source that is longer than 5\n",
    "source_a = filter(x->length(x[\"source\"])>5, strand_web_data[\"cells\"])\n",
    "@show length(source_a)\n",
    "\n",
    "#problem with def of summary\n",
    "summary = Dict{String, Any}()\n",
    "summary = Any[Dict{String, Any}(\"Total number of cells\" => 60, \"Number of code cells\" => 33, \"Number of markdown\" =>27, \"cells with output\"=> 21, \"cells without output\"=>12, \"Number of sources that have more than 5 words\"=>15)]\n",
    "println(summary)\n",
    "\n",
    "using DataFrames, CSV\n",
    "CSV.write(\"markdown_summary.csv\")\n",
    "CSV.write(\"code_summary.csv\")\n",
    "hashtag_1 = Array{Int}(undef,0)\n",
    "hashtag_2 = Array{Int}(undef,0)\n",
    "hashtag_3 = Array{Int}(undef,0)\n",
    "hashtag_4 = Array{Int}(undef,0)\n",
    "for markdown in markdown_a\n",
    "    x_1 = 0\n",
    "    x_2 = 0 \n",
    "    x_3 = 0\n",
    "    x_4 = 0\n",
    "    for s in markdown[\"source\"]\n",
    "        if occursin(\"####\",s)\n",
    "            x_4 += 1\n",
    "            continue\n",
    "        end\n",
    "        if occursin(\"###\",s)\n",
    "            x_3 += 1\n",
    "            continue\n",
    "        end\n",
    "        if occursin(\"##\",s)\n",
    "            x_2 += 1\n",
    "            continue\n",
    "        end\n",
    "        if occursin(\"#\",s)\n",
    "            x_1 += 1\n",
    "        end \n",
    "    end\n",
    "    @show x_4\n",
    "    @show x_3\n",
    "    @show x_2\n",
    "    @show x_1\n",
    "end\n",
    "# markdown_s = DataFrame(hash1  = sum(x_1),\n",
    "#                         hash2 = sum(x_2),\n",
    "#                         hash3 = sum(x_3),\n",
    "#                         hash4 = sum(x_4))"
   ]
  },
  {
   "cell_type": "markdown",
   "metadata": {},
   "source": [
    "---\n",
    "\n",
    "*Use this area below as an experimental playground for the question. Feel free to leave some of the experimental code here with your submision. However, it will not be marked or reviewed. Make sure in your submission that if there is any experimental code here then running it does not interfere with running the actual solutions.*\n",
    "\n",
    "---"
   ]
  },
  {
   "cell_type": "code",
   "execution_count": 6,
   "metadata": {},
   "outputs": [
    {
     "name": "stderr",
     "output_type": "stream",
     "text": [
      "\u001b[32m\u001b[1m   Resolving\u001b[22m\u001b[39m package versions...\n",
      "\u001b[32m\u001b[1m   Installed\u001b[22m\u001b[39m GR_jll ────────────── v0.66.2+0\n",
      "\u001b[32m\u001b[1m   Installed\u001b[22m\u001b[39m StaticArraysCore ──── v1.3.0\n",
      "\u001b[32m\u001b[1m   Installed\u001b[22m\u001b[39m xkbcommon_jll ─────── v1.4.1+0\n",
      "\u001b[32m\u001b[1m   Installed\u001b[22m\u001b[39m InvertedIndices ───── v1.1.0\n",
      "\u001b[32m\u001b[1m   Installed\u001b[22m\u001b[39m RecipesPipeline ───── v0.6.3\n",
      "\u001b[32m\u001b[1m   Installed\u001b[22m\u001b[39m StaticArrays ──────── v1.5.6\n",
      "\u001b[32m\u001b[1m   Installed\u001b[22m\u001b[39m GLFW_jll ──────────── v3.3.8+0\n",
      "\u001b[32m\u001b[1m   Installed\u001b[22m\u001b[39m StatsAPI ──────────── v1.5.0\n",
      "\u001b[32m\u001b[1m   Installed\u001b[22m\u001b[39m DataFrames ────────── v1.3.4\n",
      "\u001b[32m\u001b[1m   Installed\u001b[22m\u001b[39m TranscodingStreams ── v0.9.8\n",
      "\u001b[32m\u001b[1m   Installed\u001b[22m\u001b[39m MbedTLS ───────────── v1.1.4\n",
      "\u001b[32m\u001b[1m   Installed\u001b[22m\u001b[39m Compat ────────────── v3.46.0\n",
      "\u001b[32m\u001b[1m   Installed\u001b[22m\u001b[39m StructTypes ───────── v1.9.0\n",
      "\u001b[32m\u001b[1m   Installed\u001b[22m\u001b[39m PooledArrays ──────── v1.4.2\n",
      "\u001b[32m\u001b[1m   Installed\u001b[22m\u001b[39m Extents ───────────── v0.1.1\n",
      "\u001b[32m\u001b[1m   Installed\u001b[22m\u001b[39m LogExpFunctions ───── v0.3.18\n",
      "\u001b[32m\u001b[1m   Installed\u001b[22m\u001b[39m Crayons ───────────── v4.1.1\n",
      "\u001b[32m\u001b[1m   Installed\u001b[22m\u001b[39m DocStringExtensions ─ v0.9.1\n",
      "\u001b[32m\u001b[1m   Installed\u001b[22m\u001b[39m Adapt ─────────────── v3.4.0\n",
      "\u001b[32m\u001b[1m   Installed\u001b[22m\u001b[39m StructArrays ──────── v0.6.12\n",
      "\u001b[32m\u001b[1m   Installed\u001b[22m\u001b[39m GeometryBasics ────── v0.4.3\n",
      "\u001b[32m\u001b[1m   Installed\u001b[22m\u001b[39m GeoInterface ──────── v1.0.1\n",
      "\u001b[32m\u001b[1m   Installed\u001b[22m\u001b[39m PrettyTables ──────── v1.3.1\n",
      "\u001b[32m\u001b[1m   Installed\u001b[22m\u001b[39m GR ────────────────── v0.66.2\n",
      "\u001b[32m\u001b[1m    Updating\u001b[22m\u001b[39m `C:\\Users\\kevin\\.julia\\environments\\v1.7\\Project.toml`\n",
      " \u001b[90m [a93c6f00] \u001b[39m\u001b[92m+ DataFrames v1.3.4\u001b[39m\n",
      "\u001b[32m\u001b[1m    Updating\u001b[22m\u001b[39m `C:\\Users\\kevin\\.julia\\environments\\v1.7\\Manifest.toml`\n",
      " \u001b[90m [79e6a3ab] \u001b[39m\u001b[93m↑ Adapt v3.3.3 ⇒ v3.4.0\u001b[39m\n",
      " \u001b[90m [34da2185] \u001b[39m\u001b[95m↓ Compat v4.1.0 ⇒ v3.46.0\u001b[39m\n",
      " \u001b[90m [a8cc5b0e] \u001b[39m\u001b[92m+ Crayons v4.1.1\u001b[39m\n",
      " \u001b[90m [a93c6f00] \u001b[39m\u001b[92m+ DataFrames v1.3.4\u001b[39m\n",
      " \u001b[90m [ffbed154] \u001b[39m\u001b[93m↑ DocStringExtensions v0.9.0 ⇒ v0.9.1\u001b[39m\n",
      " \u001b[90m [411431e0] \u001b[39m\u001b[92m+ Extents v0.1.1\u001b[39m\n",
      " \u001b[90m [28b8d3ca] \u001b[39m\u001b[93m↑ GR v0.66.0 ⇒ v0.66.2\u001b[39m\n",
      " \u001b[90m [cf35fbd7] \u001b[39m\u001b[92m+ GeoInterface v1.0.1\u001b[39m\n",
      " \u001b[90m [5c1252a2] \u001b[39m\u001b[93m↑ GeometryBasics v0.4.2 ⇒ v0.4.3\u001b[39m\n",
      " \u001b[90m [41ab1584] \u001b[39m\u001b[92m+ InvertedIndices v1.1.0\u001b[39m\n",
      " \u001b[90m [2ab3a3ac] \u001b[39m\u001b[93m↑ LogExpFunctions v0.3.16 ⇒ v0.3.18\u001b[39m\n",
      " \u001b[90m [739be429] \u001b[39m\u001b[93m↑ MbedTLS v1.1.1 ⇒ v1.1.4\u001b[39m\n",
      " \u001b[90m [2dfb63ee] \u001b[39m\u001b[92m+ PooledArrays v1.4.2\u001b[39m\n",
      " \u001b[90m [08abe8d2] \u001b[39m\u001b[92m+ PrettyTables v1.3.1\u001b[39m\n",
      " \u001b[90m [01d81517] \u001b[39m\u001b[93m↑ RecipesPipeline v0.6.2 ⇒ v0.6.3\u001b[39m\n",
      " \u001b[90m [90137ffa] \u001b[39m\u001b[93m↑ StaticArrays v1.5.2 ⇒ v1.5.6\u001b[39m\n",
      " \u001b[90m [1e83bf80] \u001b[39m\u001b[93m↑ StaticArraysCore v1.0.1 ⇒ v1.3.0\u001b[39m\n",
      " \u001b[90m [82ae8749] \u001b[39m\u001b[93m↑ StatsAPI v1.4.0 ⇒ v1.5.0\u001b[39m\n",
      " \u001b[90m [09ab397b] \u001b[39m\u001b[93m↑ StructArrays v0.6.11 ⇒ v0.6.12\u001b[39m\n",
      " \u001b[90m [856f2bd8] \u001b[39m\u001b[93m↑ StructTypes v1.8.1 ⇒ v1.9.0\u001b[39m\n",
      " \u001b[90m [3bb67fe8] \u001b[39m\u001b[93m↑ TranscodingStreams v0.9.6 ⇒ v0.9.8\u001b[39m\n",
      " \u001b[90m [0656b61e] \u001b[39m\u001b[93m↑ GLFW_jll v3.3.6+0 ⇒ v3.3.8+0\u001b[39m\n",
      " \u001b[90m [d2c73de3] \u001b[39m\u001b[93m↑ GR_jll v0.66.0+0 ⇒ v0.66.2+0\u001b[39m\n",
      " \u001b[90m [d8fb68d0] \u001b[39m\u001b[93m↑ xkbcommon_jll v0.9.1+5 ⇒ v1.4.1+0\u001b[39m\n",
      " \u001b[90m [8ba89e20] \u001b[39m\u001b[92m+ Distributed\u001b[39m\n",
      " \u001b[90m [9fa8497b] \u001b[39m\u001b[92m+ Future\u001b[39m\n",
      " \u001b[90m [1a1011a3] \u001b[39m\u001b[92m+ SharedArrays\u001b[39m\n",
      "\u001b[32m\u001b[1m    Building\u001b[22m\u001b[39m GR → `C:\\Users\\kevin\\.julia\\scratchspaces\\44cfe95a-1eb2-52ea-b672-e2afdf69b78f\\cf0a9940f250dc3cb6cc6c6821b4bf8a4286cf9c\\build.log`\n",
      "\u001b[32m\u001b[1mPrecompiling\u001b[22m\u001b[39m project...\n",
      "\u001b[32m  ✓ \u001b[39m\u001b[90mExtents\u001b[39m\n",
      "\u001b[32m  ✓ \u001b[39m\u001b[90mStatsAPI\u001b[39m\n",
      "\u001b[32m  ✓ \u001b[39m\u001b[90mDocStringExtensions\u001b[39m\n",
      "\u001b[32m  ✓ \u001b[39m\u001b[90mInvertedIndices\u001b[39m\n",
      "\u001b[32m  ✓ \u001b[39m\u001b[90mStructTypes\u001b[39m\n",
      "\u001b[32m  ✓ \u001b[39m\u001b[90mCompat\u001b[39m\n",
      "\u001b[32m  ✓ \u001b[39m\u001b[90mAdapt\u001b[39m\n",
      "\u001b[33m  ✓ \u001b[39m\u001b[90mTranscodingStreams\u001b[39m\n",
      "\u001b[32m  ✓ \u001b[39m\u001b[90mStaticArraysCore\u001b[39m\n",
      "\u001b[32m  ✓ \u001b[39m\u001b[90mPooledArrays\u001b[39m\n",
      "\u001b[32m  ✓ \u001b[39m\u001b[90mGeoInterface\u001b[39m\n",
      "\u001b[32m  ✓ \u001b[39m\u001b[90mxkbcommon_jll\u001b[39m\n",
      "\u001b[32m  ✓ \u001b[39m\u001b[90mGLFW_jll\u001b[39m\n",
      "\u001b[32m  ✓ \u001b[39m\u001b[90mCrayons\u001b[39m\n",
      "\u001b[33m  ✓ \u001b[39m\u001b[90mMbedTLS\u001b[39m\n",
      "\u001b[33m  ✓ \u001b[39m\u001b[90mCodecZlib\u001b[39m\n",
      "\u001b[32m  ✓ \u001b[39m\u001b[90mStructArrays\u001b[39m\n",
      "\u001b[32m  ✓ \u001b[39m\u001b[90mChainRulesCore\u001b[39m\n",
      "\u001b[32m  ✓ \u001b[39m\u001b[90mJSON3\u001b[39m\n",
      "\u001b[32m  ✓ \u001b[39m\u001b[90mDataStructures\u001b[39m\n",
      "\u001b[32m  ✓ \u001b[39m\u001b[90mQt5Base_jll\u001b[39m\n",
      "\u001b[32m  ✓ \u001b[39m\u001b[90mChangesOfVariables\u001b[39m\n",
      "\u001b[33m  ✓ \u001b[39mIJulia\n",
      "\u001b[32m  ✓ \u001b[39mMathJaxRenderer\n",
      "\u001b[32m  ✓ \u001b[39m\u001b[90mSortingAlgorithms\u001b[39m\n",
      "\u001b[33m  ✓ \u001b[39mHTTP\n",
      "\u001b[32m  ✓ \u001b[39m\u001b[90mPrettyTables\u001b[39m\n",
      "\u001b[32m  ✓ \u001b[39m\u001b[90mGR_jll\u001b[39m\n",
      "\u001b[32m  ✓ \u001b[39m\u001b[90mStaticArrays\u001b[39m\n",
      "\u001b[32m  ✓ \u001b[39m\u001b[90mLogExpFunctions\u001b[39m\n",
      "\u001b[32m  ✓ \u001b[39mStatsBase\n",
      "\u001b[32m  ✓ \u001b[39m\u001b[90mGR\u001b[39m\n",
      "\u001b[32m  ✓ \u001b[39mSpecialFunctions\n",
      "\u001b[32m  ✓ \u001b[39m\u001b[90mGeometryBasics\u001b[39m\n",
      "\u001b[32m  ✓ \u001b[39m\u001b[90mColorVectorSpace\u001b[39m\n",
      "\u001b[32m  ✓ \u001b[39m\u001b[90mColorSchemes\u001b[39m\n",
      "\u001b[32m  ✓ \u001b[39m\u001b[90mPlotUtils\u001b[39m\n",
      "\u001b[32m  ✓ \u001b[39m\u001b[90mRecipesPipeline\u001b[39m\n",
      "\u001b[32m  ✓ \u001b[39mDataFrames\n",
      "\u001b[32m  ✓ \u001b[39m\u001b[90mPlotThemes\u001b[39m\n",
      "\u001b[32m  ✓ \u001b[39mPlots\n",
      "  41 dependencies successfully precompiled in 130 seconds (120 already precompiled)\n",
      "  \u001b[33m5\u001b[39m dependencies precompiled but different versions are currently loaded. Restart julia to access the new versions\n"
     ]
    }
   ],
   "source": [
    "Pkg.add(\"DataFrames\")"
   ]
  },
  {
   "cell_type": "code",
   "execution_count": null,
   "metadata": {},
   "outputs": [],
   "source": []
  },
  {
   "cell_type": "code",
   "execution_count": null,
   "metadata": {},
   "outputs": [],
   "source": []
  },
  {
   "cell_type": "code",
   "execution_count": null,
   "metadata": {},
   "outputs": [],
   "source": []
  }
 ],
 "metadata": {
  "kernelspec": {
   "display_name": "Julia 1.7.3",
   "language": "julia",
   "name": "julia-1.7"
  },
  "language_info": {
   "file_extension": ".jl",
   "mimetype": "application/julia",
   "name": "julia",
   "version": "1.7.3"
  }
 },
 "nbformat": 4,
 "nbformat_minor": 4
}
